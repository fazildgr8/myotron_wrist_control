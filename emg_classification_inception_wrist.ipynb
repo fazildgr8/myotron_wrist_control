{
 "cells": [
  {
   "cell_type": "markdown",
   "metadata": {},
   "source": [
    "# InceptionTime Model \n",
    "# on Time Series EMG Classification on Ninapro Dataset [Wrist Motions]\n",
    "\n",
    "InceptionTime is a 1D Convolution based Deep Neural Network model which is currently quoted as the state of the art TSC model from the published paper [InceptionTime: Finding AlexNet for Time Series Classification](https://arxiv.org/abs/1909.04939).\n",
    "\n",
    "#### Understanding Data\n",
    "Input data will be a 2D matrix which has rows as the time-step and columns as emg channels.\n",
    "Window Length X No.EMG Sensors\n",
    "\n",
    "#### Model Accuracy  Results"
   ]
  },
  {
   "cell_type": "code",
   "execution_count": 27,
   "metadata": {},
   "outputs": [],
   "source": [
    "import numpy as np\n",
    "import pandas as pd\n",
    "import datetime\n",
    "import matplotlib.pyplot as plt\n",
    "import glob\n",
    "import warnings\n",
    "# warnings.filterwarnings(action='once')\n",
    "# warnings.filterwarnings('ignore')\n",
    "# warnings.simplefilter('ignore')"
   ]
  },
  {
   "cell_type": "markdown",
   "metadata": {},
   "source": [
    "## Import the Prepared Datasets"
   ]
  },
  {
   "cell_type": "code",
   "execution_count": 46,
   "metadata": {},
   "outputs": [],
   "source": [
    "X = np.load('prepared_data/X_all_wrist_150_30.npy')\n",
    "y = np.load('prepared_data/Y_hot_all_wrist_150_30.npy')"
   ]
  },
  {
   "cell_type": "code",
   "execution_count": 47,
   "metadata": {},
   "outputs": [
    {
     "data": {
      "text/plain": [
       "(1094599, 150, 12)"
      ]
     },
     "execution_count": 47,
     "metadata": {},
     "output_type": "execute_result"
    }
   ],
   "source": [
    "X = np.reshape(X,(X.shape[0],X.shape[1],X.shape[2]))\n",
    "X.shape"
   ]
  },
  {
   "cell_type": "code",
   "execution_count": 48,
   "metadata": {},
   "outputs": [
    {
     "data": {
      "text/plain": [
       "(1094599, 10)"
      ]
     },
     "execution_count": 48,
     "metadata": {},
     "output_type": "execute_result"
    }
   ],
   "source": [
    "y.shape"
   ]
  },
  {
   "cell_type": "markdown",
   "metadata": {},
   "source": [
    "### Merge, Shuffle and Split"
   ]
  },
  {
   "cell_type": "code",
   "execution_count": null,
   "metadata": {},
   "outputs": [],
   "source": [
    "from keras.utils import to_categorical\n",
    "from sklearn.model_selection import train_test_split\n",
    "\n",
    "X_train, X_test, y_train, y_test = train_test_split(X,y,test_size=0.2,shuffle=True)"
   ]
  },
  {
   "cell_type": "markdown",
   "metadata": {},
   "source": [
    "##### Keep only 8 EMG data"
   ]
  },
  {
   "cell_type": "code",
   "execution_count": null,
   "metadata": {},
   "outputs": [],
   "source": [
    "from tqdm.notebook import trange, tqdm\n",
    "def rm_columns(X,n):\n",
    "#     X_r = list(np.zeros((X.shape[0],X.shape[1],X.shape[2]-n)))\n",
    "    X_r = []\n",
    "    for i in tqdm(range(len(X))):\n",
    "        d = np.copy(X[i])\n",
    "        for i in range(n):\n",
    "            d = np.delete(d, -1, 1)\n",
    "        X_r.append(d)\n",
    "    return np.array(X_r)"
   ]
  },
  {
   "cell_type": "code",
   "execution_count": null,
   "metadata": {},
   "outputs": [],
   "source": [
    "X_train = rm_columns(X_train,4)\n",
    "X_test = rm_columns(X_test,4)"
   ]
  },
  {
   "cell_type": "code",
   "execution_count": null,
   "metadata": {},
   "outputs": [],
   "source": [
    "print('X Train Shape =',X_train.shape)\n",
    "print('Y Train Shape =',y_train.shape)\n",
    "print('X Test Shape =',X_test.shape)\n",
    "print('Y Test Shape =',y_test.shape)"
   ]
  },
  {
   "cell_type": "code",
   "execution_count": null,
   "metadata": {},
   "outputs": [],
   "source": [
    "y_true = []\n",
    "for d in y_test:\n",
    "    idx = list(d).index(1)\n",
    "    y_true.append(idx)"
   ]
  },
  {
   "cell_type": "code",
   "execution_count": null,
   "metadata": {},
   "outputs": [],
   "source": [
    "import numpy as np\n",
    "import sklearn\n",
    "import pandas as pd\n",
    "import sys\n",
    "import subprocess\n",
    "import tensorflow as tf\n",
    "from InceptionTime.classifiers.inception import Classifier_INCEPTION"
   ]
  },
  {
   "cell_type": "code",
   "execution_count": null,
   "metadata": {
    "scrolled": true
   },
   "outputs": [],
   "source": [
    " clf = Classifier_INCEPTION('', (X_train.shape[1],X_train.shape[2]),nb_classes=10,\n",
    "                            verbose=True,batch_size=1000,nb_epochs=10,nb_filters=32,\n",
    "                            depth=6, kernel_size=25)"
   ]
  },
  {
   "cell_type": "code",
   "execution_count": null,
   "metadata": {
    "scrolled": true
   },
   "outputs": [],
   "source": [
    "df_metrics = clf.fit(X_train, y_train, X_test, y_test, y_true,plot_test_acc=True)"
   ]
  },
  {
   "cell_type": "markdown",
   "metadata": {},
   "source": [
    "## Plot Results"
   ]
  },
  {
   "cell_type": "code",
   "execution_count": 22,
   "metadata": {},
   "outputs": [],
   "source": [
    "%matplotlib inline\n",
    "metrics_df = pd.read_csv('df_metrics.csv')\n",
    "best_model_df = pd.read_csv('df_best_model.csv')\n",
    "history_df = pd.read_csv('history.csv')"
   ]
  },
  {
   "cell_type": "code",
   "execution_count": 23,
   "metadata": {},
   "outputs": [
    {
     "data": {
      "text/html": [
       "<div>\n",
       "<style scoped>\n",
       "    .dataframe tbody tr th:only-of-type {\n",
       "        vertical-align: middle;\n",
       "    }\n",
       "\n",
       "    .dataframe tbody tr th {\n",
       "        vertical-align: top;\n",
       "    }\n",
       "\n",
       "    .dataframe thead th {\n",
       "        text-align: right;\n",
       "    }\n",
       "</style>\n",
       "<table border=\"1\" class=\"dataframe\">\n",
       "  <thead>\n",
       "    <tr style=\"text-align: right;\">\n",
       "      <th></th>\n",
       "      <th>precision</th>\n",
       "      <th>accuracy</th>\n",
       "      <th>recall</th>\n",
       "      <th>duration</th>\n",
       "    </tr>\n",
       "  </thead>\n",
       "  <tbody>\n",
       "    <tr>\n",
       "      <th>0</th>\n",
       "      <td>0.717579</td>\n",
       "      <td>0.915471</td>\n",
       "      <td>0.616061</td>\n",
       "      <td>2711.001117</td>\n",
       "    </tr>\n",
       "  </tbody>\n",
       "</table>\n",
       "</div>"
      ],
      "text/plain": [
       "   precision  accuracy    recall     duration\n",
       "0   0.717579  0.915471  0.616061  2711.001117"
      ]
     },
     "execution_count": 23,
     "metadata": {},
     "output_type": "execute_result"
    }
   ],
   "source": [
    "metrics_df"
   ]
  },
  {
   "cell_type": "code",
   "execution_count": 24,
   "metadata": {},
   "outputs": [
    {
     "data": {
      "text/plain": [
       "<AxesSubplot:title={'center':'Loss'}>"
      ]
     },
     "execution_count": 24,
     "metadata": {},
     "output_type": "execute_result"
    },
    {
     "data": {
      "image/png": "[encoded data removed]",
      "text/plain": [
       "<Figure size 1008x576 with 1 Axes>"
      ]
     },
     "metadata": {
      "needs_background": "light"
     },
     "output_type": "display_data"
    },
    {
     "data": {
      "image/png": "[encoded data removed]",
      "text/plain": [
       "<Figure size 1008x576 with 1 Axes>"
      ]
     },
     "metadata": {
      "needs_background": "light"
     },
     "output_type": "display_data"
    }
   ],
   "source": [
    "history_df[['accuracy','val_accuracy']].plot(figsize=(14,8),title='Accuracy',grid=True,fontsize=15)\n",
    "history_df[['loss','val_loss']].plot(figsize=(14,8),title='Loss',grid=True,fontsize=15)"
   ]
  },
  {
   "cell_type": "markdown",
   "metadata": {},
   "source": [
    "# Import Model and Classify Function Definition"
   ]
  },
  {
   "cell_type": "code",
   "execution_count": null,
   "metadata": {},
   "outputs": [],
   "source": [
    "from keras.models import load_model\n",
    "from sklearn.preprocessing import MinMaxScaler\n",
    "\n",
    "model = load_model('best_model_93.hdf5')\n",
    "# model.summary()\n",
    "\n",
    "def classify_emg(data):\n",
    "    data = np.array(data) \n",
    "    data = np.reshape(data,(1,20,5))\n",
    "    pred = model.predict(data,batch_size=1)[0]\n",
    "#     print(pred)\n",
    "    if(pred[0]>pred[1]):\n",
    "        return 'Pronation'\n",
    "    else:\n",
    "        return 'Radial'"
   ]
  },
  {
   "cell_type": "markdown",
   "metadata": {},
   "source": [
    "## Real time CNN Classifier Example\n",
    "**Input Data** - The single Input data matrix sent in 20Khz freaquency,Has rows as time steps and columns as feature"
   ]
  },
  {
   "cell_type": "markdown",
   "metadata": {},
   "source": [
    "### Input Sequence Data from DF"
   ]
  },
  {
   "cell_type": "code",
   "execution_count": null,
   "metadata": {
    "scrolled": false
   },
   "outputs": [],
   "source": [
    "# Total Pronation sequences = 330709\n",
    "# Total Radial sequences = 148426 \n",
    "\n",
    "sequence = 50 \n",
    "\n",
    "df = pronation_df.reset_index(drop=True)\n",
    "# df = radial_df.reset_index(drop=True)\n",
    "\n",
    "data = df.loc[sequence*10:sequence*10+19] # The 20 step data Input Matrix\n",
    "print('Input Data')\n",
    "print(data.drop(['Label'],1).shape)\n",
    "data"
   ]
  },
  {
   "cell_type": "code",
   "execution_count": null,
   "metadata": {},
   "outputs": [],
   "source": [
    "print('True = ',data['Label'].tolist()[0])\n",
    "data = data.drop(['Label'],1)\n",
    "print('Predicted = ',classify_emg(data)) # Predict"
   ]
  },
  {
   "cell_type": "markdown",
   "metadata": {},
   "source": [
    "### with Testing Dataset"
   ]
  },
  {
   "cell_type": "code",
   "execution_count": null,
   "metadata": {},
   "outputs": [],
   "source": [
    "n = 2 \n",
    "data = X_test[n] \n",
    "true = y_test[n]\n",
    "print('Input shape = ',data.shape)\n"
   ]
  },
  {
   "cell_type": "code",
   "execution_count": null,
   "metadata": {},
   "outputs": [],
   "source": [
    "if(true[0]==1):\n",
    "    print('True = Pronation')\n",
    "else:\n",
    "    print('True = Radial')\n",
    "print('Predicted = ',classify_emg(data)) # Predict"
   ]
  }
 ],
 "metadata": {
  "kernelspec": {
   "display_name": "Python 3.8.0 64-bit",
   "language": "python",
   "name": "python38064bitcaed634bb72a48a5bf9eda0dc4f94389"
  },
  "language_info": {
   "codemirror_mode": {
    "name": "ipython",
    "version": 3
   },
   "file_extension": ".py",
   "mimetype": "text/x-python",
   "name": "python",
   "nbconvert_exporter": "python",
   "pygments_lexer": "ipython3",
   "version": "3.8.5"
  }
 },
 "nbformat": 4,
 "nbformat_minor": 4
}
