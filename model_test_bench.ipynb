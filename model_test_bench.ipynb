{
 "cells": [
  {
   "cell_type": "markdown",
   "metadata": {},
   "source": [
    "# Model Test Bench"
   ]
  },
  {
   "cell_type": "code",
   "execution_count": 1,
   "metadata": {},
   "outputs": [],
   "source": [
    "from keras.models import load_model\n",
    "import pandas as pd\n",
    "import numpy as np\n",
    "import matplotlib.pyplot as plt\n",
    "from scipy.signal import butter\n",
    "from hampel import hampel\n",
    "from tqdm.notebook import trange, tqdm\n",
    "from sklearn.preprocessing import MinMaxScaler\n",
    "from sklearn.preprocessing import StandardScaler\n",
    "import h5py"
   ]
  },
  {
   "cell_type": "code",
   "execution_count": 2,
   "metadata": {},
   "outputs": [
    {
     "data": {
      "text/html": [
       "<div>\n",
       "<style scoped>\n",
       "    .dataframe tbody tr th:only-of-type {\n",
       "        vertical-align: middle;\n",
       "    }\n",
       "\n",
       "    .dataframe tbody tr th {\n",
       "        vertical-align: top;\n",
       "    }\n",
       "\n",
       "    .dataframe thead th {\n",
       "        text-align: right;\n",
       "    }\n",
       "</style>\n",
       "<table border=\"1\" class=\"dataframe\">\n",
       "  <thead>\n",
       "    <tr style=\"text-align: right;\">\n",
       "      <th></th>\n",
       "      <th>t[s]</th>\n",
       "      <th>emg1</th>\n",
       "      <th>emg2</th>\n",
       "      <th>emg3</th>\n",
       "      <th>emg4</th>\n",
       "      <th>emg5</th>\n",
       "      <th>emg6</th>\n",
       "      <th>emg7</th>\n",
       "      <th>emg8</th>\n",
       "      <th>labels</th>\n",
       "    </tr>\n",
       "  </thead>\n",
       "  <tbody>\n",
       "    <tr>\n",
       "      <th>0</th>\n",
       "      <td>859880</td>\n",
       "      <td>4.020336e-06</td>\n",
       "      <td>3.576222e-07</td>\n",
       "      <td>-1.224552e-06</td>\n",
       "      <td>9.989841e-07</td>\n",
       "      <td>-4.281166e-07</td>\n",
       "      <td>-7.940087e-07</td>\n",
       "      <td>-0.000012</td>\n",
       "      <td>-0.000007</td>\n",
       "      <td>1</td>\n",
       "    </tr>\n",
       "    <tr>\n",
       "      <th>1</th>\n",
       "      <td>859881</td>\n",
       "      <td>3.349212e-06</td>\n",
       "      <td>-1.458975e-07</td>\n",
       "      <td>-1.560250e-06</td>\n",
       "      <td>4.956104e-07</td>\n",
       "      <td>1.211436e-07</td>\n",
       "      <td>-2.304278e-06</td>\n",
       "      <td>-0.000011</td>\n",
       "      <td>-0.000007</td>\n",
       "      <td>1</td>\n",
       "    </tr>\n",
       "    <tr>\n",
       "      <th>2</th>\n",
       "      <td>859882</td>\n",
       "      <td>3.349484e-06</td>\n",
       "      <td>8.612258e-07</td>\n",
       "      <td>1.182418e-07</td>\n",
       "      <td>1.502881e-06</td>\n",
       "      <td>2.178858e-08</td>\n",
       "      <td>-2.303903e-06</td>\n",
       "      <td>-0.000011</td>\n",
       "      <td>-0.000006</td>\n",
       "      <td>1</td>\n",
       "    </tr>\n",
       "    <tr>\n",
       "      <th>3</th>\n",
       "      <td>859883</td>\n",
       "      <td>4.356853e-06</td>\n",
       "      <td>8.612530e-07</td>\n",
       "      <td>2.300282e-06</td>\n",
       "      <td>3.852945e-06</td>\n",
       "      <td>-2.602581e-07</td>\n",
       "      <td>-1.296432e-06</td>\n",
       "      <td>-0.000011</td>\n",
       "      <td>-0.000003</td>\n",
       "      <td>1</td>\n",
       "    </tr>\n",
       "    <tr>\n",
       "      <th>4</th>\n",
       "      <td>859884</td>\n",
       "      <td>6.035617e-06</td>\n",
       "      <td>1.898822e-07</td>\n",
       "      <td>1.628885e-06</td>\n",
       "      <td>5.867310e-06</td>\n",
       "      <td>-3.822630e-07</td>\n",
       "      <td>4.673569e-08</td>\n",
       "      <td>-0.000012</td>\n",
       "      <td>-0.000002</td>\n",
       "      <td>1</td>\n",
       "    </tr>\n",
       "    <tr>\n",
       "      <th>...</th>\n",
       "      <td>...</td>\n",
       "      <td>...</td>\n",
       "      <td>...</td>\n",
       "      <td>...</td>\n",
       "      <td>...</td>\n",
       "      <td>...</td>\n",
       "      <td>...</td>\n",
       "      <td>...</td>\n",
       "      <td>...</td>\n",
       "      <td>...</td>\n",
       "    </tr>\n",
       "    <tr>\n",
       "      <th>412819</th>\n",
       "      <td>1185326</td>\n",
       "      <td>1.737583e-06</td>\n",
       "      <td>-1.536634e-07</td>\n",
       "      <td>2.693880e-07</td>\n",
       "      <td>9.109114e-06</td>\n",
       "      <td>-2.774911e-06</td>\n",
       "      <td>3.383996e-06</td>\n",
       "      <td>-0.000005</td>\n",
       "      <td>0.000004</td>\n",
       "      <td>0</td>\n",
       "    </tr>\n",
       "    <tr>\n",
       "      <th>412820</th>\n",
       "      <td>1185327</td>\n",
       "      <td>3.214152e-06</td>\n",
       "      <td>2.367024e-07</td>\n",
       "      <td>1.612182e-06</td>\n",
       "      <td>9.948470e-06</td>\n",
       "      <td>-4.117855e-06</td>\n",
       "      <td>4.558857e-06</td>\n",
       "      <td>-0.000007</td>\n",
       "      <td>0.000004</td>\n",
       "      <td>0</td>\n",
       "    </tr>\n",
       "    <tr>\n",
       "      <th>412821</th>\n",
       "      <td>1185328</td>\n",
       "      <td>1.010438e-06</td>\n",
       "      <td>-2.138706e-07</td>\n",
       "      <td>1.780031e-06</td>\n",
       "      <td>9.780731e-06</td>\n",
       "      <td>-2.103816e-06</td>\n",
       "      <td>5.565867e-06</td>\n",
       "      <td>-0.000008</td>\n",
       "      <td>0.000006</td>\n",
       "      <td>0</td>\n",
       "    </tr>\n",
       "    <tr>\n",
       "      <th>412822</th>\n",
       "      <td>1185329</td>\n",
       "      <td>-1.511917e-06</td>\n",
       "      <td>-2.677504e-06</td>\n",
       "      <td>1.015388e-07</td>\n",
       "      <td>9.948690e-06</td>\n",
       "      <td>1.253018e-06</td>\n",
       "      <td>5.565783e-06</td>\n",
       "      <td>-0.000007</td>\n",
       "      <td>0.000006</td>\n",
       "      <td>0</td>\n",
       "    </tr>\n",
       "    <tr>\n",
       "      <th>412823</th>\n",
       "      <td>1185330</td>\n",
       "      <td>-8.238377e-07</td>\n",
       "      <td>-3.458716e-06</td>\n",
       "      <td>-2.584049e-06</td>\n",
       "      <td>1.162729e-05</td>\n",
       "      <td>1.085019e-06</td>\n",
       "      <td>5.397851e-06</td>\n",
       "      <td>-0.000008</td>\n",
       "      <td>0.000005</td>\n",
       "      <td>0</td>\n",
       "    </tr>\n",
       "  </tbody>\n",
       "</table>\n",
       "<p>412824 rows × 10 columns</p>\n",
       "</div>"
      ],
      "text/plain": [
       "           t[s]          emg1          emg2          emg3          emg4  \\\n",
       "0        859880  4.020336e-06  3.576222e-07 -1.224552e-06  9.989841e-07   \n",
       "1        859881  3.349212e-06 -1.458975e-07 -1.560250e-06  4.956104e-07   \n",
       "2        859882  3.349484e-06  8.612258e-07  1.182418e-07  1.502881e-06   \n",
       "3        859883  4.356853e-06  8.612530e-07  2.300282e-06  3.852945e-06   \n",
       "4        859884  6.035617e-06  1.898822e-07  1.628885e-06  5.867310e-06   \n",
       "...         ...           ...           ...           ...           ...   \n",
       "412819  1185326  1.737583e-06 -1.536634e-07  2.693880e-07  9.109114e-06   \n",
       "412820  1185327  3.214152e-06  2.367024e-07  1.612182e-06  9.948470e-06   \n",
       "412821  1185328  1.010438e-06 -2.138706e-07  1.780031e-06  9.780731e-06   \n",
       "412822  1185329 -1.511917e-06 -2.677504e-06  1.015388e-07  9.948690e-06   \n",
       "412823  1185330 -8.238377e-07 -3.458716e-06 -2.584049e-06  1.162729e-05   \n",
       "\n",
       "                emg5          emg6      emg7      emg8  labels  \n",
       "0      -4.281166e-07 -7.940087e-07 -0.000012 -0.000007       1  \n",
       "1       1.211436e-07 -2.304278e-06 -0.000011 -0.000007       1  \n",
       "2       2.178858e-08 -2.303903e-06 -0.000011 -0.000006       1  \n",
       "3      -2.602581e-07 -1.296432e-06 -0.000011 -0.000003       1  \n",
       "4      -3.822630e-07  4.673569e-08 -0.000012 -0.000002       1  \n",
       "...              ...           ...       ...       ...     ...  \n",
       "412819 -2.774911e-06  3.383996e-06 -0.000005  0.000004       0  \n",
       "412820 -4.117855e-06  4.558857e-06 -0.000007  0.000004       0  \n",
       "412821 -2.103816e-06  5.565867e-06 -0.000008  0.000006       0  \n",
       "412822  1.253018e-06  5.565783e-06 -0.000007  0.000006       0  \n",
       "412823  1.085019e-06  5.397851e-06 -0.000008  0.000005       0  \n",
       "\n",
       "[412824 rows x 10 columns]"
      ]
     },
     "execution_count": 2,
     "metadata": {},
     "output_type": "execute_result"
    }
   ],
   "source": [
    "# df = pd.read_excel('Myotron_Controll_codes/sim_data/prosup_raw_200s_labeled.xlsx')\n",
    "df = pd.read_csv('prepared_data/restprosup_nina_raw.csv')\n",
    "df"
   ]
  },
  {
   "cell_type": "code",
   "execution_count": 3,
   "metadata": {},
   "outputs": [],
   "source": [
    "def make_windowed(data,win_len,win_inc):\n",
    "    nb = data.shape[0]\n",
    "    X = []\n",
    "    inc = 0\n",
    "    i = 0\n",
    "    while True:\n",
    "        if(i==1):\n",
    "            inc=win_inc\n",
    "        if(data[i+win_inc:i+win_len+win_inc].shape[0]!=win_len):\n",
    "            break\n",
    "#         print(data[i+win_inc:i+win_len+win_inc].shape,' ',i)\n",
    "        X.append(data[i+win_inc:i+win_len+win_inc])\n",
    "        i=i+1\n",
    "    # np.save(\"prepared_data/X\", X)\n",
    "    return np.array(X)\n",
    "def make_windowed_labels(y_label,win_len,win_inc):\n",
    "    y_windowed = make_windowed(y_label,win_len,win_inc)\n",
    "    Y = []\n",
    "    for x in y_windowed:\n",
    "        Y.append(np.bincount(x).argmax())\n",
    "    return np.array(Y)\n",
    "def one_hot(data,n_variables):\n",
    "    n = len(data)\n",
    "    Y = np.zeros((n,n_variables))\n",
    "    for i in range(n):\n",
    "        t = data[i]\n",
    "        Y[i][t] = 1\n",
    "    return Y\n",
    "def normalize_whole(df):\n",
    "    emg_labels = ['emg1','emg2','emg3','emg4','emg5','emg6','emg7','emg8']\n",
    "    emg_df = df[emg_labels]\n",
    "    scaler = StandardScaler(with_mean=True,\n",
    "                            with_std=True,\n",
    "                            copy=False).fit(emg_df)\n",
    "#     print(scaler.mean_)\n",
    "#     print(scaler.scale_)\n",
    "#     print(scaler.n_features_in_)\n",
    "#     print(scaler.n_samples_seen_)\n",
    "#     print(scaler.var_)\n",
    "    emg_df = scaler.transform(emg_df)\n",
    "    df[emg_labels] = emg_df\n",
    "    return df, scaler\n",
    "\n",
    "def normalize_whole_minmax(df):\n",
    "    emg_labels = ['emg1','emg2','emg3','emg4','emg5','emg6','emg7','emg8']\n",
    "    emg_df = df[emg_labels]\n",
    "    scaler = MinMaxScaler()\n",
    "    scaler.fit(emg_df)\n",
    "#     print(scaler.mean_)\n",
    "#     print(scaler.scale_)\n",
    "#     print(scaler.n_features_in_)\n",
    "#     print(scaler.n_samples_seen_)\n",
    "#     print(scaler.var_)\n",
    "    emg_df = scaler.transform(emg_df)\n",
    "    df[emg_labels] = emg_df\n",
    "    return df, scaler"
   ]
  },
  {
   "cell_type": "code",
   "execution_count": 4,
   "metadata": {},
   "outputs": [
    {
     "data": {
      "text/plain": [
       "['prepared_data/restprosup_nina_minmax_scaler.pkl']"
      ]
     },
     "execution_count": 4,
     "metadata": {},
     "output_type": "execute_result"
    }
   ],
   "source": [
    "# df,scaler = normalize_whole(df) # Only for Nina Prep\n",
    "df,scaler = normalize_whole_minmax(df)\n",
    "import joblib\n",
    "joblib.dump(scaler, 'prepared_data/restprosup_nina_minmax_scaler.pkl') "
   ]
  },
  {
   "cell_type": "code",
   "execution_count": 5,
   "metadata": {},
   "outputs": [],
   "source": [
    "emg_labels = ['emg1','emg2','emg3','emg4','emg5','emg6','emg7','emg8']\n",
    "\n",
    "# rein_emg_labels = ['emg8','emg1','emg2','emg3','emg4','emg5','emg6','emg7']\n",
    "# all_labels = ['t[s]']+ rein_emg_labels + ['labels']\n",
    "# rdf = df.reindex(columns=all_labels)\n",
    "X = make_windowed(np.array(df[emg_labels]),1000,200)"
   ]
  },
  {
   "cell_type": "code",
   "execution_count": 6,
   "metadata": {},
   "outputs": [
    {
     "data": {
      "text/plain": [
       "(411625, 1000, 8)"
      ]
     },
     "execution_count": 6,
     "metadata": {},
     "output_type": "execute_result"
    }
   ],
   "source": [
    "X.shape"
   ]
  },
  {
   "cell_type": "code",
   "execution_count": 7,
   "metadata": {},
   "outputs": [
    {
     "data": {
      "text/plain": [
       "(411625, 3)"
      ]
     },
     "execution_count": 7,
     "metadata": {},
     "output_type": "execute_result"
    }
   ],
   "source": [
    "y_label = np.array(df['labels'])\n",
    "Y = make_windowed_labels(y_label,1000,200)\n",
    "y = one_hot(Y,3)\n",
    "y.shape"
   ]
  },
  {
   "cell_type": "code",
   "execution_count": 8,
   "metadata": {},
   "outputs": [],
   "source": [
    "del df"
   ]
  },
  {
   "cell_type": "code",
   "execution_count": null,
   "metadata": {},
   "outputs": [],
   "source": [
    "np.save('prepared_data/X',X)\n",
    "np.save('prepared_data/y',y)"
   ]
  },
  {
   "cell_type": "code",
   "execution_count": null,
   "metadata": {},
   "outputs": [],
   "source": [
    "del X, Y, y"
   ]
  },
  {
   "cell_type": "markdown",
   "metadata": {},
   "source": [
    "# Model Test"
   ]
  },
  {
   "cell_type": "code",
   "execution_count": null,
   "metadata": {},
   "outputs": [],
   "source": [
    "def classify(data,model):\n",
    "    data = np.reshape(data,(1,win_len,n_channels))\n",
    "    soft = model.predict(data,batch_size=1)\n",
    "    clf = np.argmax(np.array(soft))\n",
    "    return clf"
   ]
  },
  {
   "cell_type": "code",
   "execution_count": null,
   "metadata": {},
   "outputs": [],
   "source": [
    "model_file = 'models/restprosup_nina_model_250'\n",
    "model = load_model(model_file)"
   ]
  },
  {
   "cell_type": "code",
   "execution_count": null,
   "metadata": {},
   "outputs": [],
   "source": [
    "model.evaluate(X,y,batch_size=64)"
   ]
  },
  {
   "cell_type": "markdown",
   "metadata": {},
   "source": [
    "# InceptionTime Trainer"
   ]
  },
  {
   "cell_type": "code",
   "execution_count": null,
   "metadata": {},
   "outputs": [],
   "source": [
    "X = np.load('prepared_data/X.npy')\n",
    "y = np.load('prepared_data/y.npy')"
   ]
  },
  {
   "cell_type": "code",
   "execution_count": 10,
   "metadata": {},
   "outputs": [],
   "source": [
    "from keras.utils import to_categorical\n",
    "from sklearn.model_selection import train_test_split\n",
    "\n",
    "X_train, X_test, y_train, y_test = train_test_split(X,y,test_size=0.2,shuffle=True)"
   ]
  },
  {
   "cell_type": "code",
   "execution_count": null,
   "metadata": {},
   "outputs": [],
   "source": [
    "X_train, X_test, y_train, y_test = X[:500000], X[500000:], y[:500000], y[500000:]"
   ]
  },
  {
   "cell_type": "code",
   "execution_count": null,
   "metadata": {},
   "outputs": [],
   "source": [
    "del X,y"
   ]
  },
  {
   "cell_type": "code",
   "execution_count": null,
   "metadata": {},
   "outputs": [],
   "source": [
    "y_true = []\n",
    "for d in y_test:\n",
    "    idx = list(d).index(1)\n",
    "    y_true.append(idx)"
   ]
  },
  {
   "cell_type": "code",
   "execution_count": null,
   "metadata": {},
   "outputs": [],
   "source": [
    "print('X Train Shape =',X_train.shape)\n",
    "print('Y Train Shape =',y_train.shape)\n",
    "print('X Test Shape =',X_test.shape)\n",
    "print('Y Test Shape =',y_test.shape)"
   ]
  },
  {
   "cell_type": "code",
   "execution_count": 11,
   "metadata": {},
   "outputs": [],
   "source": [
    "ds = [X_train, X_test, y_train, y_test]\n",
    "ds_name = ['X_train', 'X_test', 'y_train', 'y_test']\n",
    "for i in range(len(ds_name)):\n",
    "    np.save('prepared_data/'+ds_name[i],ds[i])"
   ]
  },
  {
   "cell_type": "code",
   "execution_count": null,
   "metadata": {},
   "outputs": [],
   "source": [
    "X_train = np.load('prepared_data/X_train.npy')\n",
    "X_test = np.load('prepared_data/X_test.npy')\n",
    "y_train = np.load('prepared_data/y_train.npy')\n",
    "y_test = np.load('prepared_data/y_test.npy')"
   ]
  },
  {
   "cell_type": "markdown",
   "metadata": {},
   "source": [
    "## Build New Model"
   ]
  },
  {
   "cell_type": "code",
   "execution_count": null,
   "metadata": {},
   "outputs": [],
   "source": [
    "import numpy as np\n",
    "import sklearn\n",
    "import pandas as pd\n",
    "import sys\n",
    "import subprocess\n",
    "import tensorflow as tf\n",
    "from InceptionTime.classifiers.inception import Classifier_INCEPTION"
   ]
  },
  {
   "cell_type": "code",
   "execution_count": null,
   "metadata": {
    "scrolled": true
   },
   "outputs": [],
   "source": [
    " clf = Classifier_INCEPTION('', (X_train.shape[1],X_train.shape[2]),nb_classes=3,\n",
    "                            verbose=True,batch_size=64,nb_epochs=25,nb_filters=16,\n",
    "                            depth=1, kernel_size=11)"
   ]
  },
  {
   "cell_type": "code",
   "execution_count": null,
   "metadata": {},
   "outputs": [],
   "source": [
    "clf.model = load_model('best_model.hdf5') # if continuing Training\n",
    "# clf.model = load_model('models/restprosup_fazil_model_250')"
   ]
  },
  {
   "cell_type": "code",
   "execution_count": null,
   "metadata": {},
   "outputs": [],
   "source": [
    "df_metrics = clf.fit(X_train, y_train, X_test, y_test, y_true,plot_test_acc=True)"
   ]
  },
  {
   "cell_type": "code",
   "execution_count": null,
   "metadata": {},
   "outputs": [],
   "source": [
    "from keras.models import load_model\n",
    "best_model = load_model('best_model.hdf5')\n",
    "best_model.save('models/restprosup_nina_model_{}'.format(1000))"
   ]
  }
 ],
 "metadata": {
  "kernelspec": {
   "display_name": "Python 3.8.0 64-bit",
   "language": "python",
   "name": "python38064bitcaed634bb72a48a5bf9eda0dc4f94389"
  },
  "language_info": {
   "codemirror_mode": {
    "name": "ipython",
    "version": 3
   },
   "file_extension": ".py",
   "mimetype": "text/x-python",
   "name": "python",
   "nbconvert_exporter": "python",
   "pygments_lexer": "ipython3",
   "version": "3.8.5"
  }
 },
 "nbformat": 4,
 "nbformat_minor": 4
}
