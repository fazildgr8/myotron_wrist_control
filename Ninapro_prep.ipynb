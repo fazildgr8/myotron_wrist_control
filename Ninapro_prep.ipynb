{
 "cells": [
  {
   "cell_type": "markdown",
   "metadata": {},
   "source": [
    "# Ninapro DB2 Dataset Preparation Pipeline"
   ]
  },
  {
   "cell_type": "code",
   "execution_count": 1,
   "metadata": {},
   "outputs": [],
   "source": [
    "import pandas as pd\n",
    "import numpy as np\n",
    "from scipy.io import loadmat\n",
    "from sklearn.preprocessing import OneHotEncoder"
   ]
  },
  {
   "cell_type": "code",
   "execution_count": 2,
   "metadata": {},
   "outputs": [],
   "source": [
    "path = \"Ninapro_DB2\""
   ]
  },
  {
   "cell_type": "code",
   "execution_count": 3,
   "metadata": {},
   "outputs": [
    {
     "data": {
      "text/html": [
       "<div>\n",
       "<style scoped>\n",
       "    .dataframe tbody tr th:only-of-type {\n",
       "        vertical-align: middle;\n",
       "    }\n",
       "\n",
       "    .dataframe tbody tr th {\n",
       "        vertical-align: top;\n",
       "    }\n",
       "\n",
       "    .dataframe thead th {\n",
       "        text-align: right;\n",
       "    }\n",
       "</style>\n",
       "<table border=\"1\" class=\"dataframe\">\n",
       "  <thead>\n",
       "    <tr style=\"text-align: right;\">\n",
       "      <th></th>\n",
       "      <th>Title</th>\n",
       "      <th>Hand</th>\n",
       "      <th>Laterality</th>\n",
       "      <th>Gender</th>\n",
       "      <th>Age</th>\n",
       "      <th>Height</th>\n",
       "      <th>Weight</th>\n",
       "      <th>zip files</th>\n",
       "    </tr>\n",
       "  </thead>\n",
       "  <tbody>\n",
       "    <tr>\n",
       "      <th>0</th>\n",
       "      <td>1</td>\n",
       "      <td>Intact</td>\n",
       "      <td>Right Handed</td>\n",
       "      <td>Male</td>\n",
       "      <td>29</td>\n",
       "      <td>187</td>\n",
       "      <td>75</td>\n",
       "      <td>DB2_s1.zip</td>\n",
       "    </tr>\n",
       "    <tr>\n",
       "      <th>1</th>\n",
       "      <td>2</td>\n",
       "      <td>Intact</td>\n",
       "      <td>Right Handed</td>\n",
       "      <td>Male</td>\n",
       "      <td>29</td>\n",
       "      <td>183</td>\n",
       "      <td>75</td>\n",
       "      <td>DB2_s2.zip</td>\n",
       "    </tr>\n",
       "    <tr>\n",
       "      <th>2</th>\n",
       "      <td>3</td>\n",
       "      <td>Intact</td>\n",
       "      <td>Right Handed</td>\n",
       "      <td>Male</td>\n",
       "      <td>31</td>\n",
       "      <td>174</td>\n",
       "      <td>69</td>\n",
       "      <td>DB2_s3.zip</td>\n",
       "    </tr>\n",
       "    <tr>\n",
       "      <th>3</th>\n",
       "      <td>4</td>\n",
       "      <td>Intact</td>\n",
       "      <td>Left Handed</td>\n",
       "      <td>Female</td>\n",
       "      <td>30</td>\n",
       "      <td>154</td>\n",
       "      <td>50</td>\n",
       "      <td>DB2_s4.zip</td>\n",
       "    </tr>\n",
       "    <tr>\n",
       "      <th>4</th>\n",
       "      <td>5</td>\n",
       "      <td>Intact</td>\n",
       "      <td>Right Handed</td>\n",
       "      <td>Male</td>\n",
       "      <td>25</td>\n",
       "      <td>175</td>\n",
       "      <td>70</td>\n",
       "      <td>DB2_s5.zip</td>\n",
       "    </tr>\n",
       "    <tr>\n",
       "      <th>5</th>\n",
       "      <td>6</td>\n",
       "      <td>Intact</td>\n",
       "      <td>Right Handed</td>\n",
       "      <td>Male</td>\n",
       "      <td>35</td>\n",
       "      <td>172</td>\n",
       "      <td>79</td>\n",
       "      <td>DB2_s6.zip</td>\n",
       "    </tr>\n",
       "    <tr>\n",
       "      <th>6</th>\n",
       "      <td>7</td>\n",
       "      <td>Intact</td>\n",
       "      <td>Right Handed</td>\n",
       "      <td>Male</td>\n",
       "      <td>27</td>\n",
       "      <td>187</td>\n",
       "      <td>92</td>\n",
       "      <td>DB2_s7.zip</td>\n",
       "    </tr>\n",
       "    <tr>\n",
       "      <th>7</th>\n",
       "      <td>8</td>\n",
       "      <td>Intact</td>\n",
       "      <td>Right Handed</td>\n",
       "      <td>Male</td>\n",
       "      <td>45</td>\n",
       "      <td>173</td>\n",
       "      <td>73</td>\n",
       "      <td>DB2_s8.zip</td>\n",
       "    </tr>\n",
       "    <tr>\n",
       "      <th>8</th>\n",
       "      <td>9</td>\n",
       "      <td>Intact</td>\n",
       "      <td>Right Handed</td>\n",
       "      <td>Male</td>\n",
       "      <td>23</td>\n",
       "      <td>172</td>\n",
       "      <td>63</td>\n",
       "      <td>DB2_s9.zip</td>\n",
       "    </tr>\n",
       "    <tr>\n",
       "      <th>9</th>\n",
       "      <td>10</td>\n",
       "      <td>Intact</td>\n",
       "      <td>Right Handed</td>\n",
       "      <td>Male</td>\n",
       "      <td>34</td>\n",
       "      <td>173</td>\n",
       "      <td>84</td>\n",
       "      <td>DB2_s10.zip</td>\n",
       "    </tr>\n",
       "    <tr>\n",
       "      <th>10</th>\n",
       "      <td>11</td>\n",
       "      <td>Intact</td>\n",
       "      <td>Right Handed</td>\n",
       "      <td>Female</td>\n",
       "      <td>32</td>\n",
       "      <td>150</td>\n",
       "      <td>54</td>\n",
       "      <td>DB2_s11.zip</td>\n",
       "    </tr>\n",
       "    <tr>\n",
       "      <th>11</th>\n",
       "      <td>12</td>\n",
       "      <td>Intact</td>\n",
       "      <td>Right Handed</td>\n",
       "      <td>Male</td>\n",
       "      <td>29</td>\n",
       "      <td>184</td>\n",
       "      <td>90</td>\n",
       "      <td>DB2_s12.zip</td>\n",
       "    </tr>\n",
       "    <tr>\n",
       "      <th>12</th>\n",
       "      <td>13</td>\n",
       "      <td>Intact</td>\n",
       "      <td>Left Handed</td>\n",
       "      <td>Male</td>\n",
       "      <td>30</td>\n",
       "      <td>182</td>\n",
       "      <td>70</td>\n",
       "      <td>DB2_s13.zip</td>\n",
       "    </tr>\n",
       "    <tr>\n",
       "      <th>13</th>\n",
       "      <td>14</td>\n",
       "      <td>Intact</td>\n",
       "      <td>Right Handed</td>\n",
       "      <td>Female</td>\n",
       "      <td>30</td>\n",
       "      <td>173</td>\n",
       "      <td>59</td>\n",
       "      <td>DB2_s14.zip</td>\n",
       "    </tr>\n",
       "    <tr>\n",
       "      <th>14</th>\n",
       "      <td>15</td>\n",
       "      <td>Intact</td>\n",
       "      <td>Right Handed</td>\n",
       "      <td>Male</td>\n",
       "      <td>30</td>\n",
       "      <td>169</td>\n",
       "      <td>58</td>\n",
       "      <td>DB2_s15.zip</td>\n",
       "    </tr>\n",
       "    <tr>\n",
       "      <th>15</th>\n",
       "      <td>16</td>\n",
       "      <td>Intact</td>\n",
       "      <td>Right Handed</td>\n",
       "      <td>Male</td>\n",
       "      <td>34</td>\n",
       "      <td>173</td>\n",
       "      <td>76</td>\n",
       "      <td>DB2_s16.zip</td>\n",
       "    </tr>\n",
       "    <tr>\n",
       "      <th>16</th>\n",
       "      <td>17</td>\n",
       "      <td>Intact</td>\n",
       "      <td>Right Handed</td>\n",
       "      <td>Male</td>\n",
       "      <td>29</td>\n",
       "      <td>175</td>\n",
       "      <td>70</td>\n",
       "      <td>DB2_s17.zip</td>\n",
       "    </tr>\n",
       "    <tr>\n",
       "      <th>17</th>\n",
       "      <td>18</td>\n",
       "      <td>Intact</td>\n",
       "      <td>Right Handed</td>\n",
       "      <td>Female</td>\n",
       "      <td>30</td>\n",
       "      <td>169</td>\n",
       "      <td>90</td>\n",
       "      <td>DB2_s18.zip</td>\n",
       "    </tr>\n",
       "    <tr>\n",
       "      <th>18</th>\n",
       "      <td>19</td>\n",
       "      <td>Intact</td>\n",
       "      <td>Right Handed</td>\n",
       "      <td>Female</td>\n",
       "      <td>31</td>\n",
       "      <td>158</td>\n",
       "      <td>52</td>\n",
       "      <td>DB2_s19.zip</td>\n",
       "    </tr>\n",
       "    <tr>\n",
       "      <th>19</th>\n",
       "      <td>20</td>\n",
       "      <td>Intact</td>\n",
       "      <td>Right Handed</td>\n",
       "      <td>Female</td>\n",
       "      <td>26</td>\n",
       "      <td>155</td>\n",
       "      <td>52</td>\n",
       "      <td>DB2_s20.zip</td>\n",
       "    </tr>\n",
       "    <tr>\n",
       "      <th>20</th>\n",
       "      <td>21</td>\n",
       "      <td>Intact</td>\n",
       "      <td>Right Handed</td>\n",
       "      <td>Male</td>\n",
       "      <td>32</td>\n",
       "      <td>170</td>\n",
       "      <td>75</td>\n",
       "      <td>DB2_s21.zip</td>\n",
       "    </tr>\n",
       "    <tr>\n",
       "      <th>21</th>\n",
       "      <td>22</td>\n",
       "      <td>Intact</td>\n",
       "      <td>Left Handed</td>\n",
       "      <td>Female</td>\n",
       "      <td>28</td>\n",
       "      <td>162</td>\n",
       "      <td>54</td>\n",
       "      <td>DB2_s22.zip</td>\n",
       "    </tr>\n",
       "    <tr>\n",
       "      <th>22</th>\n",
       "      <td>23</td>\n",
       "      <td>Intact</td>\n",
       "      <td>Right Handed</td>\n",
       "      <td>Male</td>\n",
       "      <td>25</td>\n",
       "      <td>170</td>\n",
       "      <td>66</td>\n",
       "      <td>DB2_s23.zip</td>\n",
       "    </tr>\n",
       "    <tr>\n",
       "      <th>23</th>\n",
       "      <td>24</td>\n",
       "      <td>Intact</td>\n",
       "      <td>Right Handed</td>\n",
       "      <td>Male</td>\n",
       "      <td>28</td>\n",
       "      <td>170</td>\n",
       "      <td>73</td>\n",
       "      <td>DB2_s24.zip</td>\n",
       "    </tr>\n",
       "    <tr>\n",
       "      <th>24</th>\n",
       "      <td>25</td>\n",
       "      <td>Intact</td>\n",
       "      <td>Left Handed</td>\n",
       "      <td>Male</td>\n",
       "      <td>31</td>\n",
       "      <td>168</td>\n",
       "      <td>70</td>\n",
       "      <td>DB2_s25.zip</td>\n",
       "    </tr>\n",
       "    <tr>\n",
       "      <th>25</th>\n",
       "      <td>26</td>\n",
       "      <td>Intact</td>\n",
       "      <td>Left Handed</td>\n",
       "      <td>Male</td>\n",
       "      <td>30</td>\n",
       "      <td>186</td>\n",
       "      <td>90</td>\n",
       "      <td>DB2_s26.zip</td>\n",
       "    </tr>\n",
       "    <tr>\n",
       "      <th>26</th>\n",
       "      <td>27</td>\n",
       "      <td>Intact</td>\n",
       "      <td>Right Handed</td>\n",
       "      <td>Male</td>\n",
       "      <td>29</td>\n",
       "      <td>170</td>\n",
       "      <td>65</td>\n",
       "      <td>DB2_s27.zip</td>\n",
       "    </tr>\n",
       "    <tr>\n",
       "      <th>27</th>\n",
       "      <td>28</td>\n",
       "      <td>Intact</td>\n",
       "      <td>Right Handed</td>\n",
       "      <td>Female</td>\n",
       "      <td>29</td>\n",
       "      <td>160</td>\n",
       "      <td>61</td>\n",
       "      <td>DB2_s28.zip</td>\n",
       "    </tr>\n",
       "    <tr>\n",
       "      <th>28</th>\n",
       "      <td>29</td>\n",
       "      <td>Intact</td>\n",
       "      <td>Right Handed</td>\n",
       "      <td>Male</td>\n",
       "      <td>27</td>\n",
       "      <td>171</td>\n",
       "      <td>64</td>\n",
       "      <td>DB2_s29.zip</td>\n",
       "    </tr>\n",
       "    <tr>\n",
       "      <th>29</th>\n",
       "      <td>30</td>\n",
       "      <td>Intact</td>\n",
       "      <td>Right Handed</td>\n",
       "      <td>Male</td>\n",
       "      <td>30</td>\n",
       "      <td>173</td>\n",
       "      <td>68</td>\n",
       "      <td>DB2_s30.zip</td>\n",
       "    </tr>\n",
       "    <tr>\n",
       "      <th>30</th>\n",
       "      <td>31</td>\n",
       "      <td>Intact</td>\n",
       "      <td>Right Handed</td>\n",
       "      <td>Male</td>\n",
       "      <td>29</td>\n",
       "      <td>185</td>\n",
       "      <td>98</td>\n",
       "      <td>DB2_s31.zip</td>\n",
       "    </tr>\n",
       "    <tr>\n",
       "      <th>31</th>\n",
       "      <td>32</td>\n",
       "      <td>Intact</td>\n",
       "      <td>Right Handed</td>\n",
       "      <td>Male</td>\n",
       "      <td>28</td>\n",
       "      <td>173</td>\n",
       "      <td>72</td>\n",
       "      <td>DB2_s32.zip</td>\n",
       "    </tr>\n",
       "    <tr>\n",
       "      <th>32</th>\n",
       "      <td>33</td>\n",
       "      <td>Intact</td>\n",
       "      <td>Right Handed</td>\n",
       "      <td>Male</td>\n",
       "      <td>25</td>\n",
       "      <td>183</td>\n",
       "      <td>71</td>\n",
       "      <td>DB2_s33.zip</td>\n",
       "    </tr>\n",
       "    <tr>\n",
       "      <th>33</th>\n",
       "      <td>34</td>\n",
       "      <td>Intact</td>\n",
       "      <td>Right Handed</td>\n",
       "      <td>Male</td>\n",
       "      <td>31</td>\n",
       "      <td>192</td>\n",
       "      <td>78</td>\n",
       "      <td>DB2_s34.zip</td>\n",
       "    </tr>\n",
       "    <tr>\n",
       "      <th>34</th>\n",
       "      <td>35</td>\n",
       "      <td>Intact</td>\n",
       "      <td>Right Handed</td>\n",
       "      <td>Female</td>\n",
       "      <td>24</td>\n",
       "      <td>170</td>\n",
       "      <td>52</td>\n",
       "      <td>DB2_s35.zip</td>\n",
       "    </tr>\n",
       "    <tr>\n",
       "      <th>35</th>\n",
       "      <td>36</td>\n",
       "      <td>Intact</td>\n",
       "      <td>Right Handed</td>\n",
       "      <td>Female</td>\n",
       "      <td>27</td>\n",
       "      <td>155</td>\n",
       "      <td>44</td>\n",
       "      <td>DB2_s36.zip</td>\n",
       "    </tr>\n",
       "    <tr>\n",
       "      <th>36</th>\n",
       "      <td>37</td>\n",
       "      <td>Intact</td>\n",
       "      <td>Right Handed</td>\n",
       "      <td>Male</td>\n",
       "      <td>34</td>\n",
       "      <td>190</td>\n",
       "      <td>105</td>\n",
       "      <td>DB2_s37.zip</td>\n",
       "    </tr>\n",
       "    <tr>\n",
       "      <th>37</th>\n",
       "      <td>38</td>\n",
       "      <td>Intact</td>\n",
       "      <td>Right Handed</td>\n",
       "      <td>Female</td>\n",
       "      <td>30</td>\n",
       "      <td>163</td>\n",
       "      <td>62</td>\n",
       "      <td>DB2_s38.zip</td>\n",
       "    </tr>\n",
       "    <tr>\n",
       "      <th>38</th>\n",
       "      <td>39</td>\n",
       "      <td>Intact</td>\n",
       "      <td>Right Handed</td>\n",
       "      <td>Male</td>\n",
       "      <td>31</td>\n",
       "      <td>183</td>\n",
       "      <td>96</td>\n",
       "      <td>DB2_s39.zip</td>\n",
       "    </tr>\n",
       "    <tr>\n",
       "      <th>39</th>\n",
       "      <td>40</td>\n",
       "      <td>Intact</td>\n",
       "      <td>Right Handed</td>\n",
       "      <td>Male</td>\n",
       "      <td>31</td>\n",
       "      <td>173</td>\n",
       "      <td>65</td>\n",
       "      <td>DB2_s40.zip</td>\n",
       "    </tr>\n",
       "  </tbody>\n",
       "</table>\n",
       "</div>"
      ],
      "text/plain": [
       "    Title    Hand    Laterality  Gender  Age  Height  Weight    zip files\n",
       "0       1  Intact  Right Handed    Male   29     187      75   DB2_s1.zip\n",
       "1       2  Intact  Right Handed    Male   29     183      75   DB2_s2.zip\n",
       "2       3  Intact  Right Handed    Male   31     174      69   DB2_s3.zip\n",
       "3       4  Intact   Left Handed  Female   30     154      50   DB2_s4.zip\n",
       "4       5  Intact  Right Handed    Male   25     175      70   DB2_s5.zip\n",
       "5       6  Intact  Right Handed    Male   35     172      79   DB2_s6.zip\n",
       "6       7  Intact  Right Handed    Male   27     187      92   DB2_s7.zip\n",
       "7       8  Intact  Right Handed    Male   45     173      73   DB2_s8.zip\n",
       "8       9  Intact  Right Handed    Male   23     172      63   DB2_s9.zip\n",
       "9      10  Intact  Right Handed    Male   34     173      84  DB2_s10.zip\n",
       "10     11  Intact  Right Handed  Female   32     150      54  DB2_s11.zip\n",
       "11     12  Intact  Right Handed    Male   29     184      90  DB2_s12.zip\n",
       "12     13  Intact   Left Handed    Male   30     182      70  DB2_s13.zip\n",
       "13     14  Intact  Right Handed  Female   30     173      59  DB2_s14.zip\n",
       "14     15  Intact  Right Handed    Male   30     169      58  DB2_s15.zip\n",
       "15     16  Intact  Right Handed    Male   34     173      76  DB2_s16.zip\n",
       "16     17  Intact  Right Handed    Male   29     175      70  DB2_s17.zip\n",
       "17     18  Intact  Right Handed  Female   30     169      90  DB2_s18.zip\n",
       "18     19  Intact  Right Handed  Female   31     158      52  DB2_s19.zip\n",
       "19     20  Intact  Right Handed  Female   26     155      52  DB2_s20.zip\n",
       "20     21  Intact  Right Handed    Male   32     170      75  DB2_s21.zip\n",
       "21     22  Intact   Left Handed  Female   28     162      54  DB2_s22.zip\n",
       "22     23  Intact  Right Handed    Male   25     170      66  DB2_s23.zip\n",
       "23     24  Intact  Right Handed    Male   28     170      73  DB2_s24.zip\n",
       "24     25  Intact   Left Handed    Male   31     168      70  DB2_s25.zip\n",
       "25     26  Intact   Left Handed    Male   30     186      90  DB2_s26.zip\n",
       "26     27  Intact  Right Handed    Male   29     170      65  DB2_s27.zip\n",
       "27     28  Intact  Right Handed  Female   29     160      61  DB2_s28.zip\n",
       "28     29  Intact  Right Handed    Male   27     171      64  DB2_s29.zip\n",
       "29     30  Intact  Right Handed    Male   30     173      68  DB2_s30.zip\n",
       "30     31  Intact  Right Handed    Male   29     185      98  DB2_s31.zip\n",
       "31     32  Intact  Right Handed    Male   28     173      72  DB2_s32.zip\n",
       "32     33  Intact  Right Handed    Male   25     183      71  DB2_s33.zip\n",
       "33     34  Intact  Right Handed    Male   31     192      78  DB2_s34.zip\n",
       "34     35  Intact  Right Handed  Female   24     170      52  DB2_s35.zip\n",
       "35     36  Intact  Right Handed  Female   27     155      44  DB2_s36.zip\n",
       "36     37  Intact  Right Handed    Male   34     190     105  DB2_s37.zip\n",
       "37     38  Intact  Right Handed  Female   30     163      62  DB2_s38.zip\n",
       "38     39  Intact  Right Handed    Male   31     183      96  DB2_s39.zip\n",
       "39     40  Intact  Right Handed    Male   31     173      65  DB2_s40.zip"
      ]
     },
     "execution_count": 3,
     "metadata": {},
     "output_type": "execute_result"
    }
   ],
   "source": [
    "subject_info = pd.read_csv(path+\"/Ninapro_DB2_SubjectsInformation.csv\")\n",
    "subject_info"
   ]
  },
  {
   "cell_type": "code",
   "execution_count": 4,
   "metadata": {},
   "outputs": [],
   "source": [
    "mat = loadmat(path+'/'+'S1_E1_A1.mat')"
   ]
  },
  {
   "cell_type": "code",
   "execution_count": 44,
   "metadata": {},
   "outputs": [
    {
     "data": {
      "text/plain": [
       "(1808331, 12)"
      ]
     },
     "execution_count": 44,
     "metadata": {},
     "output_type": "execute_result"
    }
   ],
   "source": [
    "mat['emg'].shape"
   ]
  },
  {
   "cell_type": "code",
   "execution_count": 6,
   "metadata": {},
   "outputs": [],
   "source": [
    "def read_mat(file):\n",
    "    mat = loadmat(file)\n",
    "    inclin = mat['inclin']\n",
    "    stimulus = mat['stimulus']\n",
    "    repetition = mat['repetition']\n",
    "    emg = mat['emg']\n",
    "    emg_col = []\n",
    "    for i in range(1,13):\n",
    "        emg_col.append('emg'+str(i))\n",
    "    df = pd.DataFrame(columns=['repetition','inclin']+emg_col+['stimulus'])\n",
    "    df['repetition'] = mat['repetition'].reshape((mat['repetition'].shape[0],))\n",
    "    df['stimulus'] = stimulus\n",
    "    df['inclin'] = inclin\n",
    "    df[emg_col] = mat['emg']\n",
    "    return df"
   ]
  },
  {
   "cell_type": "code",
   "execution_count": 7,
   "metadata": {},
   "outputs": [],
   "source": [
    "fdf = read_mat(path+'/'+'S1_E1_A1.mat')"
   ]
  },
  {
   "cell_type": "code",
   "execution_count": 8,
   "metadata": {},
   "outputs": [
    {
     "data": {
      "text/html": [
       "<div>\n",
       "<style scoped>\n",
       "    .dataframe tbody tr th:only-of-type {\n",
       "        vertical-align: middle;\n",
       "    }\n",
       "\n",
       "    .dataframe tbody tr th {\n",
       "        vertical-align: top;\n",
       "    }\n",
       "\n",
       "    .dataframe thead th {\n",
       "        text-align: right;\n",
       "    }\n",
       "</style>\n",
       "<table border=\"1\" class=\"dataframe\">\n",
       "  <thead>\n",
       "    <tr style=\"text-align: right;\">\n",
       "      <th></th>\n",
       "      <th>repetition</th>\n",
       "      <th>inclin</th>\n",
       "      <th>emg1</th>\n",
       "      <th>emg2</th>\n",
       "      <th>emg3</th>\n",
       "      <th>emg4</th>\n",
       "      <th>emg5</th>\n",
       "      <th>emg6</th>\n",
       "      <th>emg7</th>\n",
       "      <th>emg8</th>\n",
       "      <th>emg9</th>\n",
       "      <th>emg10</th>\n",
       "      <th>emg11</th>\n",
       "      <th>emg12</th>\n",
       "      <th>stimulus</th>\n",
       "    </tr>\n",
       "  </thead>\n",
       "  <tbody>\n",
       "    <tr>\n",
       "      <th>0</th>\n",
       "      <td>0</td>\n",
       "      <td>60.424751</td>\n",
       "      <td>-0.000003</td>\n",
       "      <td>3.355261e-06</td>\n",
       "      <td>1.598866e-06</td>\n",
       "      <td>-1.394234e-06</td>\n",
       "      <td>-0.000002</td>\n",
       "      <td>2.749975e-06</td>\n",
       "      <td>-2.347791e-06</td>\n",
       "      <td>1.537436e-07</td>\n",
       "      <td>-2.484787e-07</td>\n",
       "      <td>1.469924e-06</td>\n",
       "      <td>-5.609089e-06</td>\n",
       "      <td>0.000040</td>\n",
       "      <td>0</td>\n",
       "    </tr>\n",
       "    <tr>\n",
       "      <th>1</th>\n",
       "      <td>0</td>\n",
       "      <td>60.424751</td>\n",
       "      <td>-0.000005</td>\n",
       "      <td>3.355212e-06</td>\n",
       "      <td>1.430441e-06</td>\n",
       "      <td>-3.072682e-06</td>\n",
       "      <td>-0.000003</td>\n",
       "      <td>2.246543e-06</td>\n",
       "      <td>-1.657156e-07</td>\n",
       "      <td>2.503453e-06</td>\n",
       "      <td>-3.561109e-07</td>\n",
       "      <td>2.478162e-06</td>\n",
       "      <td>-3.259393e-06</td>\n",
       "      <td>0.000050</td>\n",
       "      <td>0</td>\n",
       "    </tr>\n",
       "    <tr>\n",
       "      <th>2</th>\n",
       "      <td>0</td>\n",
       "      <td>60.424751</td>\n",
       "      <td>-0.000003</td>\n",
       "      <td>4.026560e-06</td>\n",
       "      <td>9.263165e-07</td>\n",
       "      <td>-5.422526e-06</td>\n",
       "      <td>-0.000004</td>\n",
       "      <td>1.239568e-06</td>\n",
       "      <td>2.352061e-06</td>\n",
       "      <td>5.524560e-06</td>\n",
       "      <td>-2.445606e-07</td>\n",
       "      <td>2.479306e-06</td>\n",
       "      <td>-7.045269e-08</td>\n",
       "      <td>0.000047</td>\n",
       "      <td>0</td>\n",
       "    </tr>\n",
       "    <tr>\n",
       "      <th>3</th>\n",
       "      <td>0</td>\n",
       "      <td>60.424751</td>\n",
       "      <td>0.000002</td>\n",
       "      <td>2.851566e-06</td>\n",
       "      <td>7.578904e-07</td>\n",
       "      <td>-6.597427e-06</td>\n",
       "      <td>-0.000004</td>\n",
       "      <td>1.575385e-06</td>\n",
       "      <td>2.016400e-06</td>\n",
       "      <td>5.188681e-06</td>\n",
       "      <td>1.094450e-06</td>\n",
       "      <td>2.816148e-06</td>\n",
       "      <td>1.439995e-06</td>\n",
       "      <td>0.000032</td>\n",
       "      <td>0</td>\n",
       "    </tr>\n",
       "    <tr>\n",
       "      <th>4</th>\n",
       "      <td>0</td>\n",
       "      <td>60.424751</td>\n",
       "      <td>0.000004</td>\n",
       "      <td>6.694763e-07</td>\n",
       "      <td>1.764409e-06</td>\n",
       "      <td>-5.422437e-06</td>\n",
       "      <td>-0.000006</td>\n",
       "      <td>7.362596e-07</td>\n",
       "      <td>8.414949e-07</td>\n",
       "      <td>8.244234e-07</td>\n",
       "      <td>1.154750e-06</td>\n",
       "      <td>2.817293e-06</td>\n",
       "      <td>9.700835e-08</td>\n",
       "      <td>0.000014</td>\n",
       "      <td>0</td>\n",
       "    </tr>\n",
       "    <tr>\n",
       "      <th>...</th>\n",
       "      <td>...</td>\n",
       "      <td>...</td>\n",
       "      <td>...</td>\n",
       "      <td>...</td>\n",
       "      <td>...</td>\n",
       "      <td>...</td>\n",
       "      <td>...</td>\n",
       "      <td>...</td>\n",
       "      <td>...</td>\n",
       "      <td>...</td>\n",
       "      <td>...</td>\n",
       "      <td>...</td>\n",
       "      <td>...</td>\n",
       "      <td>...</td>\n",
       "      <td>...</td>\n",
       "    </tr>\n",
       "    <tr>\n",
       "      <th>1808326</th>\n",
       "      <td>6</td>\n",
       "      <td>4.105899</td>\n",
       "      <td>-0.000077</td>\n",
       "      <td>-3.075891e-05</td>\n",
       "      <td>-1.203220e-05</td>\n",
       "      <td>-3.283249e-06</td>\n",
       "      <td>-0.000004</td>\n",
       "      <td>2.854926e-07</td>\n",
       "      <td>-2.805851e-07</td>\n",
       "      <td>-8.906829e-06</td>\n",
       "      <td>-4.269690e-06</td>\n",
       "      <td>-2.373901e-06</td>\n",
       "      <td>-3.945436e-06</td>\n",
       "      <td>0.000126</td>\n",
       "      <td>17</td>\n",
       "    </tr>\n",
       "    <tr>\n",
       "      <th>1808327</th>\n",
       "      <td>6</td>\n",
       "      <td>4.108962</td>\n",
       "      <td>-0.000032</td>\n",
       "      <td>-2.370903e-05</td>\n",
       "      <td>-1.136081e-05</td>\n",
       "      <td>-2.275687e-06</td>\n",
       "      <td>-0.000001</td>\n",
       "      <td>2.131741e-06</td>\n",
       "      <td>-3.637238e-06</td>\n",
       "      <td>-3.032428e-06</td>\n",
       "      <td>-1.286812e-06</td>\n",
       "      <td>3.116866e-07</td>\n",
       "      <td>-3.274191e-06</td>\n",
       "      <td>0.000191</td>\n",
       "      <td>17</td>\n",
       "    </tr>\n",
       "    <tr>\n",
       "      <th>1808328</th>\n",
       "      <td>6</td>\n",
       "      <td>4.112024</td>\n",
       "      <td>0.000047</td>\n",
       "      <td>-9.441634e-06</td>\n",
       "      <td>-6.493177e-06</td>\n",
       "      <td>-5.967306e-07</td>\n",
       "      <td>-0.000001</td>\n",
       "      <td>7.888525e-07</td>\n",
       "      <td>-2.965508e-06</td>\n",
       "      <td>5.191863e-06</td>\n",
       "      <td>1.435965e-06</td>\n",
       "      <td>5.347164e-06</td>\n",
       "      <td>-1.931549e-06</td>\n",
       "      <td>0.000167</td>\n",
       "      <td>17</td>\n",
       "    </tr>\n",
       "    <tr>\n",
       "      <th>1808329</th>\n",
       "      <td>6</td>\n",
       "      <td>4.115087</td>\n",
       "      <td>0.000095</td>\n",
       "      <td>2.475874e-06</td>\n",
       "      <td>-1.625549e-06</td>\n",
       "      <td>2.429787e-07</td>\n",
       "      <td>-0.000004</td>\n",
       "      <td>-2.736076e-06</td>\n",
       "      <td>-3.300879e-06</td>\n",
       "      <td>6.702186e-06</td>\n",
       "      <td>2.129538e-06</td>\n",
       "      <td>6.857807e-06</td>\n",
       "      <td>-1.260306e-06</td>\n",
       "      <td>0.000085</td>\n",
       "      <td>17</td>\n",
       "    </tr>\n",
       "    <tr>\n",
       "      <th>1808330</th>\n",
       "      <td>6</td>\n",
       "      <td>4.118149</td>\n",
       "      <td>0.000090</td>\n",
       "      <td>8.182958e-06</td>\n",
       "      <td>7.243398e-07</td>\n",
       "      <td>1.754087e-06</td>\n",
       "      <td>-0.000003</td>\n",
       "      <td>-4.414662e-06</td>\n",
       "      <td>-2.293451e-06</td>\n",
       "      <td>5.023372e-06</td>\n",
       "      <td>2.101337e-06</td>\n",
       "      <td>4.675767e-06</td>\n",
       "      <td>-2.435403e-06</td>\n",
       "      <td>0.000011</td>\n",
       "      <td>17</td>\n",
       "    </tr>\n",
       "  </tbody>\n",
       "</table>\n",
       "<p>1808331 rows × 15 columns</p>\n",
       "</div>"
      ],
      "text/plain": [
       "         repetition     inclin      emg1          emg2          emg3  \\\n",
       "0                 0  60.424751 -0.000003  3.355261e-06  1.598866e-06   \n",
       "1                 0  60.424751 -0.000005  3.355212e-06  1.430441e-06   \n",
       "2                 0  60.424751 -0.000003  4.026560e-06  9.263165e-07   \n",
       "3                 0  60.424751  0.000002  2.851566e-06  7.578904e-07   \n",
       "4                 0  60.424751  0.000004  6.694763e-07  1.764409e-06   \n",
       "...             ...        ...       ...           ...           ...   \n",
       "1808326           6   4.105899 -0.000077 -3.075891e-05 -1.203220e-05   \n",
       "1808327           6   4.108962 -0.000032 -2.370903e-05 -1.136081e-05   \n",
       "1808328           6   4.112024  0.000047 -9.441634e-06 -6.493177e-06   \n",
       "1808329           6   4.115087  0.000095  2.475874e-06 -1.625549e-06   \n",
       "1808330           6   4.118149  0.000090  8.182958e-06  7.243398e-07   \n",
       "\n",
       "                 emg4      emg5          emg6          emg7          emg8  \\\n",
       "0       -1.394234e-06 -0.000002  2.749975e-06 -2.347791e-06  1.537436e-07   \n",
       "1       -3.072682e-06 -0.000003  2.246543e-06 -1.657156e-07  2.503453e-06   \n",
       "2       -5.422526e-06 -0.000004  1.239568e-06  2.352061e-06  5.524560e-06   \n",
       "3       -6.597427e-06 -0.000004  1.575385e-06  2.016400e-06  5.188681e-06   \n",
       "4       -5.422437e-06 -0.000006  7.362596e-07  8.414949e-07  8.244234e-07   \n",
       "...               ...       ...           ...           ...           ...   \n",
       "1808326 -3.283249e-06 -0.000004  2.854926e-07 -2.805851e-07 -8.906829e-06   \n",
       "1808327 -2.275687e-06 -0.000001  2.131741e-06 -3.637238e-06 -3.032428e-06   \n",
       "1808328 -5.967306e-07 -0.000001  7.888525e-07 -2.965508e-06  5.191863e-06   \n",
       "1808329  2.429787e-07 -0.000004 -2.736076e-06 -3.300879e-06  6.702186e-06   \n",
       "1808330  1.754087e-06 -0.000003 -4.414662e-06 -2.293451e-06  5.023372e-06   \n",
       "\n",
       "                 emg9         emg10         emg11     emg12  stimulus  \n",
       "0       -2.484787e-07  1.469924e-06 -5.609089e-06  0.000040         0  \n",
       "1       -3.561109e-07  2.478162e-06 -3.259393e-06  0.000050         0  \n",
       "2       -2.445606e-07  2.479306e-06 -7.045269e-08  0.000047         0  \n",
       "3        1.094450e-06  2.816148e-06  1.439995e-06  0.000032         0  \n",
       "4        1.154750e-06  2.817293e-06  9.700835e-08  0.000014         0  \n",
       "...               ...           ...           ...       ...       ...  \n",
       "1808326 -4.269690e-06 -2.373901e-06 -3.945436e-06  0.000126        17  \n",
       "1808327 -1.286812e-06  3.116866e-07 -3.274191e-06  0.000191        17  \n",
       "1808328  1.435965e-06  5.347164e-06 -1.931549e-06  0.000167        17  \n",
       "1808329  2.129538e-06  6.857807e-06 -1.260306e-06  0.000085        17  \n",
       "1808330  2.101337e-06  4.675767e-06 -2.435403e-06  0.000011        17  \n",
       "\n",
       "[1808331 rows x 15 columns]"
      ]
     },
     "execution_count": 8,
     "metadata": {},
     "output_type": "execute_result"
    }
   ],
   "source": [
    "fdf"
   ]
  },
  {
   "cell_type": "code",
   "execution_count": 9,
   "metadata": {},
   "outputs": [],
   "source": [
    "np.save('prepared_data/s1_raw_emg',fdf[['emg1','emg2','emg3','emg4','emg5','emg6','emg7','emg8']])\n",
    "np.save('prepared_data/s1_raw_stimulus',fdf[['stimulus']])"
   ]
  },
  {
   "cell_type": "code",
   "execution_count": 10,
   "metadata": {
    "scrolled": false
   },
   "outputs": [
    {
     "data": {
      "text/plain": [
       "<AxesSubplot:>"
      ]
     },
     "execution_count": 10,
     "metadata": {},
     "output_type": "execute_result"
    },
    {
     "data": {
      "image/png": "[encoded data removed]",
      "text/plain": [
       "<Figure size 1440x720 with 1 Axes>"
      ]
     },
     "metadata": {
      "needs_background": "light"
     },
     "output_type": "display_data"
    }
   ],
   "source": [
    "h = fdf.head(1000)\n",
    "h[['emg1','emg2','emg3','emg4','emg5','emg6']].plot(figsize=(20,10))"
   ]
  },
  {
   "cell_type": "code",
   "execution_count": 11,
   "metadata": {},
   "outputs": [
    {
     "data": {
      "text/plain": [
       "<AxesSubplot:>"
      ]
     },
     "execution_count": 11,
     "metadata": {},
     "output_type": "execute_result"
    },
    {
     "data": {
      "image/png": "[encoded data removed]",
      "text/plain": [
       "<Figure size 1440x720 with 1 Axes>"
      ]
     },
     "metadata": {
      "needs_background": "light"
     },
     "output_type": "display_data"
    }
   ],
   "source": [
    "fdf['emg1'].plot(figsize=(20,10))"
   ]
  },
  {
   "cell_type": "code",
   "execution_count": 4,
   "metadata": {},
   "outputs": [
    {
     "data": {
      "text/html": [
       "<div>\n",
       "<style scoped>\n",
       "    .dataframe tbody tr th:only-of-type {\n",
       "        vertical-align: middle;\n",
       "    }\n",
       "\n",
       "    .dataframe tbody tr th {\n",
       "        vertical-align: top;\n",
       "    }\n",
       "\n",
       "    .dataframe thead th {\n",
       "        text-align: right;\n",
       "    }\n",
       "</style>\n",
       "<table border=\"1\" class=\"dataframe\">\n",
       "  <thead>\n",
       "    <tr style=\"text-align: right;\">\n",
       "      <th></th>\n",
       "      <th>emg1</th>\n",
       "      <th>emg2</th>\n",
       "      <th>emg3</th>\n",
       "      <th>emg4</th>\n",
       "      <th>emg5</th>\n",
       "      <th>emg6</th>\n",
       "      <th>emg7</th>\n",
       "      <th>emg8</th>\n",
       "      <th>emg9</th>\n",
       "      <th>emg10</th>\n",
       "      <th>emg11</th>\n",
       "      <th>emg12</th>\n",
       "      <th>move</th>\n",
       "    </tr>\n",
       "  </thead>\n",
       "  <tbody>\n",
       "    <tr>\n",
       "      <th>0</th>\n",
       "      <td>-2.851210e-06</td>\n",
       "      <td>3.355261e-06</td>\n",
       "      <td>1.598866e-06</td>\n",
       "      <td>-1.394234e-06</td>\n",
       "      <td>-2.082012e-06</td>\n",
       "      <td>2.749975e-06</td>\n",
       "      <td>-2.347791e-06</td>\n",
       "      <td>1.537436e-07</td>\n",
       "      <td>-2.484787e-07</td>\n",
       "      <td>1.469924e-06</td>\n",
       "      <td>-5.609089e-06</td>\n",
       "      <td>0.000040</td>\n",
       "      <td>0</td>\n",
       "    </tr>\n",
       "    <tr>\n",
       "      <th>1</th>\n",
       "      <td>-4.697738e-06</td>\n",
       "      <td>3.355212e-06</td>\n",
       "      <td>1.430441e-06</td>\n",
       "      <td>-3.072682e-06</td>\n",
       "      <td>-3.063038e-06</td>\n",
       "      <td>2.246543e-06</td>\n",
       "      <td>-1.657156e-07</td>\n",
       "      <td>2.503453e-06</td>\n",
       "      <td>-3.561109e-07</td>\n",
       "      <td>2.478162e-06</td>\n",
       "      <td>-3.259393e-06</td>\n",
       "      <td>0.000050</td>\n",
       "      <td>0</td>\n",
       "    </tr>\n",
       "    <tr>\n",
       "      <th>2</th>\n",
       "      <td>-2.683734e-06</td>\n",
       "      <td>4.026560e-06</td>\n",
       "      <td>9.263165e-07</td>\n",
       "      <td>-5.422526e-06</td>\n",
       "      <td>-3.695910e-06</td>\n",
       "      <td>1.239568e-06</td>\n",
       "      <td>2.352061e-06</td>\n",
       "      <td>5.524560e-06</td>\n",
       "      <td>-2.445606e-07</td>\n",
       "      <td>2.479306e-06</td>\n",
       "      <td>-7.045269e-08</td>\n",
       "      <td>0.000047</td>\n",
       "      <td>0</td>\n",
       "    </tr>\n",
       "    <tr>\n",
       "      <th>3</th>\n",
       "      <td>2.183707e-06</td>\n",
       "      <td>2.851566e-06</td>\n",
       "      <td>7.578904e-07</td>\n",
       "      <td>-6.597427e-06</td>\n",
       "      <td>-3.937123e-06</td>\n",
       "      <td>1.575385e-06</td>\n",
       "      <td>2.016400e-06</td>\n",
       "      <td>5.188681e-06</td>\n",
       "      <td>1.094450e-06</td>\n",
       "      <td>2.816148e-06</td>\n",
       "      <td>1.439995e-06</td>\n",
       "      <td>0.000032</td>\n",
       "      <td>0</td>\n",
       "    </tr>\n",
       "    <tr>\n",
       "      <th>4</th>\n",
       "      <td>4.197711e-06</td>\n",
       "      <td>6.694763e-07</td>\n",
       "      <td>1.764409e-06</td>\n",
       "      <td>-5.422437e-06</td>\n",
       "      <td>-5.652943e-06</td>\n",
       "      <td>7.362596e-07</td>\n",
       "      <td>8.414949e-07</td>\n",
       "      <td>8.244234e-07</td>\n",
       "      <td>1.154750e-06</td>\n",
       "      <td>2.817293e-06</td>\n",
       "      <td>9.700835e-08</td>\n",
       "      <td>0.000014</td>\n",
       "      <td>0</td>\n",
       "    </tr>\n",
       "    <tr>\n",
       "      <th>...</th>\n",
       "      <td>...</td>\n",
       "      <td>...</td>\n",
       "      <td>...</td>\n",
       "      <td>...</td>\n",
       "      <td>...</td>\n",
       "      <td>...</td>\n",
       "      <td>...</td>\n",
       "      <td>...</td>\n",
       "      <td>...</td>\n",
       "      <td>...</td>\n",
       "      <td>...</td>\n",
       "      <td>...</td>\n",
       "      <td>...</td>\n",
       "    </tr>\n",
       "    <tr>\n",
       "      <th>5238688</th>\n",
       "      <td>-6.230766e-07</td>\n",
       "      <td>5.911040e-07</td>\n",
       "      <td>-5.486231e-06</td>\n",
       "      <td>-1.236290e-06</td>\n",
       "      <td>-2.134746e-06</td>\n",
       "      <td>-2.562491e-06</td>\n",
       "      <td>1.047846e-06</td>\n",
       "      <td>-1.344230e-05</td>\n",
       "      <td>6.216484e-07</td>\n",
       "      <td>-3.767954e-06</td>\n",
       "      <td>1.012069e-06</td>\n",
       "      <td>-0.000022</td>\n",
       "      <td>49</td>\n",
       "    </tr>\n",
       "    <tr>\n",
       "      <th>5238689</th>\n",
       "      <td>2.901756e-06</td>\n",
       "      <td>1.766055e-06</td>\n",
       "      <td>-6.493326e-06</td>\n",
       "      <td>-1.404029e-06</td>\n",
       "      <td>-2.187698e-06</td>\n",
       "      <td>-3.401850e-06</td>\n",
       "      <td>1.719439e-06</td>\n",
       "      <td>-2.049242e-05</td>\n",
       "      <td>1.796249e-06</td>\n",
       "      <td>-2.928994e-06</td>\n",
       "      <td>1.179876e-06</td>\n",
       "      <td>-0.000018</td>\n",
       "      <td>49</td>\n",
       "    </tr>\n",
       "    <tr>\n",
       "      <th>5238690</th>\n",
       "      <td>4.412399e-06</td>\n",
       "      <td>2.101759e-06</td>\n",
       "      <td>-6.829025e-06</td>\n",
       "      <td>-3.968205e-07</td>\n",
       "      <td>-1.896385e-06</td>\n",
       "      <td>-2.227017e-06</td>\n",
       "      <td>7.125424e-07</td>\n",
       "      <td>-3.073167e-05</td>\n",
       "      <td>1.963753e-06</td>\n",
       "      <td>-1.250788e-06</td>\n",
       "      <td>5.084372e-07</td>\n",
       "      <td>-0.000014</td>\n",
       "      <td>49</td>\n",
       "    </tr>\n",
       "    <tr>\n",
       "      <th>5238691</th>\n",
       "      <td>5.251643e-06</td>\n",
       "      <td>1.933917e-06</td>\n",
       "      <td>-5.654080e-06</td>\n",
       "      <td>2.746891e-07</td>\n",
       "      <td>-1.210498e-07</td>\n",
       "      <td>2.906097e-07</td>\n",
       "      <td>-6.300568e-07</td>\n",
       "      <td>-4.751704e-05</td>\n",
       "      <td>9.563120e-07</td>\n",
       "      <td>-7.475257e-07</td>\n",
       "      <td>-1.630021e-07</td>\n",
       "      <td>-0.000012</td>\n",
       "      <td>49</td>\n",
       "    </tr>\n",
       "    <tr>\n",
       "      <th>5238692</th>\n",
       "      <td>5.083792e-06</td>\n",
       "      <td>2.605322e-06</td>\n",
       "      <td>-4.143437e-06</td>\n",
       "      <td>-7.322931e-07</td>\n",
       "      <td>1.618387e-07</td>\n",
       "      <td>1.129745e-06</td>\n",
       "      <td>-1.301256e-06</td>\n",
       "      <td>-5.288866e-05</td>\n",
       "      <td>-1.058225e-06</td>\n",
       "      <td>-2.594154e-06</td>\n",
       "      <td>3.405036e-07</td>\n",
       "      <td>-0.000014</td>\n",
       "      <td>0</td>\n",
       "    </tr>\n",
       "  </tbody>\n",
       "</table>\n",
       "<p>5238693 rows × 13 columns</p>\n",
       "</div>"
      ],
      "text/plain": [
       "                 emg1          emg2          emg3          emg4          emg5  \\\n",
       "0       -2.851210e-06  3.355261e-06  1.598866e-06 -1.394234e-06 -2.082012e-06   \n",
       "1       -4.697738e-06  3.355212e-06  1.430441e-06 -3.072682e-06 -3.063038e-06   \n",
       "2       -2.683734e-06  4.026560e-06  9.263165e-07 -5.422526e-06 -3.695910e-06   \n",
       "3        2.183707e-06  2.851566e-06  7.578904e-07 -6.597427e-06 -3.937123e-06   \n",
       "4        4.197711e-06  6.694763e-07  1.764409e-06 -5.422437e-06 -5.652943e-06   \n",
       "...               ...           ...           ...           ...           ...   \n",
       "5238688 -6.230766e-07  5.911040e-07 -5.486231e-06 -1.236290e-06 -2.134746e-06   \n",
       "5238689  2.901756e-06  1.766055e-06 -6.493326e-06 -1.404029e-06 -2.187698e-06   \n",
       "5238690  4.412399e-06  2.101759e-06 -6.829025e-06 -3.968205e-07 -1.896385e-06   \n",
       "5238691  5.251643e-06  1.933917e-06 -5.654080e-06  2.746891e-07 -1.210498e-07   \n",
       "5238692  5.083792e-06  2.605322e-06 -4.143437e-06 -7.322931e-07  1.618387e-07   \n",
       "\n",
       "                 emg6          emg7          emg8          emg9         emg10  \\\n",
       "0        2.749975e-06 -2.347791e-06  1.537436e-07 -2.484787e-07  1.469924e-06   \n",
       "1        2.246543e-06 -1.657156e-07  2.503453e-06 -3.561109e-07  2.478162e-06   \n",
       "2        1.239568e-06  2.352061e-06  5.524560e-06 -2.445606e-07  2.479306e-06   \n",
       "3        1.575385e-06  2.016400e-06  5.188681e-06  1.094450e-06  2.816148e-06   \n",
       "4        7.362596e-07  8.414949e-07  8.244234e-07  1.154750e-06  2.817293e-06   \n",
       "...               ...           ...           ...           ...           ...   \n",
       "5238688 -2.562491e-06  1.047846e-06 -1.344230e-05  6.216484e-07 -3.767954e-06   \n",
       "5238689 -3.401850e-06  1.719439e-06 -2.049242e-05  1.796249e-06 -2.928994e-06   \n",
       "5238690 -2.227017e-06  7.125424e-07 -3.073167e-05  1.963753e-06 -1.250788e-06   \n",
       "5238691  2.906097e-07 -6.300568e-07 -4.751704e-05  9.563120e-07 -7.475257e-07   \n",
       "5238692  1.129745e-06 -1.301256e-06 -5.288866e-05 -1.058225e-06 -2.594154e-06   \n",
       "\n",
       "                emg11     emg12  move  \n",
       "0       -5.609089e-06  0.000040     0  \n",
       "1       -3.259393e-06  0.000050     0  \n",
       "2       -7.045269e-08  0.000047     0  \n",
       "3        1.439995e-06  0.000032     0  \n",
       "4        9.700835e-08  0.000014     0  \n",
       "...               ...       ...   ...  \n",
       "5238688  1.012069e-06 -0.000022    49  \n",
       "5238689  1.179876e-06 -0.000018    49  \n",
       "5238690  5.084372e-07 -0.000014    49  \n",
       "5238691 -1.630021e-07 -0.000012    49  \n",
       "5238692  3.405036e-07 -0.000014     0  \n",
       "\n",
       "[5238693 rows x 13 columns]"
      ]
     },
     "execution_count": 4,
     "metadata": {},
     "output_type": "execute_result"
    }
   ],
   "source": [
    "from nina_helper import *\n",
    "\n",
    "db2_path = \"Ninapro_DB2/\"\n",
    "\n",
    "# Decide window length (150ms window, 10ms increment)\n",
    "window_len = 20\n",
    "window_inc = 1\n",
    "\n",
    "# Choose subject and get info\n",
    "subject = 1\n",
    "info_dict = db2_info()  # Get info\n",
    "\n",
    "data_dict = nina_helper.import_db2(db2_path, subject)\n",
    "\n",
    "data_dict.keys()\n",
    "\n",
    "emg_col = []\n",
    "for i in range(1,13):\n",
    "    emg_col.append('emg'+str(i))\n",
    "df = pd.DataFrame(columns=emg_col)\n",
    "df['move'] = data_dict['move']\n",
    "df[emg_col] = data_dict['emg']\n",
    "df"
   ]
  },
  {
   "cell_type": "code",
   "execution_count": 6,
   "metadata": {},
   "outputs": [
    {
     "data": {
      "text/plain": [
       "array([1, 2, 3, 4, 5, 6])"
      ]
     },
     "execution_count": 6,
     "metadata": {},
     "output_type": "execute_result"
    }
   ],
   "source": [
    "info_dict['rep_labels']"
   ]
  },
  {
   "cell_type": "code",
   "execution_count": 11,
   "metadata": {},
   "outputs": [],
   "source": [
    "from nina_helper import *\n",
    "import numpy as np\n",
    "from tqdm.notebook import trange, tqdm\n",
    "\n",
    "db2_path = \"Ninapro_DB2/\"\n",
    "\n",
    "def one_hot(cat_idx,y_all):\n",
    "    y_hot = []\n",
    "    for y in y_all:\n",
    "        if y in cat_idx:\n",
    "            idx = list(cat_idx).index(y)\n",
    "            hot = np.zeros(len(cat_idx))\n",
    "            hot[idx] = 1\n",
    "            y_hot.append(hot)\n",
    "    return np.array(y_hot)\n",
    "\n",
    "def return_singleSubj_prep_data(subject,moves,window_len,window_inc):\n",
    "    data_dict = nina_helper.import_db2(db2_path, subject, rest_length_cap=5)\n",
    "\n",
    "    # Create a random test - training split based on repetition number (specify a set to include)\n",
    "    reps = info_dict['rep_labels']\n",
    "    nb_test_reps = 2\n",
    "    nb_splits = 12\n",
    "#     train_reps, test_reps = gen_split_rand(reps, nb_test_reps, nb_splits, base=[2, 5])\n",
    "    train_reps, test_reps = gen_split_balanced(reps, nb_test_reps, base=None)\n",
    "\n",
    "    # Normalise EMG data based on training set\n",
    "    emg_data = normalise_emg(data_dict['emg'], data_dict['rep'], train_reps[0, :])\n",
    "\n",
    "    # Window data: x_all data is 4D tensor [observation, time_step, channel, 1] for use with Keras\n",
    "    # y_all: movement label, length: number of windows\n",
    "    # r_all: repetition label, length: number of windows\n",
    "    x_all, y_all, r_all = get_windows(reps, window_len, window_inc,\n",
    "                                      emg_data, data_dict['move'],\n",
    "                                      data_dict['rep'],which_moves=moves)\n",
    "\n",
    "    test_idx = get_idxs(r_all, test_reps[0, :])\n",
    "    test_data = x_all[test_idx, :, :, :]\n",
    "\n",
    "    one_hot_categorical = to_categorical(y_all)\n",
    "#     one_hot_categorical = one_hot(moves,y_all)   # Uncomment this for all except Rest Dataprep\n",
    "    \n",
    "    return x_all, y_all, r_all,one_hot_categorical"
   ]
  },
  {
   "cell_type": "code",
   "execution_count": 23,
   "metadata": {},
   "outputs": [
    {
     "data": {
      "text/plain": [
       "(5667, 150, 12, 1)"
      ]
     },
     "execution_count": 23,
     "metadata": {},
     "output_type": "execute_result"
    }
   ],
   "source": [
    "moves = np.array([9,10,11,12,13,14,15,16,17])\n",
    "x_all, y_all, r_all,one_hot_categorical = return_singleSubj_prep_data(2,moves,150,75)\n",
    "x_all.shape"
   ]
  },
  {
   "cell_type": "code",
   "execution_count": 24,
   "metadata": {},
   "outputs": [
    {
     "data": {
      "text/plain": [
       "(5667, 9)"
      ]
     },
     "execution_count": 24,
     "metadata": {},
     "output_type": "execute_result"
    }
   ],
   "source": [
    "one_hot_categorical.shape"
   ]
  },
  {
   "cell_type": "code",
   "execution_count": 6,
   "metadata": {},
   "outputs": [],
   "source": [
    "def return_prep_data(subject_list,moves,window_len,window_inc):\n",
    "    X,Y,R,Y_hot = return_singleSubj_prep_data(subject_list[0],moves,window_len,window_inc)\n",
    "    for subject in tqdm(subject_list[1:]):\n",
    "        x_all, y_all, r_all,one_hot_categorical = return_singleSubj_prep_data(subject,moves,window_len,window_inc)\n",
    "        X = np.vstack([X,x_all])\n",
    "        Y = np.hstack([Y,y_all])\n",
    "        R = np.hstack([R,r_all])\n",
    "        Y_hot = np.vstack([Y_hot,one_hot_categorical])\n",
    "    return X,Y,R,Y_hot"
   ]
  },
  {
   "cell_type": "markdown",
   "metadata": {},
   "source": [
    "# Wrist Motion Dataprep {All 9 Class}"
   ]
  },
  {
   "cell_type": "code",
   "execution_count": 7,
   "metadata": {},
   "outputs": [],
   "source": [
    "# subject_list = list(range(1,11))\n",
    "# subject_list = list(range(1,31))\n",
    "subject_list = list(range(1,41))\n",
    "moves = np.array([9,10,11,12,13,14,15,16,17])\n",
    "window_len = 250\n",
    "window_inc = 50"
   ]
  },
  {
   "cell_type": "code",
   "execution_count": null,
   "metadata": {},
   "outputs": [],
   "source": [
    "wrist_moves = ['Suplination - CW (rot axis Mid finger)',\n",
    "               'Pronation - CCW (rot axis Mid finger)',\n",
    "               'Suplination - CW (rot axis lit finger)',\n",
    "               'Pronation - CCW (rot axis lit finger)',\n",
    "               'Flexion - Bend Towards',' Extension - Bend Backward',\n",
    "               'Radial - Left - CCW',\n",
    "               'Radial - Righ - CW',\n",
    "               'Extension with closed hand']"
   ]
  },
  {
   "cell_type": "code",
   "execution_count": 12,
   "metadata": {},
   "outputs": [
    {
     "data": {
      "application/vnd.jupyter.widget-view+json": {
       "model_id": "80df9632009045758eb4349a86d77b44",
       "version_major": 2,
       "version_minor": 0
      },
      "text/plain": [
       "HBox(children=(FloatProgress(value=0.0, max=39.0), HTML(value='')))"
      ]
     },
     "metadata": {},
     "output_type": "display_data"
    },
    {
     "name": "stdout",
     "output_type": "stream",
     "text": [
      "\n"
     ]
    },
    {
     "data": {
      "text/plain": [
       "(370616, 250, 12, 1)"
      ]
     },
     "execution_count": 12,
     "metadata": {},
     "output_type": "execute_result"
    }
   ],
   "source": [
    "X,Y,R,Y_hot = return_prep_data(subject_list,moves,window_len,window_inc)\n",
    "X.shape"
   ]
  },
  {
   "cell_type": "code",
   "execution_count": null,
   "metadata": {},
   "outputs": [],
   "source": [
    "np.save('prepared_data/norest_X_all_wrist_'+str(window_len)+'_'+str(len(subject_list)),X)\n",
    "np.save('prepared_data/norest_Y_all_wrist_'+str(window_len)+'_'+str(len(subject_list)),Y)\n",
    "np.save('prepared_data/norest_R_all_wrist_'+str(window_len)+'_'+str(len(subject_list)),R)\n",
    "np.save('prepared_data/norest_Y_hot_all_wrist_'+str(window_len)+'_'+str(len(subject_list)),Y_hot)"
   ]
  },
  {
   "cell_type": "markdown",
   "metadata": {},
   "source": [
    "File Coding - X_all_motion_windowLen_no.subjects"
   ]
  },
  {
   "cell_type": "markdown",
   "metadata": {},
   "source": [
    "# Grasping Motion Dataprep {Rest,All Grasp} Converted to Binary{Rest/Grasp}"
   ]
  },
  {
   "cell_type": "code",
   "execution_count": 8,
   "metadata": {},
   "outputs": [],
   "source": [
    "# subject_list = list(range(1,31))\n",
    "subject_list = list(range(1,41))\n",
    "moves = np.array([0,27,28,29,33,35,37,38])\n",
    "window_len = 250\n",
    "window_inc = 50"
   ]
  },
  {
   "cell_type": "code",
   "execution_count": 9,
   "metadata": {},
   "outputs": [
    {
     "data": {
      "application/vnd.jupyter.widget-view+json": {
       "model_id": "c44820ec1a484927b6e108f7c531e8ed",
       "version_major": 2,
       "version_minor": 0
      },
      "text/plain": [
       "HBox(children=(FloatProgress(value=0.0, max=39.0), HTML(value='')))"
      ]
     },
     "metadata": {},
     "output_type": "display_data"
    },
    {
     "name": "stdout",
     "output_type": "stream",
     "text": [
      "\n"
     ]
    },
    {
     "data": {
      "text/plain": [
       "(2157484, 250, 12, 1)"
      ]
     },
     "execution_count": 9,
     "metadata": {},
     "output_type": "execute_result"
    }
   ],
   "source": [
    "X_grasp,Y_grasp,R_grasp,Y_hot_grasp = return_prep_data(subject_list,moves,window_len,window_inc)\n",
    "X_grasp.shape"
   ]
  },
  {
   "cell_type": "code",
   "execution_count": 10,
   "metadata": {},
   "outputs": [],
   "source": [
    "np.save('prepared_data/X_all_grasp_'+str(window_len)+'_'+str(len(subject_list)),X_grasp)\n",
    "np.save('prepared_data/Y_all_grasp_'+str(window_len)+'_'+str(len(subject_list)),Y_grasp)\n",
    "np.save('prepared_data/R_all_grasp_'+str(window_len)+'_'+str(len(subject_list)),R_grasp)\n",
    "np.save('prepared_data/Y_hot_all_grasp_'+str(window_len)+'_'+str(len(subject_list)),Y_hot_grasp)"
   ]
  },
  {
   "cell_type": "markdown",
   "metadata": {},
   "source": [
    "## Pronation/Supplination Dataprep"
   ]
  },
  {
   "cell_type": "code",
   "execution_count": 9,
   "metadata": {},
   "outputs": [
    {
     "name": "stdout",
     "output_type": "stream",
     "text": [
      "250 50\n"
     ]
    }
   ],
   "source": [
    "# subject_list = list(range(1,31))\n",
    "subject_list = list(range(1,41))\n",
    "moves = np.array([9,10,11,12])\n",
    "window_len = 250\n",
    "window_inc = 50\n",
    "print(window_len,window_inc)"
   ]
  },
  {
   "cell_type": "code",
   "execution_count": 10,
   "metadata": {},
   "outputs": [],
   "source": [
    "labels = ['Suplination - CW (rot axis Mid finger)',\n",
    "           'Pronation - CCW (rot axis Mid finger)',\n",
    "           'Suplination - CW (rot axis lit finger)',\n",
    "           'Pronation - CCW (rot axis lit finger)']"
   ]
  },
  {
   "cell_type": "code",
   "execution_count": 11,
   "metadata": {},
   "outputs": [
    {
     "data": {
      "application/vnd.jupyter.widget-view+json": {
       "model_id": "2445e0e550f340fbb9275fa7ce55aad9",
       "version_major": 2,
       "version_minor": 0
      },
      "text/plain": [
       "HBox(children=(FloatProgress(value=0.0, max=39.0), HTML(value='')))"
      ]
     },
     "metadata": {},
     "output_type": "display_data"
    },
    {
     "name": "stdout",
     "output_type": "stream",
     "text": [
      "\n"
     ]
    },
    {
     "data": {
      "text/plain": [
       "(186012, 250, 12, 1)"
      ]
     },
     "execution_count": 11,
     "metadata": {},
     "output_type": "execute_result"
    }
   ],
   "source": [
    "X_ProSup,Y_ProSup,R_ProSup,Y_hot_ProSup = return_prep_data(subject_list,moves,window_len,window_inc)\n",
    "X_ProSup.shape"
   ]
  },
  {
   "cell_type": "code",
   "execution_count": 12,
   "metadata": {},
   "outputs": [],
   "source": [
    "np.save('prepared_data/X_all_ProSup_'+str(window_len)+'_'+str(len(subject_list)),X_ProSup)\n",
    "np.save('prepared_data/Y_all_ProSup_'+str(window_len)+'_'+str(len(subject_list)),Y_ProSup)\n",
    "np.save('prepared_data/R_all_ProSup_'+str(window_len)+'_'+str(len(subject_list)),R_ProSup)\n",
    "np.save('prepared_data/Y_hot_all_ProSup_'+str(window_len)+'_'+str(len(subject_list)),Y_hot_ProSup)"
   ]
  },
  {
   "cell_type": "markdown",
   "metadata": {},
   "source": [
    "## Radial/Ulnar"
   ]
  },
  {
   "cell_type": "code",
   "execution_count": 12,
   "metadata": {},
   "outputs": [],
   "source": [
    "# subject_list = list(range(1,31))\n",
    "subject_list = list(range(1,41))\n",
    "moves = np.array([15,16])\n",
    "\n",
    "window_len = 250\n",
    "window_inc = 50"
   ]
  },
  {
   "cell_type": "code",
   "execution_count": 13,
   "metadata": {},
   "outputs": [],
   "source": [
    "labels = ['Radial - CCW','Ulnar - CW',]"
   ]
  },
  {
   "cell_type": "code",
   "execution_count": 14,
   "metadata": {},
   "outputs": [
    {
     "data": {
      "application/vnd.jupyter.widget-view+json": {
       "model_id": "8f6d5198794a462db1331f5ab38c248f",
       "version_major": 2,
       "version_minor": 0
      },
      "text/plain": [
       "HBox(children=(FloatProgress(value=0.0, max=39.0), HTML(value='')))"
      ]
     },
     "metadata": {},
     "output_type": "display_data"
    },
    {
     "name": "stdout",
     "output_type": "stream",
     "text": [
      "\n"
     ]
    },
    {
     "data": {
      "text/plain": [
       "(83114, 250, 12, 1)"
      ]
     },
     "execution_count": 14,
     "metadata": {},
     "output_type": "execute_result"
    }
   ],
   "source": [
    "X_radial,Y_radial,R_radial,Y_hot_radial = return_prep_data(subject_list,moves,window_len,window_inc)\n",
    "X_radial.shape"
   ]
  },
  {
   "cell_type": "code",
   "execution_count": 15,
   "metadata": {},
   "outputs": [],
   "source": [
    "np.save('prepared_data/X_all_Radial_'+str(window_len)+'_'+str(len(subject_list)),X_radial)\n",
    "np.save('prepared_data/Y_all_Radial_'+str(window_len)+'_'+str(len(subject_list)),Y_radial)\n",
    "np.save('prepared_data/R_all_Radial_'+str(window_len)+'_'+str(len(subject_list)),R_radial)\n",
    "np.save('prepared_data/Y_hot_all_Radial_'+str(window_len)+'_'+str(len(subject_list)),Y_hot_radial)"
   ]
  },
  {
   "cell_type": "markdown",
   "metadata": {},
   "source": [
    "## Flexion/Extension Dataprep"
   ]
  },
  {
   "cell_type": "code",
   "execution_count": 16,
   "metadata": {},
   "outputs": [],
   "source": [
    "# subject_list = list(range(1,31))\n",
    "subject_list = list(range(1,41))\n",
    "moves = np.array([13,14])\n",
    "\n",
    "window_len = 250\n",
    "window_inc = 50"
   ]
  },
  {
   "cell_type": "code",
   "execution_count": 17,
   "metadata": {},
   "outputs": [],
   "source": [
    "labels = ['Flexion - Bend Towards',\n",
    "          'Extension - Bend Backward']"
   ]
  },
  {
   "cell_type": "code",
   "execution_count": 18,
   "metadata": {},
   "outputs": [
    {
     "data": {
      "application/vnd.jupyter.widget-view+json": {
       "model_id": "e18a5ffa7aea4eaf8eee481145710e3b",
       "version_major": 2,
       "version_minor": 0
      },
      "text/plain": [
       "HBox(children=(FloatProgress(value=0.0, max=39.0), HTML(value='')))"
      ]
     },
     "metadata": {},
     "output_type": "display_data"
    },
    {
     "name": "stdout",
     "output_type": "stream",
     "text": [
      "\n"
     ]
    },
    {
     "data": {
      "text/plain": [
       "(67284, 250, 12, 1)"
      ]
     },
     "execution_count": 18,
     "metadata": {},
     "output_type": "execute_result"
    }
   ],
   "source": [
    "X_FlexEx,Y_FlexEx,R_FlexEx,Y_hot_FlexEx = return_prep_data(subject_list,moves,window_len,window_inc)\n",
    "X_FlexEx.shape"
   ]
  },
  {
   "cell_type": "code",
   "execution_count": 19,
   "metadata": {},
   "outputs": [],
   "source": [
    "np.save('prepared_data/X_all_FlexEx_'+str(window_len)+'_'+str(len(subject_list)),X_FlexEx)\n",
    "np.save('prepared_data/Y_all_FlexEx_'+str(window_len)+'_'+str(len(subject_list)),Y_FlexEx)\n",
    "np.save('prepared_data/R_all_FlexEx_'+str(window_len)+'_'+str(len(subject_list)),R_FlexEx)\n",
    "np.save('prepared_data/Y_hot_all_FlexEx_'+str(window_len)+'_'+str(len(subject_list)),Y_hot_FlexEx)"
   ]
  },
  {
   "cell_type": "markdown",
   "metadata": {},
   "source": [
    "## Rest/Motion Dataprep"
   ]
  },
  {
   "cell_type": "code",
   "execution_count": 12,
   "metadata": {},
   "outputs": [],
   "source": [
    "# subject_list = list(range(1,31))\n",
    "subject_list = list(range(1,41))\n",
    "moves = None\n",
    "\n",
    "window_len = 250\n",
    "window_inc = 50"
   ]
  },
  {
   "cell_type": "code",
   "execution_count": 13,
   "metadata": {},
   "outputs": [],
   "source": [
    "labels = ['Rest',\n",
    "          'Motion']"
   ]
  },
  {
   "cell_type": "code",
   "execution_count": 14,
   "metadata": {},
   "outputs": [
    {
     "data": {
      "application/vnd.jupyter.widget-view+json": {
       "model_id": "afce7bec9259445083e3b326db9481f5",
       "version_major": 2,
       "version_minor": 0
      },
      "text/plain": [
       "HBox(children=(FloatProgress(value=0.0, max=39.0), HTML(value='')))"
      ]
     },
     "metadata": {},
     "output_type": "display_data"
    },
    {
     "name": "stdout",
     "output_type": "stream",
     "text": [
      "\n"
     ]
    },
    {
     "ename": "MemoryError",
     "evalue": "Unable to allocate 38.4 GiB for an array with shape (3432130, 250, 12, 1) and data type float32",
     "output_type": "error",
     "traceback": [
      "\u001b[1;31m---------------------------------------------------------------------------\u001b[0m",
      "\u001b[1;31mMemoryError\u001b[0m                               Traceback (most recent call last)",
      "\u001b[1;32m<ipython-input-14-d425b3d47b41>\u001b[0m in \u001b[0;36m<module>\u001b[1;34m\u001b[0m\n\u001b[1;32m----> 1\u001b[1;33m \u001b[0mX_rest\u001b[0m\u001b[1;33m,\u001b[0m\u001b[0mY_rest\u001b[0m\u001b[1;33m,\u001b[0m\u001b[0mR_rest\u001b[0m\u001b[1;33m,\u001b[0m\u001b[0mY_hot_rest\u001b[0m \u001b[1;33m=\u001b[0m \u001b[0mreturn_prep_data\u001b[0m\u001b[1;33m(\u001b[0m\u001b[0msubject_list\u001b[0m\u001b[1;33m,\u001b[0m\u001b[0mmoves\u001b[0m\u001b[1;33m,\u001b[0m\u001b[0mwindow_len\u001b[0m\u001b[1;33m,\u001b[0m\u001b[0mwindow_inc\u001b[0m\u001b[1;33m)\u001b[0m\u001b[1;33m\u001b[0m\u001b[1;33m\u001b[0m\u001b[0m\n\u001b[0m\u001b[0;32m      2\u001b[0m \u001b[0mX_rest\u001b[0m\u001b[1;33m.\u001b[0m\u001b[0mshape\u001b[0m\u001b[1;33m\u001b[0m\u001b[1;33m\u001b[0m\u001b[0m\n",
      "\u001b[1;32m<ipython-input-6-fde3cd0b9ce1>\u001b[0m in \u001b[0;36mreturn_prep_data\u001b[1;34m(subject_list, moves, window_len, window_inc)\u001b[0m\n\u001b[0;32m      3\u001b[0m     \u001b[1;32mfor\u001b[0m \u001b[0msubject\u001b[0m \u001b[1;32min\u001b[0m \u001b[0mtqdm\u001b[0m\u001b[1;33m(\u001b[0m\u001b[0msubject_list\u001b[0m\u001b[1;33m[\u001b[0m\u001b[1;36m1\u001b[0m\u001b[1;33m:\u001b[0m\u001b[1;33m]\u001b[0m\u001b[1;33m)\u001b[0m\u001b[1;33m:\u001b[0m\u001b[1;33m\u001b[0m\u001b[1;33m\u001b[0m\u001b[0m\n\u001b[0;32m      4\u001b[0m         \u001b[0mx_all\u001b[0m\u001b[1;33m,\u001b[0m \u001b[0my_all\u001b[0m\u001b[1;33m,\u001b[0m \u001b[0mr_all\u001b[0m\u001b[1;33m,\u001b[0m\u001b[0mone_hot_categorical\u001b[0m \u001b[1;33m=\u001b[0m \u001b[0mreturn_singleSubj_prep_data\u001b[0m\u001b[1;33m(\u001b[0m\u001b[0msubject\u001b[0m\u001b[1;33m,\u001b[0m\u001b[0mmoves\u001b[0m\u001b[1;33m,\u001b[0m\u001b[0mwindow_len\u001b[0m\u001b[1;33m,\u001b[0m\u001b[0mwindow_inc\u001b[0m\u001b[1;33m)\u001b[0m\u001b[1;33m\u001b[0m\u001b[1;33m\u001b[0m\u001b[0m\n\u001b[1;32m----> 5\u001b[1;33m         \u001b[0mX\u001b[0m \u001b[1;33m=\u001b[0m \u001b[0mnp\u001b[0m\u001b[1;33m.\u001b[0m\u001b[0mvstack\u001b[0m\u001b[1;33m(\u001b[0m\u001b[1;33m[\u001b[0m\u001b[0mX\u001b[0m\u001b[1;33m,\u001b[0m\u001b[0mx_all\u001b[0m\u001b[1;33m]\u001b[0m\u001b[1;33m)\u001b[0m\u001b[1;33m\u001b[0m\u001b[1;33m\u001b[0m\u001b[0m\n\u001b[0m\u001b[0;32m      6\u001b[0m         \u001b[0mY\u001b[0m \u001b[1;33m=\u001b[0m \u001b[0mnp\u001b[0m\u001b[1;33m.\u001b[0m\u001b[0mhstack\u001b[0m\u001b[1;33m(\u001b[0m\u001b[1;33m[\u001b[0m\u001b[0mY\u001b[0m\u001b[1;33m,\u001b[0m\u001b[0my_all\u001b[0m\u001b[1;33m]\u001b[0m\u001b[1;33m)\u001b[0m\u001b[1;33m\u001b[0m\u001b[1;33m\u001b[0m\u001b[0m\n\u001b[0;32m      7\u001b[0m         \u001b[0mR\u001b[0m \u001b[1;33m=\u001b[0m \u001b[0mnp\u001b[0m\u001b[1;33m.\u001b[0m\u001b[0mhstack\u001b[0m\u001b[1;33m(\u001b[0m\u001b[1;33m[\u001b[0m\u001b[0mR\u001b[0m\u001b[1;33m,\u001b[0m\u001b[0mr_all\u001b[0m\u001b[1;33m]\u001b[0m\u001b[1;33m)\u001b[0m\u001b[1;33m\u001b[0m\u001b[1;33m\u001b[0m\u001b[0m\n",
      "\u001b[1;32m<__array_function__ internals>\u001b[0m in \u001b[0;36mvstack\u001b[1;34m(*args, **kwargs)\u001b[0m\n",
      "\u001b[1;32m~\\AppData\\Local\\Programs\\Python\\Python38\\lib\\site-packages\\numpy\\core\\shape_base.py\u001b[0m in \u001b[0;36mvstack\u001b[1;34m(tup)\u001b[0m\n\u001b[0;32m    281\u001b[0m     \u001b[1;32mif\u001b[0m \u001b[1;32mnot\u001b[0m \u001b[0misinstance\u001b[0m\u001b[1;33m(\u001b[0m\u001b[0marrs\u001b[0m\u001b[1;33m,\u001b[0m \u001b[0mlist\u001b[0m\u001b[1;33m)\u001b[0m\u001b[1;33m:\u001b[0m\u001b[1;33m\u001b[0m\u001b[1;33m\u001b[0m\u001b[0m\n\u001b[0;32m    282\u001b[0m         \u001b[0marrs\u001b[0m \u001b[1;33m=\u001b[0m \u001b[1;33m[\u001b[0m\u001b[0marrs\u001b[0m\u001b[1;33m]\u001b[0m\u001b[1;33m\u001b[0m\u001b[1;33m\u001b[0m\u001b[0m\n\u001b[1;32m--> 283\u001b[1;33m     \u001b[1;32mreturn\u001b[0m \u001b[0m_nx\u001b[0m\u001b[1;33m.\u001b[0m\u001b[0mconcatenate\u001b[0m\u001b[1;33m(\u001b[0m\u001b[0marrs\u001b[0m\u001b[1;33m,\u001b[0m \u001b[1;36m0\u001b[0m\u001b[1;33m)\u001b[0m\u001b[1;33m\u001b[0m\u001b[1;33m\u001b[0m\u001b[0m\n\u001b[0m\u001b[0;32m    284\u001b[0m \u001b[1;33m\u001b[0m\u001b[0m\n\u001b[0;32m    285\u001b[0m \u001b[1;33m\u001b[0m\u001b[0m\n",
      "\u001b[1;32m<__array_function__ internals>\u001b[0m in \u001b[0;36mconcatenate\u001b[1;34m(*args, **kwargs)\u001b[0m\n",
      "\u001b[1;31mMemoryError\u001b[0m: Unable to allocate 38.4 GiB for an array with shape (3432130, 250, 12, 1) and data type float32"
     ]
    }
   ],
   "source": [
    "X_rest,Y_rest,R_rest,Y_hot_rest = return_prep_data(subject_list,moves,window_len,window_inc)\n",
    "X_rest.shape"
   ]
  },
  {
   "cell_type": "code",
   "execution_count": null,
   "metadata": {},
   "outputs": [],
   "source": [
    "np.save('prepared_data/X_all_rest_'+str(window_len)+'_'+str(len(subject_list)),X_rest)\n",
    "np.save('prepared_data/Y_all_rest_'+str(window_len)+'_'+str(len(subject_list)),Y_rest)\n",
    "np.save('prepared_data/R_all_rest_'+str(window_len)+'_'+str(len(subject_list)),R_rest)\n",
    "np.save('prepared_data/Y_hot_all_rest_'+str(window_len)+'_'+str(len(subject_list)),Y_hot_rest)"
   ]
  }
 ],
 "metadata": {
  "kernelspec": {
   "display_name": "Python 3.8.0 64-bit",
   "language": "python",
   "name": "python38064bitcaed634bb72a48a5bf9eda0dc4f94389"
  },
  "language_info": {
   "codemirror_mode": {
    "name": "ipython",
    "version": 3
   },
   "file_extension": ".py",
   "mimetype": "text/x-python",
   "name": "python",
   "nbconvert_exporter": "python",
   "pygments_lexer": "ipython3",
   "version": "3.8.5"
  }
 },
 "nbformat": 4,
 "nbformat_minor": 4
}
