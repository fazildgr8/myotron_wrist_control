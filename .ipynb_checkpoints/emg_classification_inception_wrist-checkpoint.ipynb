{
 "cells": [
  {
   "cell_type": "markdown",
   "metadata": {},
   "source": [
    "# InceptionTime Model \n",
    "# on Time Series EMG Classification on Ninapro Dataset [Wrist Motions]\n",
    "\n",
    "InceptionTime is a 1D Convolution based Deep Neural Network model which is currently quoted as the state of the art TSC model from the published paper [InceptionTime: Finding AlexNet for Time Series Classification](https://arxiv.org/abs/1909.04939).\n",
    "\n",
    "#### Understanding Data\n",
    "Input data will be a 2D matrix which has rows as the time-step and columns as emg channels.\n",
    "Window Length X No.EMG Sensors\n",
    "\n",
    "#### Model Accuracy  Results"
   ]
  },
  {
   "cell_type": "code",
   "execution_count": 38,
   "metadata": {},
   "outputs": [],
   "source": [
    "import numpy as np\n",
    "import pandas as pd\n",
    "import datetime\n",
    "import matplotlib.pyplot as plt\n",
    "import glob\n",
    "import warnings\n",
    "from tqdm.notebook import trange, tqdm\n",
    "from keras.utils import to_categorical\n",
    "from random import randrange\n",
    "# warnings.filterwarnings(action='once')\n",
    "# warnings.filterwarnings('ignore')\n",
    "# warnings.simplefilter('ignore')"
   ]
  },
  {
   "cell_type": "markdown",
   "metadata": {},
   "source": [
    "## Import the Prepared Datasets"
   ]
  },
  {
   "cell_type": "code",
   "execution_count": 39,
   "metadata": {},
   "outputs": [],
   "source": [
    "win_len = 250\n",
    "X = np.load('prepared_data/norest_X_all_wrist_{}_40.npy'.format(win_len))\n",
    "y = np.load('prepared_data/norest_Y_hot_all_wrist_{}_40.npy'.format(win_len))\n",
    "Y_stim = np.load('prepared_data/norest_Y_all_wrist_{}_40.npy'.format(win_len))"
   ]
  },
  {
   "cell_type": "code",
   "execution_count": 40,
   "metadata": {},
   "outputs": [
    {
     "data": {
      "text/plain": [
       "(370616, 250, 12)"
      ]
     },
     "execution_count": 40,
     "metadata": {},
     "output_type": "execute_result"
    }
   ],
   "source": [
    "X = np.reshape(X,(X.shape[0],X.shape[1],X.shape[2]))\n",
    "X.shape"
   ]
  },
  {
   "cell_type": "code",
   "execution_count": 41,
   "metadata": {},
   "outputs": [
    {
     "data": {
      "text/plain": [
       "(370616, 9)"
      ]
     },
     "execution_count": 41,
     "metadata": {},
     "output_type": "execute_result"
    }
   ],
   "source": [
    "y.shape"
   ]
  },
  {
   "cell_type": "code",
   "execution_count": 42,
   "metadata": {},
   "outputs": [],
   "source": [
    "y_true = []\n",
    "for d in y_test:\n",
    "    idx = list(d).index(1)\n",
    "    y_true.append(idx)"
   ]
  },
  {
   "cell_type": "markdown",
   "metadata": {},
   "source": [
    "### Data Bias Check (Remove Rest Bias)"
   ]
  },
  {
   "cell_type": "code",
   "execution_count": 43,
   "metadata": {},
   "outputs": [],
   "source": [
    "def countX(lst, x): \n",
    "    count = 0\n",
    "    for ele in lst: \n",
    "        if (ele == x): \n",
    "            count = count + 1\n",
    "    return count "
   ]
  },
  {
   "cell_type": "markdown",
   "metadata": {},
   "source": [
    "### Merge, Shuffle and Split"
   ]
  },
  {
   "cell_type": "code",
   "execution_count": 85,
   "metadata": {},
   "outputs": [],
   "source": [
    "from sklearn.model_selection import train_test_split\n",
    "\n",
    "X_train, X_test, y_train, y_test = train_test_split(X,y,test_size=0.2,shuffle=True)"
   ]
  },
  {
   "cell_type": "markdown",
   "metadata": {},
   "source": [
    "##### Keep only 8 EMG data"
   ]
  },
  {
   "cell_type": "code",
   "execution_count": 86,
   "metadata": {},
   "outputs": [],
   "source": [
    "def rm_columns(X,n):\n",
    "#     X_r = list(np.zeros((X.shape[0],X.shape[1],X.shape[2]-n)))\n",
    "    X_r = []\n",
    "    for i in tqdm(range(len(X))):\n",
    "        d = np.copy(X[i])\n",
    "        for i in range(n):\n",
    "            d = np.delete(d, -1, 1)\n",
    "        X_r.append(d)\n",
    "    return np.array(X_r)"
   ]
  },
  {
   "cell_type": "code",
   "execution_count": 87,
   "metadata": {},
   "outputs": [
    {
     "data": {
      "application/vnd.jupyter.widget-view+json": {
       "model_id": "a3edb0f0634d4241ad962b3e3baf9055",
       "version_major": 2,
       "version_minor": 0
      },
      "text/plain": [
       "HBox(children=(FloatProgress(value=0.0, max=296492.0), HTML(value='')))"
      ]
     },
     "metadata": {},
     "output_type": "display_data"
    },
    {
     "name": "stdout",
     "output_type": "stream",
     "text": [
      "\n"
     ]
    },
    {
     "data": {
      "application/vnd.jupyter.widget-view+json": {
       "model_id": "33dcce93175a498f82926538d3c0c7b4",
       "version_major": 2,
       "version_minor": 0
      },
      "text/plain": [
       "HBox(children=(FloatProgress(value=0.0, max=74124.0), HTML(value='')))"
      ]
     },
     "metadata": {},
     "output_type": "display_data"
    },
    {
     "name": "stdout",
     "output_type": "stream",
     "text": [
      "\n"
     ]
    }
   ],
   "source": [
    "X_train = rm_columns(X_train,4)\n",
    "X_test = rm_columns(X_test,4)"
   ]
  },
  {
   "cell_type": "code",
   "execution_count": 88,
   "metadata": {},
   "outputs": [
    {
     "name": "stdout",
     "output_type": "stream",
     "text": [
      "X Train Shape = (296492, 250, 8)\n",
      "Y Train Shape = (296492, 9)\n",
      "X Test Shape = (74124, 250, 8)\n",
      "Y Test Shape = (74124, 9)\n"
     ]
    }
   ],
   "source": [
    "print('X Train Shape =',X_train.shape)\n",
    "print('Y Train Shape =',y_train.shape)\n",
    "print('X Test Shape =',X_test.shape)\n",
    "print('Y Test Shape =',y_test.shape)"
   ]
  },
  {
   "cell_type": "markdown",
   "metadata": {},
   "source": [
    "## Normalization Section"
   ]
  },
  {
   "cell_type": "code",
   "execution_count": 89,
   "metadata": {},
   "outputs": [],
   "source": [
    "from sklearn.preprocessing import normalize\n",
    "from sklearn.preprocessing import MinMaxScaler\n",
    "from sklearn.preprocessing import StandardScaler"
   ]
  },
  {
   "cell_type": "code",
   "execution_count": 90,
   "metadata": {},
   "outputs": [],
   "source": [
    "def normalize_samples(X):\n",
    "    scaler = MinMaxScaler()\n",
    "    X_new = []\n",
    "    for i in tqdm(range(len(X))):\n",
    "        d = scaler.fit(X[i])\n",
    "        X_new.append(scaler.transform(X[i]))\n",
    "    return np.array(X_new)\n",
    "scaler = StandardScaler()\n",
    "def normalize_whole(data):\n",
    "    num_instances, num_time_steps, num_features = data.shape\n",
    "    data = np.reshape(data,(-1, num_features))\n",
    "    data = scaler.fit_transform(data)\n",
    "    data = np.reshape(data,(num_instances, num_time_steps, num_features))\n",
    "    return data"
   ]
  },
  {
   "cell_type": "code",
   "execution_count": 91,
   "metadata": {},
   "outputs": [],
   "source": [
    "X_train = normalize_whole(X_train)\n",
    "num_instances, num_time_steps, num_features = X_test.shape\n",
    "X_test = np.reshape(X_test,(-1, num_features))\n",
    "X_test = scaler.transform(X_test)\n",
    "X_test = np.reshape(X_test,(num_instances, num_time_steps, num_features))"
   ]
  },
  {
   "cell_type": "code",
   "execution_count": 92,
   "metadata": {},
   "outputs": [
    {
     "name": "stdout",
     "output_type": "stream",
     "text": [
      "X Train Shape = (296492, 250, 8)\n",
      "Y Train Shape = (296492, 9)\n",
      "X Test Shape = (74124, 250, 8)\n",
      "Y Test Shape = (74124, 9)\n"
     ]
    }
   ],
   "source": [
    "print('X Train Shape =',X_train.shape)\n",
    "print('Y Train Shape =',y_train.shape)\n",
    "print('X Test Shape =',X_test.shape)\n",
    "print('Y Test Shape =',y_test.shape)"
   ]
  },
  {
   "cell_type": "markdown",
   "metadata": {},
   "source": [
    "#### Save and Quick Load Prepared Data\n",
    "###### Save"
   ]
  },
  {
   "cell_type": "code",
   "execution_count": 93,
   "metadata": {},
   "outputs": [],
   "source": [
    "np.save('prepared_data/X_train_s40',X_train)\n",
    "np.save('prepared_data/y_train_s40',y_train)\n",
    "np.save('prepared_data/X_test_s40',X_test)\n",
    "np.save('prepared_data/y_test_s40',y_test)"
   ]
  },
  {
   "cell_type": "markdown",
   "metadata": {},
   "source": [
    "#### Load "
   ]
  },
  {
   "cell_type": "code",
   "execution_count": 78,
   "metadata": {
    "collapsed": true
   },
   "outputs": [
    {
     "name": "stdout",
     "output_type": "stream",
     "text": [
      "X Train Shape = (296492, 250, 8)\n",
      "Y Train Shape = (296492, 9)\n",
      "X Test Shape = (18531000, 8)\n",
      "Y Test Shape = (74124, 9)\n"
     ]
    }
   ],
   "source": [
    "X_train = np.load('prepared_data/X_train_s40.npy')\n",
    "y_train = np.load('prepared_data/y_train_s40.npy')\n",
    "X_test = np.load('prepared_data/X_test_s40.npy')\n",
    "y_test = np.load('prepared_data/y_test_s40.npy')\n",
    "print('X Train Shape =',X_train.shape)\n",
    "print('Y Train Shape =',y_train.shape)\n",
    "print('X Test Shape =',X_test.shape)\n",
    "print('Y Test Shape =',y_test.shape)"
   ]
  },
  {
   "cell_type": "markdown",
   "metadata": {},
   "source": [
    "# InceptionTime Trainer"
   ]
  },
  {
   "cell_type": "code",
   "execution_count": 94,
   "metadata": {},
   "outputs": [],
   "source": [
    "import numpy as np\n",
    "import sklearn\n",
    "import pandas as pd\n",
    "import sys\n",
    "import subprocess\n",
    "import tensorflow as tf\n",
    "from InceptionTime.classifiers.inception import Classifier_INCEPTION"
   ]
  },
  {
   "cell_type": "code",
   "execution_count": 95,
   "metadata": {},
   "outputs": [
    {
     "name": "stdout",
     "output_type": "stream",
     "text": [
      "Model: \"model_6\"\n",
      "__________________________________________________________________________________________________\n",
      "Layer (type)                    Output Shape         Param #     Connected to                     \n",
      "==================================================================================================\n",
      "input_7 (InputLayer)            [(None, 250, 8)]     0                                            \n",
      "__________________________________________________________________________________________________\n",
      "conv1d_318 (Conv1D)             (None, 250, 32)      256         input_7[0][0]                    \n",
      "__________________________________________________________________________________________________\n",
      "max_pooling1d_60 (MaxPooling1D) (None, 250, 8)       0           input_7[0][0]                    \n",
      "__________________________________________________________________________________________________\n",
      "conv1d_319 (Conv1D)             (None, 250, 16)      5120        conv1d_318[0][0]                 \n",
      "__________________________________________________________________________________________________\n",
      "conv1d_320 (Conv1D)             (None, 250, 16)      2560        conv1d_318[0][0]                 \n",
      "__________________________________________________________________________________________________\n",
      "conv1d_321 (Conv1D)             (None, 250, 16)      1024        conv1d_318[0][0]                 \n",
      "__________________________________________________________________________________________________\n",
      "conv1d_322 (Conv1D)             (None, 250, 16)      128         max_pooling1d_60[0][0]           \n",
      "__________________________________________________________________________________________________\n",
      "concatenate_60 (Concatenate)    (None, 250, 64)      0           conv1d_319[0][0]                 \n",
      "                                                                 conv1d_320[0][0]                 \n",
      "                                                                 conv1d_321[0][0]                 \n",
      "                                                                 conv1d_322[0][0]                 \n",
      "__________________________________________________________________________________________________\n",
      "batch_normalization_78 (BatchNo (None, 250, 64)      256         concatenate_60[0][0]             \n",
      "__________________________________________________________________________________________________\n",
      "activation_78 (Activation)      (None, 250, 64)      0           batch_normalization_78[0][0]     \n",
      "__________________________________________________________________________________________________\n",
      "conv1d_323 (Conv1D)             (None, 250, 32)      2048        activation_78[0][0]              \n",
      "__________________________________________________________________________________________________\n",
      "max_pooling1d_61 (MaxPooling1D) (None, 250, 64)      0           activation_78[0][0]              \n",
      "__________________________________________________________________________________________________\n",
      "conv1d_324 (Conv1D)             (None, 250, 16)      5120        conv1d_323[0][0]                 \n",
      "__________________________________________________________________________________________________\n",
      "conv1d_325 (Conv1D)             (None, 250, 16)      2560        conv1d_323[0][0]                 \n",
      "__________________________________________________________________________________________________\n",
      "conv1d_326 (Conv1D)             (None, 250, 16)      1024        conv1d_323[0][0]                 \n",
      "__________________________________________________________________________________________________\n",
      "conv1d_327 (Conv1D)             (None, 250, 16)      1024        max_pooling1d_61[0][0]           \n",
      "__________________________________________________________________________________________________\n",
      "concatenate_61 (Concatenate)    (None, 250, 64)      0           conv1d_324[0][0]                 \n",
      "                                                                 conv1d_325[0][0]                 \n",
      "                                                                 conv1d_326[0][0]                 \n",
      "                                                                 conv1d_327[0][0]                 \n",
      "__________________________________________________________________________________________________\n",
      "batch_normalization_79 (BatchNo (None, 250, 64)      256         concatenate_61[0][0]             \n",
      "__________________________________________________________________________________________________\n",
      "activation_79 (Activation)      (None, 250, 64)      0           batch_normalization_79[0][0]     \n",
      "__________________________________________________________________________________________________\n",
      "conv1d_328 (Conv1D)             (None, 250, 32)      2048        activation_79[0][0]              \n",
      "__________________________________________________________________________________________________\n",
      "max_pooling1d_62 (MaxPooling1D) (None, 250, 64)      0           activation_79[0][0]              \n",
      "__________________________________________________________________________________________________\n",
      "conv1d_329 (Conv1D)             (None, 250, 16)      5120        conv1d_328[0][0]                 \n",
      "__________________________________________________________________________________________________\n",
      "conv1d_330 (Conv1D)             (None, 250, 16)      2560        conv1d_328[0][0]                 \n",
      "__________________________________________________________________________________________________\n",
      "conv1d_331 (Conv1D)             (None, 250, 16)      1024        conv1d_328[0][0]                 \n",
      "__________________________________________________________________________________________________\n",
      "conv1d_332 (Conv1D)             (None, 250, 16)      1024        max_pooling1d_62[0][0]           \n",
      "__________________________________________________________________________________________________\n",
      "concatenate_62 (Concatenate)    (None, 250, 64)      0           conv1d_329[0][0]                 \n",
      "                                                                 conv1d_330[0][0]                 \n",
      "                                                                 conv1d_331[0][0]                 \n",
      "                                                                 conv1d_332[0][0]                 \n",
      "__________________________________________________________________________________________________\n",
      "conv1d_333 (Conv1D)             (None, 250, 64)      512         input_7[0][0]                    \n",
      "__________________________________________________________________________________________________\n",
      "batch_normalization_80 (BatchNo (None, 250, 64)      256         concatenate_62[0][0]             \n",
      "__________________________________________________________________________________________________\n",
      "batch_normalization_81 (BatchNo (None, 250, 64)      256         conv1d_333[0][0]                 \n",
      "__________________________________________________________________________________________________\n",
      "activation_80 (Activation)      (None, 250, 64)      0           batch_normalization_80[0][0]     \n",
      "__________________________________________________________________________________________________\n",
      "add_18 (Add)                    (None, 250, 64)      0           batch_normalization_81[0][0]     \n",
      "                                                                 activation_80[0][0]              \n",
      "__________________________________________________________________________________________________\n",
      "activation_81 (Activation)      (None, 250, 64)      0           add_18[0][0]                     \n",
      "__________________________________________________________________________________________________\n",
      "conv1d_334 (Conv1D)             (None, 250, 32)      2048        activation_81[0][0]              \n",
      "__________________________________________________________________________________________________\n",
      "max_pooling1d_63 (MaxPooling1D) (None, 250, 64)      0           activation_81[0][0]              \n",
      "__________________________________________________________________________________________________\n",
      "conv1d_335 (Conv1D)             (None, 250, 16)      5120        conv1d_334[0][0]                 \n",
      "__________________________________________________________________________________________________\n",
      "conv1d_336 (Conv1D)             (None, 250, 16)      2560        conv1d_334[0][0]                 \n",
      "__________________________________________________________________________________________________\n",
      "conv1d_337 (Conv1D)             (None, 250, 16)      1024        conv1d_334[0][0]                 \n",
      "__________________________________________________________________________________________________\n",
      "conv1d_338 (Conv1D)             (None, 250, 16)      1024        max_pooling1d_63[0][0]           \n",
      "__________________________________________________________________________________________________\n",
      "concatenate_63 (Concatenate)    (None, 250, 64)      0           conv1d_335[0][0]                 \n",
      "                                                                 conv1d_336[0][0]                 \n",
      "                                                                 conv1d_337[0][0]                 \n",
      "                                                                 conv1d_338[0][0]                 \n",
      "__________________________________________________________________________________________________\n",
      "batch_normalization_82 (BatchNo (None, 250, 64)      256         concatenate_63[0][0]             \n",
      "__________________________________________________________________________________________________\n",
      "activation_82 (Activation)      (None, 250, 64)      0           batch_normalization_82[0][0]     \n",
      "__________________________________________________________________________________________________\n",
      "conv1d_339 (Conv1D)             (None, 250, 32)      2048        activation_82[0][0]              \n",
      "__________________________________________________________________________________________________\n",
      "max_pooling1d_64 (MaxPooling1D) (None, 250, 64)      0           activation_82[0][0]              \n",
      "__________________________________________________________________________________________________\n",
      "conv1d_340 (Conv1D)             (None, 250, 16)      5120        conv1d_339[0][0]                 \n",
      "__________________________________________________________________________________________________\n",
      "conv1d_341 (Conv1D)             (None, 250, 16)      2560        conv1d_339[0][0]                 \n",
      "__________________________________________________________________________________________________\n",
      "conv1d_342 (Conv1D)             (None, 250, 16)      1024        conv1d_339[0][0]                 \n",
      "__________________________________________________________________________________________________\n",
      "conv1d_343 (Conv1D)             (None, 250, 16)      1024        max_pooling1d_64[0][0]           \n",
      "__________________________________________________________________________________________________\n",
      "concatenate_64 (Concatenate)    (None, 250, 64)      0           conv1d_340[0][0]                 \n",
      "                                                                 conv1d_341[0][0]                 \n",
      "                                                                 conv1d_342[0][0]                 \n",
      "                                                                 conv1d_343[0][0]                 \n",
      "__________________________________________________________________________________________________\n",
      "batch_normalization_83 (BatchNo (None, 250, 64)      256         concatenate_64[0][0]             \n",
      "__________________________________________________________________________________________________\n",
      "activation_83 (Activation)      (None, 250, 64)      0           batch_normalization_83[0][0]     \n",
      "__________________________________________________________________________________________________\n",
      "conv1d_344 (Conv1D)             (None, 250, 32)      2048        activation_83[0][0]              \n",
      "__________________________________________________________________________________________________\n",
      "max_pooling1d_65 (MaxPooling1D) (None, 250, 64)      0           activation_83[0][0]              \n",
      "__________________________________________________________________________________________________\n",
      "conv1d_345 (Conv1D)             (None, 250, 16)      5120        conv1d_344[0][0]                 \n",
      "__________________________________________________________________________________________________\n",
      "conv1d_346 (Conv1D)             (None, 250, 16)      2560        conv1d_344[0][0]                 \n",
      "__________________________________________________________________________________________________\n",
      "conv1d_347 (Conv1D)             (None, 250, 16)      1024        conv1d_344[0][0]                 \n",
      "__________________________________________________________________________________________________\n",
      "conv1d_348 (Conv1D)             (None, 250, 16)      1024        max_pooling1d_65[0][0]           \n",
      "__________________________________________________________________________________________________\n",
      "concatenate_65 (Concatenate)    (None, 250, 64)      0           conv1d_345[0][0]                 \n",
      "                                                                 conv1d_346[0][0]                 \n",
      "                                                                 conv1d_347[0][0]                 \n",
      "                                                                 conv1d_348[0][0]                 \n",
      "__________________________________________________________________________________________________\n",
      "conv1d_349 (Conv1D)             (None, 250, 64)      4096        activation_81[0][0]              \n",
      "__________________________________________________________________________________________________\n",
      "batch_normalization_84 (BatchNo (None, 250, 64)      256         concatenate_65[0][0]             \n",
      "__________________________________________________________________________________________________\n",
      "batch_normalization_85 (BatchNo (None, 250, 64)      256         conv1d_349[0][0]                 \n",
      "__________________________________________________________________________________________________\n",
      "activation_84 (Activation)      (None, 250, 64)      0           batch_normalization_84[0][0]     \n",
      "__________________________________________________________________________________________________\n",
      "add_19 (Add)                    (None, 250, 64)      0           batch_normalization_85[0][0]     \n",
      "                                                                 activation_84[0][0]              \n",
      "__________________________________________________________________________________________________\n",
      "activation_85 (Activation)      (None, 250, 64)      0           add_19[0][0]                     \n",
      "__________________________________________________________________________________________________\n",
      "conv1d_350 (Conv1D)             (None, 250, 32)      2048        activation_85[0][0]              \n",
      "__________________________________________________________________________________________________\n",
      "max_pooling1d_66 (MaxPooling1D) (None, 250, 64)      0           activation_85[0][0]              \n",
      "__________________________________________________________________________________________________\n",
      "conv1d_351 (Conv1D)             (None, 250, 16)      5120        conv1d_350[0][0]                 \n",
      "__________________________________________________________________________________________________\n",
      "conv1d_352 (Conv1D)             (None, 250, 16)      2560        conv1d_350[0][0]                 \n",
      "__________________________________________________________________________________________________\n",
      "conv1d_353 (Conv1D)             (None, 250, 16)      1024        conv1d_350[0][0]                 \n",
      "__________________________________________________________________________________________________\n",
      "conv1d_354 (Conv1D)             (None, 250, 16)      1024        max_pooling1d_66[0][0]           \n",
      "__________________________________________________________________________________________________\n",
      "concatenate_66 (Concatenate)    (None, 250, 64)      0           conv1d_351[0][0]                 \n",
      "                                                                 conv1d_352[0][0]                 \n",
      "                                                                 conv1d_353[0][0]                 \n",
      "                                                                 conv1d_354[0][0]                 \n",
      "__________________________________________________________________________________________________\n",
      "batch_normalization_86 (BatchNo (None, 250, 64)      256         concatenate_66[0][0]             \n",
      "__________________________________________________________________________________________________\n",
      "activation_86 (Activation)      (None, 250, 64)      0           batch_normalization_86[0][0]     \n",
      "__________________________________________________________________________________________________\n",
      "conv1d_355 (Conv1D)             (None, 250, 32)      2048        activation_86[0][0]              \n",
      "__________________________________________________________________________________________________\n",
      "max_pooling1d_67 (MaxPooling1D) (None, 250, 64)      0           activation_86[0][0]              \n",
      "__________________________________________________________________________________________________\n",
      "conv1d_356 (Conv1D)             (None, 250, 16)      5120        conv1d_355[0][0]                 \n",
      "__________________________________________________________________________________________________\n",
      "conv1d_357 (Conv1D)             (None, 250, 16)      2560        conv1d_355[0][0]                 \n",
      "__________________________________________________________________________________________________\n",
      "conv1d_358 (Conv1D)             (None, 250, 16)      1024        conv1d_355[0][0]                 \n",
      "__________________________________________________________________________________________________\n",
      "conv1d_359 (Conv1D)             (None, 250, 16)      1024        max_pooling1d_67[0][0]           \n",
      "__________________________________________________________________________________________________\n",
      "concatenate_67 (Concatenate)    (None, 250, 64)      0           conv1d_356[0][0]                 \n",
      "                                                                 conv1d_357[0][0]                 \n",
      "                                                                 conv1d_358[0][0]                 \n",
      "                                                                 conv1d_359[0][0]                 \n",
      "__________________________________________________________________________________________________\n",
      "batch_normalization_87 (BatchNo (None, 250, 64)      256         concatenate_67[0][0]             \n",
      "__________________________________________________________________________________________________\n",
      "activation_87 (Activation)      (None, 250, 64)      0           batch_normalization_87[0][0]     \n",
      "__________________________________________________________________________________________________\n",
      "conv1d_360 (Conv1D)             (None, 250, 32)      2048        activation_87[0][0]              \n",
      "__________________________________________________________________________________________________\n",
      "max_pooling1d_68 (MaxPooling1D) (None, 250, 64)      0           activation_87[0][0]              \n",
      "__________________________________________________________________________________________________\n",
      "conv1d_361 (Conv1D)             (None, 250, 16)      5120        conv1d_360[0][0]                 \n",
      "__________________________________________________________________________________________________\n",
      "conv1d_362 (Conv1D)             (None, 250, 16)      2560        conv1d_360[0][0]                 \n",
      "__________________________________________________________________________________________________\n",
      "conv1d_363 (Conv1D)             (None, 250, 16)      1024        conv1d_360[0][0]                 \n",
      "__________________________________________________________________________________________________\n",
      "conv1d_364 (Conv1D)             (None, 250, 16)      1024        max_pooling1d_68[0][0]           \n",
      "__________________________________________________________________________________________________\n",
      "concatenate_68 (Concatenate)    (None, 250, 64)      0           conv1d_361[0][0]                 \n",
      "                                                                 conv1d_362[0][0]                 \n",
      "                                                                 conv1d_363[0][0]                 \n",
      "                                                                 conv1d_364[0][0]                 \n",
      "__________________________________________________________________________________________________\n",
      "conv1d_365 (Conv1D)             (None, 250, 64)      4096        activation_85[0][0]              \n",
      "__________________________________________________________________________________________________\n",
      "batch_normalization_88 (BatchNo (None, 250, 64)      256         concatenate_68[0][0]             \n",
      "__________________________________________________________________________________________________\n",
      "batch_normalization_89 (BatchNo (None, 250, 64)      256         conv1d_365[0][0]                 \n",
      "__________________________________________________________________________________________________\n",
      "activation_88 (Activation)      (None, 250, 64)      0           batch_normalization_88[0][0]     \n",
      "__________________________________________________________________________________________________\n",
      "add_20 (Add)                    (None, 250, 64)      0           batch_normalization_89[0][0]     \n",
      "                                                                 activation_88[0][0]              \n",
      "__________________________________________________________________________________________________\n",
      "activation_89 (Activation)      (None, 250, 64)      0           add_20[0][0]                     \n",
      "__________________________________________________________________________________________________\n",
      "conv1d_366 (Conv1D)             (None, 250, 32)      2048        activation_89[0][0]              \n",
      "__________________________________________________________________________________________________\n",
      "max_pooling1d_69 (MaxPooling1D) (None, 250, 64)      0           activation_89[0][0]              \n",
      "__________________________________________________________________________________________________\n",
      "conv1d_367 (Conv1D)             (None, 250, 16)      5120        conv1d_366[0][0]                 \n",
      "__________________________________________________________________________________________________\n",
      "conv1d_368 (Conv1D)             (None, 250, 16)      2560        conv1d_366[0][0]                 \n",
      "__________________________________________________________________________________________________\n",
      "conv1d_369 (Conv1D)             (None, 250, 16)      1024        conv1d_366[0][0]                 \n",
      "__________________________________________________________________________________________________\n",
      "conv1d_370 (Conv1D)             (None, 250, 16)      1024        max_pooling1d_69[0][0]           \n",
      "__________________________________________________________________________________________________\n",
      "concatenate_69 (Concatenate)    (None, 250, 64)      0           conv1d_367[0][0]                 \n",
      "                                                                 conv1d_368[0][0]                 \n",
      "                                                                 conv1d_369[0][0]                 \n",
      "                                                                 conv1d_370[0][0]                 \n",
      "__________________________________________________________________________________________________\n",
      "batch_normalization_90 (BatchNo (None, 250, 64)      256         concatenate_69[0][0]             \n",
      "__________________________________________________________________________________________________\n",
      "activation_90 (Activation)      (None, 250, 64)      0           batch_normalization_90[0][0]     \n",
      "__________________________________________________________________________________________________\n",
      "global_average_pooling1d_6 (Glo (None, 64)           0           activation_90[0][0]              \n",
      "__________________________________________________________________________________________________\n",
      "dense_6 (Dense)                 (None, 9)            585         global_average_pooling1d_6[0][0] \n",
      "==================================================================================================\n",
      "Total params: 127,689\n",
      "Trainable params: 126,025\n",
      "Non-trainable params: 1,664\n",
      "__________________________________________________________________________________________________\n"
     ]
    }
   ],
   "source": [
    " clf = Classifier_INCEPTION('', (X_train.shape[1],X_train.shape[2]),nb_classes=9,\n",
    "                            verbose=True,batch_size=500,nb_epochs=50,nb_filters=16,\n",
    "                            depth=10, kernel_size=11)"
   ]
  },
  {
   "cell_type": "code",
   "execution_count": null,
   "metadata": {
    "scrolled": true
   },
   "outputs": [
    {
     "name": "stdout",
     "output_type": "stream",
     "text": [
      "Epoch 1/50\n",
      "456/593 [======================>.......] - ETA: 25s - loss: 1.6320 - accuracy: 0.3869- ETA: 57s - loss: 1.699 - ETA: 53s - loss: 1.6895 - accuracy:  - ETA - ET - ETA: 38s - loss"
     ]
    }
   ],
   "source": [
    "df_metrics = clf.fit(X_train, y_train, X_test, y_test, y_true,plot_test_acc=True)"
   ]
  },
  {
   "cell_type": "markdown",
   "metadata": {},
   "source": [
    "## Plot Results"
   ]
  },
  {
   "cell_type": "code",
   "execution_count": 103,
   "metadata": {},
   "outputs": [],
   "source": [
    "%matplotlib inline\n",
    "metrics_df = pd.read_csv('df_metrics.csv')\n",
    "best_model_df = pd.read_csv('df_best_model.csv')\n",
    "history_df = pd.read_csv('history.csv')"
   ]
  },
  {
   "cell_type": "code",
   "execution_count": 104,
   "metadata": {},
   "outputs": [
    {
     "data": {
      "text/html": [
       "<div>\n",
       "<style scoped>\n",
       "    .dataframe tbody tr th:only-of-type {\n",
       "        vertical-align: middle;\n",
       "    }\n",
       "\n",
       "    .dataframe tbody tr th {\n",
       "        vertical-align: top;\n",
       "    }\n",
       "\n",
       "    .dataframe thead th {\n",
       "        text-align: right;\n",
       "    }\n",
       "</style>\n",
       "<table border=\"1\" class=\"dataframe\">\n",
       "  <thead>\n",
       "    <tr style=\"text-align: right;\">\n",
       "      <th></th>\n",
       "      <th>precision</th>\n",
       "      <th>accuracy</th>\n",
       "      <th>recall</th>\n",
       "      <th>duration</th>\n",
       "    </tr>\n",
       "  </thead>\n",
       "  <tbody>\n",
       "    <tr>\n",
       "      <th>0</th>\n",
       "      <td>0.533952</td>\n",
       "      <td>0.499808</td>\n",
       "      <td>0.501465</td>\n",
       "      <td>2130.652461</td>\n",
       "    </tr>\n",
       "  </tbody>\n",
       "</table>\n",
       "</div>"
      ],
      "text/plain": [
       "   precision  accuracy    recall     duration\n",
       "0   0.533952  0.499808  0.501465  2130.652461"
      ]
     },
     "execution_count": 104,
     "metadata": {},
     "output_type": "execute_result"
    }
   ],
   "source": [
    "metrics_df"
   ]
  },
  {
   "cell_type": "code",
   "execution_count": 105,
   "metadata": {},
   "outputs": [
    {
     "data": {
      "text/plain": [
       "<AxesSubplot:title={'center':'Loss'}>"
      ]
     },
     "execution_count": 105,
     "metadata": {},
     "output_type": "execute_result"
    },
    {
     "data": {
      "image/png": "[encoded data removed]",
      "text/plain": [
       "<Figure size 1008x576 with 1 Axes>"
      ]
     },
     "metadata": {
      "needs_background": "light"
     },
     "output_type": "display_data"
    },
    {
     "data": {
      "image/png": "[encoded data removed]",
      "text/plain": [
       "<Figure size 1008x576 with 1 Axes>"
      ]
     },
     "metadata": {
      "needs_background": "light"
     },
     "output_type": "display_data"
    }
   ],
   "source": [
    "history_df[['accuracy','val_accuracy']].plot(figsize=(14,8),title='Accuracy',grid=True,fontsize=15)\n",
    "history_df[['loss','val_loss']].plot(figsize=(14,8),title='Loss',grid=True,fontsize=15)"
   ]
  },
  {
   "cell_type": "markdown",
   "metadata": {},
   "source": [
    "# Import Model and Classify Function Definition"
   ]
  },
  {
   "cell_type": "code",
   "execution_count": 20,
   "metadata": {},
   "outputs": [
    {
     "name": "stdout",
     "output_type": "stream",
     "text": [
      "Model: \"model_3\"\n",
      "__________________________________________________________________________________________________\n",
      "Layer (type)                    Output Shape         Param #     Connected to                     \n",
      "==================================================================================================\n",
      "input_4 (InputLayer)            [(None, 100, 8)]     0                                            \n",
      "__________________________________________________________________________________________________\n",
      "conv1d_96 (Conv1D)              (None, 100, 32)      256         input_4[0][0]                    \n",
      "__________________________________________________________________________________________________\n",
      "max_pooling1d_18 (MaxPooling1D) (None, 100, 8)       0           input_4[0][0]                    \n",
      "__________________________________________________________________________________________________\n",
      "conv1d_97 (Conv1D)              (None, 100, 32)      34816       conv1d_96[0][0]                  \n",
      "__________________________________________________________________________________________________\n",
      "conv1d_98 (Conv1D)              (None, 100, 32)      17408       conv1d_96[0][0]                  \n",
      "__________________________________________________________________________________________________\n",
      "conv1d_99 (Conv1D)              (None, 100, 32)      8192        conv1d_96[0][0]                  \n",
      "__________________________________________________________________________________________________\n",
      "conv1d_100 (Conv1D)             (None, 100, 32)      256         max_pooling1d_18[0][0]           \n",
      "__________________________________________________________________________________________________\n",
      "concatenate_18 (Concatenate)    (None, 100, 128)     0           conv1d_97[0][0]                  \n",
      "                                                                 conv1d_98[0][0]                  \n",
      "                                                                 conv1d_99[0][0]                  \n",
      "                                                                 conv1d_100[0][0]                 \n",
      "__________________________________________________________________________________________________\n",
      "batch_normalization_24 (BatchNo (None, 100, 128)     512         concatenate_18[0][0]             \n",
      "__________________________________________________________________________________________________\n",
      "activation_24 (Activation)      (None, 100, 128)     0           batch_normalization_24[0][0]     \n",
      "__________________________________________________________________________________________________\n",
      "conv1d_101 (Conv1D)             (None, 100, 32)      4096        activation_24[0][0]              \n",
      "__________________________________________________________________________________________________\n",
      "max_pooling1d_19 (MaxPooling1D) (None, 100, 128)     0           activation_24[0][0]              \n",
      "__________________________________________________________________________________________________\n",
      "conv1d_102 (Conv1D)             (None, 100, 32)      34816       conv1d_101[0][0]                 \n",
      "__________________________________________________________________________________________________\n",
      "conv1d_103 (Conv1D)             (None, 100, 32)      17408       conv1d_101[0][0]                 \n",
      "__________________________________________________________________________________________________\n",
      "conv1d_104 (Conv1D)             (None, 100, 32)      8192        conv1d_101[0][0]                 \n",
      "__________________________________________________________________________________________________\n",
      "conv1d_105 (Conv1D)             (None, 100, 32)      4096        max_pooling1d_19[0][0]           \n",
      "__________________________________________________________________________________________________\n",
      "concatenate_19 (Concatenate)    (None, 100, 128)     0           conv1d_102[0][0]                 \n",
      "                                                                 conv1d_103[0][0]                 \n",
      "                                                                 conv1d_104[0][0]                 \n",
      "                                                                 conv1d_105[0][0]                 \n",
      "__________________________________________________________________________________________________\n",
      "batch_normalization_25 (BatchNo (None, 100, 128)     512         concatenate_19[0][0]             \n",
      "__________________________________________________________________________________________________\n",
      "activation_25 (Activation)      (None, 100, 128)     0           batch_normalization_25[0][0]     \n",
      "__________________________________________________________________________________________________\n",
      "conv1d_106 (Conv1D)             (None, 100, 32)      4096        activation_25[0][0]              \n",
      "__________________________________________________________________________________________________\n",
      "max_pooling1d_20 (MaxPooling1D) (None, 100, 128)     0           activation_25[0][0]              \n",
      "__________________________________________________________________________________________________\n",
      "conv1d_107 (Conv1D)             (None, 100, 32)      34816       conv1d_106[0][0]                 \n",
      "__________________________________________________________________________________________________\n",
      "conv1d_108 (Conv1D)             (None, 100, 32)      17408       conv1d_106[0][0]                 \n",
      "__________________________________________________________________________________________________\n",
      "conv1d_109 (Conv1D)             (None, 100, 32)      8192        conv1d_106[0][0]                 \n",
      "__________________________________________________________________________________________________\n",
      "conv1d_110 (Conv1D)             (None, 100, 32)      4096        max_pooling1d_20[0][0]           \n",
      "__________________________________________________________________________________________________\n",
      "concatenate_20 (Concatenate)    (None, 100, 128)     0           conv1d_107[0][0]                 \n",
      "                                                                 conv1d_108[0][0]                 \n",
      "                                                                 conv1d_109[0][0]                 \n",
      "                                                                 conv1d_110[0][0]                 \n",
      "__________________________________________________________________________________________________\n",
      "conv1d_111 (Conv1D)             (None, 100, 128)     1024        input_4[0][0]                    \n",
      "__________________________________________________________________________________________________\n",
      "batch_normalization_26 (BatchNo (None, 100, 128)     512         concatenate_20[0][0]             \n",
      "__________________________________________________________________________________________________\n",
      "batch_normalization_27 (BatchNo (None, 100, 128)     512         conv1d_111[0][0]                 \n",
      "__________________________________________________________________________________________________\n",
      "activation_26 (Activation)      (None, 100, 128)     0           batch_normalization_26[0][0]     \n",
      "__________________________________________________________________________________________________\n",
      "add_6 (Add)                     (None, 100, 128)     0           batch_normalization_27[0][0]     \n",
      "                                                                 activation_26[0][0]              \n",
      "__________________________________________________________________________________________________\n",
      "activation_27 (Activation)      (None, 100, 128)     0           add_6[0][0]                      \n",
      "__________________________________________________________________________________________________\n",
      "conv1d_112 (Conv1D)             (None, 100, 32)      4096        activation_27[0][0]              \n",
      "__________________________________________________________________________________________________\n",
      "max_pooling1d_21 (MaxPooling1D) (None, 100, 128)     0           activation_27[0][0]              \n",
      "__________________________________________________________________________________________________\n",
      "conv1d_113 (Conv1D)             (None, 100, 32)      34816       conv1d_112[0][0]                 \n",
      "__________________________________________________________________________________________________\n",
      "conv1d_114 (Conv1D)             (None, 100, 32)      17408       conv1d_112[0][0]                 \n",
      "__________________________________________________________________________________________________\n",
      "conv1d_115 (Conv1D)             (None, 100, 32)      8192        conv1d_112[0][0]                 \n",
      "__________________________________________________________________________________________________\n",
      "conv1d_116 (Conv1D)             (None, 100, 32)      4096        max_pooling1d_21[0][0]           \n",
      "__________________________________________________________________________________________________\n",
      "concatenate_21 (Concatenate)    (None, 100, 128)     0           conv1d_113[0][0]                 \n",
      "                                                                 conv1d_114[0][0]                 \n",
      "                                                                 conv1d_115[0][0]                 \n",
      "                                                                 conv1d_116[0][0]                 \n",
      "__________________________________________________________________________________________________\n",
      "batch_normalization_28 (BatchNo (None, 100, 128)     512         concatenate_21[0][0]             \n",
      "__________________________________________________________________________________________________\n",
      "activation_28 (Activation)      (None, 100, 128)     0           batch_normalization_28[0][0]     \n",
      "__________________________________________________________________________________________________\n",
      "conv1d_117 (Conv1D)             (None, 100, 32)      4096        activation_28[0][0]              \n",
      "__________________________________________________________________________________________________\n",
      "max_pooling1d_22 (MaxPooling1D) (None, 100, 128)     0           activation_28[0][0]              \n",
      "__________________________________________________________________________________________________\n",
      "conv1d_118 (Conv1D)             (None, 100, 32)      34816       conv1d_117[0][0]                 \n",
      "__________________________________________________________________________________________________\n",
      "conv1d_119 (Conv1D)             (None, 100, 32)      17408       conv1d_117[0][0]                 \n",
      "__________________________________________________________________________________________________\n",
      "conv1d_120 (Conv1D)             (None, 100, 32)      8192        conv1d_117[0][0]                 \n",
      "__________________________________________________________________________________________________\n",
      "conv1d_121 (Conv1D)             (None, 100, 32)      4096        max_pooling1d_22[0][0]           \n",
      "__________________________________________________________________________________________________\n",
      "concatenate_22 (Concatenate)    (None, 100, 128)     0           conv1d_118[0][0]                 \n",
      "                                                                 conv1d_119[0][0]                 \n",
      "                                                                 conv1d_120[0][0]                 \n",
      "                                                                 conv1d_121[0][0]                 \n",
      "__________________________________________________________________________________________________\n",
      "batch_normalization_29 (BatchNo (None, 100, 128)     512         concatenate_22[0][0]             \n",
      "__________________________________________________________________________________________________\n",
      "activation_29 (Activation)      (None, 100, 128)     0           batch_normalization_29[0][0]     \n",
      "__________________________________________________________________________________________________\n",
      "conv1d_122 (Conv1D)             (None, 100, 32)      4096        activation_29[0][0]              \n",
      "__________________________________________________________________________________________________\n",
      "max_pooling1d_23 (MaxPooling1D) (None, 100, 128)     0           activation_29[0][0]              \n",
      "__________________________________________________________________________________________________\n",
      "conv1d_123 (Conv1D)             (None, 100, 32)      34816       conv1d_122[0][0]                 \n",
      "__________________________________________________________________________________________________\n",
      "conv1d_124 (Conv1D)             (None, 100, 32)      17408       conv1d_122[0][0]                 \n",
      "__________________________________________________________________________________________________\n",
      "conv1d_125 (Conv1D)             (None, 100, 32)      8192        conv1d_122[0][0]                 \n",
      "__________________________________________________________________________________________________\n",
      "conv1d_126 (Conv1D)             (None, 100, 32)      4096        max_pooling1d_23[0][0]           \n",
      "__________________________________________________________________________________________________\n",
      "concatenate_23 (Concatenate)    (None, 100, 128)     0           conv1d_123[0][0]                 \n",
      "                                                                 conv1d_124[0][0]                 \n",
      "                                                                 conv1d_125[0][0]                 \n",
      "                                                                 conv1d_126[0][0]                 \n",
      "__________________________________________________________________________________________________\n",
      "conv1d_127 (Conv1D)             (None, 100, 128)     16384       activation_27[0][0]              \n",
      "__________________________________________________________________________________________________\n",
      "batch_normalization_30 (BatchNo (None, 100, 128)     512         concatenate_23[0][0]             \n",
      "__________________________________________________________________________________________________\n",
      "batch_normalization_31 (BatchNo (None, 100, 128)     512         conv1d_127[0][0]                 \n",
      "__________________________________________________________________________________________________\n",
      "activation_30 (Activation)      (None, 100, 128)     0           batch_normalization_30[0][0]     \n",
      "__________________________________________________________________________________________________\n",
      "add_7 (Add)                     (None, 100, 128)     0           batch_normalization_31[0][0]     \n",
      "                                                                 activation_30[0][0]              \n",
      "__________________________________________________________________________________________________\n",
      "activation_31 (Activation)      (None, 100, 128)     0           add_7[0][0]                      \n",
      "__________________________________________________________________________________________________\n",
      "global_average_pooling1d_3 (Glo (None, 128)          0           activation_31[0][0]              \n",
      "__________________________________________________________________________________________________\n",
      "dense_3 (Dense)                 (None, 10)           1290        global_average_pooling1d_3[0][0] \n",
      "==================================================================================================\n",
      "Total params: 426,762\n",
      "Trainable params: 424,714\n",
      "Non-trainable params: 2,048\n",
      "__________________________________________________________________________________________________\n"
     ]
    }
   ],
   "source": [
    "from keras.models import load_model\n",
    "from sklearn.preprocessing import MinMaxScaler\n",
    "\n",
    "model = load_model('best_model.hdf5')\n",
    "model.summary()\n",
    "\n",
    "def classify_emg(data):\n",
    "    data = np.array(data) \n",
    "    data = np.reshape(data,(1,100,8))\n",
    "    pred = model.predict(data,batch_size=1)[0]\n",
    "    print(pred)\n",
    "    return pred\n"
   ]
  },
  {
   "cell_type": "markdown",
   "metadata": {},
   "source": [
    "## Real time CNN Classifier Example\n",
    "**Input Data** - The single Input data matrix sent in 20Khz freaquency,Has rows as time steps and columns as feature"
   ]
  },
  {
   "cell_type": "markdown",
   "metadata": {},
   "source": [
    "### Input Sequence Data from DF"
   ]
  },
  {
   "cell_type": "code",
   "execution_count": null,
   "metadata": {
    "scrolled": false
   },
   "outputs": [],
   "source": [
    "# Total Pronation sequences = 330709\n",
    "# Total Radial sequences = 148426 \n",
    "\n",
    "sequence = 50 \n",
    "\n",
    "df = pronation_df.reset_index(drop=True)\n",
    "# df = radial_df.reset_index(drop=True)\n",
    "\n",
    "data = df.loc[sequence*10:sequence*10+19] # The 20 step data Input Matrix\n",
    "print('Input Data')\n",
    "print(data.drop(['Label'],1).shape)\n",
    "data"
   ]
  },
  {
   "cell_type": "code",
   "execution_count": null,
   "metadata": {},
   "outputs": [],
   "source": [
    "print('True = ',data['Label'].tolist()[0])\n",
    "data = data.drop(['Label'],1)\n",
    "print('Predicted = ',classify_emg(data)) # Predict"
   ]
  },
  {
   "cell_type": "markdown",
   "metadata": {},
   "source": [
    "### with Testing Dataset"
   ]
  },
  {
   "cell_type": "code",
   "execution_count": 33,
   "metadata": {},
   "outputs": [
    {
     "name": "stdout",
     "output_type": "stream",
     "text": [
      "[9.0655744e-01 1.4131619e-02 1.6764328e-02 3.5939828e-02 1.4772802e-03\n",
      " 2.1945729e-04 1.9629999e-05 2.4084592e-02 7.9609273e-04 9.7370257e-06]\n",
      "0\n"
     ]
    }
   ],
   "source": [
    "classify_emg(X_test[6])\n",
    "print(y_true[6])"
   ]
  },
  {
   "cell_type": "code",
   "execution_count": null,
   "metadata": {},
   "outputs": [],
   "source": [
    "n = 2 \n",
    "data = X_test[n] \n",
    "true = y_test[n]\n",
    "print('Input shape = ',data.shape)\n"
   ]
  },
  {
   "cell_type": "code",
   "execution_count": null,
   "metadata": {},
   "outputs": [],
   "source": [
    "if(true[0]==1):\n",
    "    print('True = Pronation')\n",
    "else:\n",
    "    print('True = Radial')\n",
    "print('Predicted = ',classify_emg(data)) # Predict"
   ]
  }
 ],
 "metadata": {
  "kernelspec": {
   "display_name": "Python 3.8.0 64-bit",
   "language": "python",
   "name": "python38064bitcaed634bb72a48a5bf9eda0dc4f94389"
  },
  "language_info": {
   "codemirror_mode": {
    "name": "ipython",
    "version": 3
   },
   "file_extension": ".py",
   "mimetype": "text/x-python",
   "name": "python",
   "nbconvert_exporter": "python",
   "pygments_lexer": "ipython3",
   "version": "3.8.5"
  }
 },
 "nbformat": 4,
 "nbformat_minor": 4
}
