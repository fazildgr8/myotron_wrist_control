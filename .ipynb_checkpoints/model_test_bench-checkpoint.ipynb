{
 "cells": [
  {
   "cell_type": "markdown",
   "metadata": {},
   "source": [
    "# Model Test Bench"
   ]
  },
  {
   "cell_type": "code",
   "execution_count": 25,
   "metadata": {},
   "outputs": [],
   "source": [
    "from keras.models import load_model\n",
    "import pandas as pd\n",
    "import numpy as np\n",
    "import matplotlib.pyplot as plt\n",
    "from scipy.signal import butter\n",
    "from hampel import hampel\n",
    "from tqdm.notebook import trange, tqdm\n",
    "from sklearn.preprocessing import MinMaxScaler\n",
    "from sklearn.preprocessing import StandardScaler"
   ]
  },
  {
   "cell_type": "code",
   "execution_count": 23,
   "metadata": {},
   "outputs": [
    {
     "data": {
      "text/html": [
       "<div>\n",
       "<style scoped>\n",
       "    .dataframe tbody tr th:only-of-type {\n",
       "        vertical-align: middle;\n",
       "    }\n",
       "\n",
       "    .dataframe tbody tr th {\n",
       "        vertical-align: top;\n",
       "    }\n",
       "\n",
       "    .dataframe thead th {\n",
       "        text-align: right;\n",
       "    }\n",
       "</style>\n",
       "<table border=\"1\" class=\"dataframe\">\n",
       "  <thead>\n",
       "    <tr style=\"text-align: right;\">\n",
       "      <th></th>\n",
       "      <th>t[s]</th>\n",
       "      <th>emg1</th>\n",
       "      <th>emg2</th>\n",
       "      <th>emg3</th>\n",
       "      <th>emg4</th>\n",
       "      <th>emg5</th>\n",
       "      <th>emg6</th>\n",
       "      <th>emg7</th>\n",
       "      <th>emg8</th>\n",
       "      <th>labels</th>\n",
       "    </tr>\n",
       "  </thead>\n",
       "  <tbody>\n",
       "    <tr>\n",
       "      <th>0</th>\n",
       "      <td>859880</td>\n",
       "      <td>0.000004</td>\n",
       "      <td>3.576222e-07</td>\n",
       "      <td>-1.224552e-06</td>\n",
       "      <td>9.989841e-07</td>\n",
       "      <td>-4.281166e-07</td>\n",
       "      <td>-7.940087e-07</td>\n",
       "      <td>-1.211078e-05</td>\n",
       "      <td>-0.000007</td>\n",
       "      <td>1</td>\n",
       "    </tr>\n",
       "    <tr>\n",
       "      <th>1</th>\n",
       "      <td>859881</td>\n",
       "      <td>0.000003</td>\n",
       "      <td>-1.458975e-07</td>\n",
       "      <td>-1.560250e-06</td>\n",
       "      <td>4.956104e-07</td>\n",
       "      <td>1.211436e-07</td>\n",
       "      <td>-2.304278e-06</td>\n",
       "      <td>-1.076797e-05</td>\n",
       "      <td>-0.000007</td>\n",
       "      <td>1</td>\n",
       "    </tr>\n",
       "    <tr>\n",
       "      <th>2</th>\n",
       "      <td>859882</td>\n",
       "      <td>0.000003</td>\n",
       "      <td>8.612258e-07</td>\n",
       "      <td>1.182418e-07</td>\n",
       "      <td>1.502881e-06</td>\n",
       "      <td>2.178858e-08</td>\n",
       "      <td>-2.303903e-06</td>\n",
       "      <td>-1.060011e-05</td>\n",
       "      <td>-0.000006</td>\n",
       "      <td>1</td>\n",
       "    </tr>\n",
       "    <tr>\n",
       "      <th>3</th>\n",
       "      <td>859883</td>\n",
       "      <td>0.000004</td>\n",
       "      <td>8.612530e-07</td>\n",
       "      <td>2.300282e-06</td>\n",
       "      <td>3.852945e-06</td>\n",
       "      <td>-2.602581e-07</td>\n",
       "      <td>-1.296432e-06</td>\n",
       "      <td>-1.110364e-05</td>\n",
       "      <td>-0.000003</td>\n",
       "      <td>1</td>\n",
       "    </tr>\n",
       "    <tr>\n",
       "      <th>4</th>\n",
       "      <td>859884</td>\n",
       "      <td>0.000006</td>\n",
       "      <td>1.898822e-07</td>\n",
       "      <td>1.628885e-06</td>\n",
       "      <td>5.867310e-06</td>\n",
       "      <td>-3.822630e-07</td>\n",
       "      <td>4.673569e-08</td>\n",
       "      <td>-1.160717e-05</td>\n",
       "      <td>-0.000002</td>\n",
       "      <td>1</td>\n",
       "    </tr>\n",
       "    <tr>\n",
       "      <th>...</th>\n",
       "      <td>...</td>\n",
       "      <td>...</td>\n",
       "      <td>...</td>\n",
       "      <td>...</td>\n",
       "      <td>...</td>\n",
       "      <td>...</td>\n",
       "      <td>...</td>\n",
       "      <td>...</td>\n",
       "      <td>...</td>\n",
       "      <td>...</td>\n",
       "    </tr>\n",
       "    <tr>\n",
       "      <th>1651291</th>\n",
       "      <td>1275405</td>\n",
       "      <td>-0.000007</td>\n",
       "      <td>1.140789e-06</td>\n",
       "      <td>-4.000934e-06</td>\n",
       "      <td>3.317865e-06</td>\n",
       "      <td>3.501279e-06</td>\n",
       "      <td>-1.369110e-06</td>\n",
       "      <td>1.394671e-06</td>\n",
       "      <td>0.000003</td>\n",
       "      <td>0</td>\n",
       "    </tr>\n",
       "    <tr>\n",
       "      <th>1651292</th>\n",
       "      <td>1275406</td>\n",
       "      <td>-0.000008</td>\n",
       "      <td>1.777612e-06</td>\n",
       "      <td>-3.833085e-06</td>\n",
       "      <td>4.557357e-06</td>\n",
       "      <td>3.501226e-06</td>\n",
       "      <td>-1.872603e-06</td>\n",
       "      <td>1.492323e-06</td>\n",
       "      <td>0.000005</td>\n",
       "      <td>0</td>\n",
       "    </tr>\n",
       "    <tr>\n",
       "      <th>1651293</th>\n",
       "      <td>1275407</td>\n",
       "      <td>-0.000008</td>\n",
       "      <td>7.250372e-07</td>\n",
       "      <td>-3.833085e-06</td>\n",
       "      <td>3.334746e-06</td>\n",
       "      <td>2.326229e-06</td>\n",
       "      <td>-6.976006e-07</td>\n",
       "      <td>5.571720e-07</td>\n",
       "      <td>0.000005</td>\n",
       "      <td>0</td>\n",
       "    </tr>\n",
       "    <tr>\n",
       "      <th>1651294</th>\n",
       "      <td>1275408</td>\n",
       "      <td>-0.000008</td>\n",
       "      <td>6.656430e-07</td>\n",
       "      <td>-3.497387e-06</td>\n",
       "      <td>-8.010844e-07</td>\n",
       "      <td>-1.366507e-06</td>\n",
       "      <td>-1.872490e-06</td>\n",
       "      <td>1.732745e-06</td>\n",
       "      <td>0.000005</td>\n",
       "      <td>0</td>\n",
       "    </tr>\n",
       "    <tr>\n",
       "      <th>1651295</th>\n",
       "      <td>1275409</td>\n",
       "      <td>-0.000006</td>\n",
       "      <td>2.268156e-06</td>\n",
       "      <td>-2.993839e-06</td>\n",
       "      <td>-3.304713e-06</td>\n",
       "      <td>-2.709354e-06</td>\n",
       "      <td>-4.558020e-06</td>\n",
       "      <td>1.146714e-06</td>\n",
       "      <td>0.000004</td>\n",
       "      <td>0</td>\n",
       "    </tr>\n",
       "  </tbody>\n",
       "</table>\n",
       "<p>1651296 rows × 10 columns</p>\n",
       "</div>"
      ],
      "text/plain": [
       "            t[s]      emg1          emg2          emg3          emg4  \\\n",
       "0         859880  0.000004  3.576222e-07 -1.224552e-06  9.989841e-07   \n",
       "1         859881  0.000003 -1.458975e-07 -1.560250e-06  4.956104e-07   \n",
       "2         859882  0.000003  8.612258e-07  1.182418e-07  1.502881e-06   \n",
       "3         859883  0.000004  8.612530e-07  2.300282e-06  3.852945e-06   \n",
       "4         859884  0.000006  1.898822e-07  1.628885e-06  5.867310e-06   \n",
       "...          ...       ...           ...           ...           ...   \n",
       "1651291  1275405 -0.000007  1.140789e-06 -4.000934e-06  3.317865e-06   \n",
       "1651292  1275406 -0.000008  1.777612e-06 -3.833085e-06  4.557357e-06   \n",
       "1651293  1275407 -0.000008  7.250372e-07 -3.833085e-06  3.334746e-06   \n",
       "1651294  1275408 -0.000008  6.656430e-07 -3.497387e-06 -8.010844e-07   \n",
       "1651295  1275409 -0.000006  2.268156e-06 -2.993839e-06 -3.304713e-06   \n",
       "\n",
       "                 emg5          emg6          emg7      emg8  labels  \n",
       "0       -4.281166e-07 -7.940087e-07 -1.211078e-05 -0.000007       1  \n",
       "1        1.211436e-07 -2.304278e-06 -1.076797e-05 -0.000007       1  \n",
       "2        2.178858e-08 -2.303903e-06 -1.060011e-05 -0.000006       1  \n",
       "3       -2.602581e-07 -1.296432e-06 -1.110364e-05 -0.000003       1  \n",
       "4       -3.822630e-07  4.673569e-08 -1.160717e-05 -0.000002       1  \n",
       "...               ...           ...           ...       ...     ...  \n",
       "1651291  3.501279e-06 -1.369110e-06  1.394671e-06  0.000003       0  \n",
       "1651292  3.501226e-06 -1.872603e-06  1.492323e-06  0.000005       0  \n",
       "1651293  2.326229e-06 -6.976006e-07  5.571720e-07  0.000005       0  \n",
       "1651294 -1.366507e-06 -1.872490e-06  1.732745e-06  0.000005       0  \n",
       "1651295 -2.709354e-06 -4.558020e-06  1.146714e-06  0.000004       0  \n",
       "\n",
       "[1651296 rows x 10 columns]"
      ]
     },
     "execution_count": 23,
     "metadata": {},
     "output_type": "execute_result"
    }
   ],
   "source": [
    "# df = pd.read_excel('Myotron_Controll_codes/sim_data/prosup_raw_200s_labeled.xlsx')\n",
    "df = pd.read_csv('prepared_data/restprosup_nina_raw.csv')\n",
    "df"
   ]
  },
  {
   "cell_type": "code",
   "execution_count": 26,
   "metadata": {},
   "outputs": [],
   "source": [
    "def make_windowed(data,win_len,win_inc):\n",
    "    nb = data.shape[0]\n",
    "    X = []\n",
    "    inc = 0\n",
    "    i = 0\n",
    "    while True:\n",
    "        if(i==1):\n",
    "            inc=win_inc\n",
    "        if(data[i+win_inc:i+win_len+win_inc].shape[0]!=250):\n",
    "            break\n",
    "#         print(data[i+win_inc:i+win_len+win_inc].shape,' ',i)\n",
    "        X.append(data[i+win_inc:i+win_len+win_inc])\n",
    "        i=i+1\n",
    "    return np.array(X)\n",
    "def make_windowed_labels(y_label,win_len,win_inc):\n",
    "    y_windowed = make_windowed(y_label,win_len,win_inc)\n",
    "    Y = []\n",
    "    for x in y_windowed:\n",
    "        Y.append(np.bincount(x).argmax())\n",
    "    return np.array(Y)\n",
    "def one_hot(data,n_variables):\n",
    "    n = len(data)\n",
    "    Y = np.zeros((n,n_variables))\n",
    "    for i in range(n):\n",
    "        t = data[i]\n",
    "        Y[i][t] = 1\n",
    "    return Y\n",
    "def normalize_whole(df):\n",
    "    emg_labels = ['emg1','emg2','emg3','emg4','emg5','emg6','emg7','emg8']\n",
    "    emg_df = df[emg_labels]\n",
    "    scaler = StandardScaler(with_mean=True,\n",
    "                            with_std=True,\n",
    "                            copy=False).fit(emg_df)\n",
    "#     print(scaler.mean_)\n",
    "#     print(scaler.scale_)\n",
    "#     print(scaler.n_features_in_)\n",
    "#     print(scaler.n_samples_seen_)\n",
    "#     print(scaler.var_)\n",
    "    emg_df = scaler.transform(emg_df)\n",
    "    df[emg_labels] = emg_df\n",
    "    return df, scaler\n",
    "\n",
    "def normalize_whole_minmax(df):\n",
    "    emg_labels = ['emg1','emg2','emg3','emg4','emg5','emg6','emg7','emg8']\n",
    "    emg_df = df[emg_labels]\n",
    "    scaler = MinMaxScaler()\n",
    "    scaler.fit(emg_df)\n",
    "#     print(scaler.mean_)\n",
    "#     print(scaler.scale_)\n",
    "#     print(scaler.n_features_in_)\n",
    "#     print(scaler.n_samples_seen_)\n",
    "#     print(scaler.var_)\n",
    "    emg_df = scaler.transform(emg_df)\n",
    "    df[emg_labels] = emg_df\n",
    "    return df, scaler"
   ]
  },
  {
   "cell_type": "code",
   "execution_count": 27,
   "metadata": {},
   "outputs": [
    {
     "data": {
      "text/plain": [
       "['prepared_data/restprosup_nina_minmax_scaler.pkl']"
      ]
     },
     "execution_count": 27,
     "metadata": {},
     "output_type": "execute_result"
    }
   ],
   "source": [
    "# df,scaler = normalize_whole(df) # Only for Nina Prep\n",
    "df,scaler = normalize_whole_minmax(df)\n",
    "import joblib\n",
    "joblib.dump(scaler, 'prepared_data/restprosup_nina_minmax_scaler.pkl') "
   ]
  },
  {
   "cell_type": "code",
   "execution_count": 28,
   "metadata": {},
   "outputs": [],
   "source": [
    "emg_labels = ['emg1','emg2','emg3','emg4','emg5','emg6','emg7','emg8']\n",
    "\n",
    "# rein_emg_labels = ['emg8','emg1','emg2','emg3','emg4','emg5','emg6','emg7']\n",
    "# all_labels = ['t[s]']+ rein_emg_labels + ['labels']\n",
    "# rdf = df.reindex(columns=all_labels)\n",
    "X = make_windowed(np.array(df[emg_labels]),250,50)"
   ]
  },
  {
   "cell_type": "code",
   "execution_count": 29,
   "metadata": {},
   "outputs": [
    {
     "data": {
      "text/plain": [
       "(1650997, 250, 8)"
      ]
     },
     "execution_count": 29,
     "metadata": {},
     "output_type": "execute_result"
    }
   ],
   "source": [
    "X.shape"
   ]
  },
  {
   "cell_type": "code",
   "execution_count": 30,
   "metadata": {},
   "outputs": [
    {
     "data": {
      "text/plain": [
       "(1650997, 3)"
      ]
     },
     "execution_count": 30,
     "metadata": {},
     "output_type": "execute_result"
    }
   ],
   "source": [
    "y_label = np.array(df['labels'])\n",
    "Y = make_windowed_labels(y_label,250,50)\n",
    "y = one_hot(Y,3)\n",
    "y.shape"
   ]
  },
  {
   "cell_type": "code",
   "execution_count": 31,
   "metadata": {},
   "outputs": [],
   "source": [
    "del df"
   ]
  },
  {
   "cell_type": "code",
   "execution_count": 32,
   "metadata": {},
   "outputs": [],
   "source": [
    "np.save('prepared_data/X',X)\n",
    "np.save('prepared_data/y',y)"
   ]
  },
  {
   "cell_type": "code",
   "execution_count": 33,
   "metadata": {},
   "outputs": [],
   "source": [
    "del X, Y, y"
   ]
  },
  {
   "cell_type": "markdown",
   "metadata": {},
   "source": [
    "# Model Test"
   ]
  },
  {
   "cell_type": "code",
   "execution_count": null,
   "metadata": {},
   "outputs": [],
   "source": [
    "def classify(data,model):\n",
    "    data = np.reshape(data,(1,win_len,n_channels))\n",
    "    soft = model.predict(data,batch_size=1)\n",
    "    clf = np.argmax(np.array(soft))\n",
    "    return clf"
   ]
  },
  {
   "cell_type": "code",
   "execution_count": 20,
   "metadata": {},
   "outputs": [],
   "source": [
    "model_file = 'models/restprosup_nina_model_250'\n",
    "model = load_model(model_file)"
   ]
  },
  {
   "cell_type": "code",
   "execution_count": 21,
   "metadata": {},
   "outputs": [
    {
     "name": "stdout",
     "output_type": "stream",
     "text": [
      "6725/6725 [==============================] - 20s 3ms/step - loss: 16.7303 - accuracy: 0.4407\n"
     ]
    },
    {
     "data": {
      "text/plain": [
       "[16.730289459228516, 0.44073888659477234]"
      ]
     },
     "execution_count": 21,
     "metadata": {},
     "output_type": "execute_result"
    }
   ],
   "source": [
    "model.evaluate(X,y,batch_size=64)"
   ]
  },
  {
   "cell_type": "markdown",
   "metadata": {},
   "source": [
    "# InceptionTime Trainer"
   ]
  },
  {
   "cell_type": "code",
   "execution_count": 34,
   "metadata": {},
   "outputs": [],
   "source": [
    "X = np.load('prepared_data/X.npy')\n",
    "y = np.load('prepared_data/y.npy')"
   ]
  },
  {
   "cell_type": "code",
   "execution_count": 35,
   "metadata": {},
   "outputs": [
    {
     "ename": "MemoryError",
     "evalue": "Unable to allocate 19.7 GiB for an array with shape (1320797, 250, 8) and data type float64",
     "output_type": "error",
     "traceback": [
      "\u001b[1;31m---------------------------------------------------------------------------\u001b[0m",
      "\u001b[1;31mMemoryError\u001b[0m                               Traceback (most recent call last)",
      "\u001b[1;32m<ipython-input-35-3453532e485f>\u001b[0m in \u001b[0;36m<module>\u001b[1;34m\u001b[0m\n\u001b[0;32m      2\u001b[0m \u001b[1;32mfrom\u001b[0m \u001b[0msklearn\u001b[0m\u001b[1;33m.\u001b[0m\u001b[0mmodel_selection\u001b[0m \u001b[1;32mimport\u001b[0m \u001b[0mtrain_test_split\u001b[0m\u001b[1;33m\u001b[0m\u001b[1;33m\u001b[0m\u001b[0m\n\u001b[0;32m      3\u001b[0m \u001b[1;33m\u001b[0m\u001b[0m\n\u001b[1;32m----> 4\u001b[1;33m \u001b[0mX_train\u001b[0m\u001b[1;33m,\u001b[0m \u001b[0mX_test\u001b[0m\u001b[1;33m,\u001b[0m \u001b[0my_train\u001b[0m\u001b[1;33m,\u001b[0m \u001b[0my_test\u001b[0m \u001b[1;33m=\u001b[0m \u001b[0mtrain_test_split\u001b[0m\u001b[1;33m(\u001b[0m\u001b[0mX\u001b[0m\u001b[1;33m,\u001b[0m\u001b[0my\u001b[0m\u001b[1;33m,\u001b[0m\u001b[0mtest_size\u001b[0m\u001b[1;33m=\u001b[0m\u001b[1;36m0.2\u001b[0m\u001b[1;33m,\u001b[0m\u001b[0mshuffle\u001b[0m\u001b[1;33m=\u001b[0m\u001b[1;32mTrue\u001b[0m\u001b[1;33m)\u001b[0m\u001b[1;33m\u001b[0m\u001b[1;33m\u001b[0m\u001b[0m\n\u001b[0m",
      "\u001b[1;32m~\\AppData\\Local\\Programs\\Python\\Python38\\lib\\site-packages\\sklearn\\model_selection\\_split.py\u001b[0m in \u001b[0;36mtrain_test_split\u001b[1;34m(*arrays, **options)\u001b[0m\n\u001b[0;32m   2152\u001b[0m         \u001b[0mtrain\u001b[0m\u001b[1;33m,\u001b[0m \u001b[0mtest\u001b[0m \u001b[1;33m=\u001b[0m \u001b[0mnext\u001b[0m\u001b[1;33m(\u001b[0m\u001b[0mcv\u001b[0m\u001b[1;33m.\u001b[0m\u001b[0msplit\u001b[0m\u001b[1;33m(\u001b[0m\u001b[0mX\u001b[0m\u001b[1;33m=\u001b[0m\u001b[0marrays\u001b[0m\u001b[1;33m[\u001b[0m\u001b[1;36m0\u001b[0m\u001b[1;33m]\u001b[0m\u001b[1;33m,\u001b[0m \u001b[0my\u001b[0m\u001b[1;33m=\u001b[0m\u001b[0mstratify\u001b[0m\u001b[1;33m)\u001b[0m\u001b[1;33m)\u001b[0m\u001b[1;33m\u001b[0m\u001b[1;33m\u001b[0m\u001b[0m\n\u001b[0;32m   2153\u001b[0m \u001b[1;33m\u001b[0m\u001b[0m\n\u001b[1;32m-> 2154\u001b[1;33m     return list(chain.from_iterable((_safe_indexing(a, train),\n\u001b[0m\u001b[0;32m   2155\u001b[0m                                      _safe_indexing(a, test)) for a in arrays))\n\u001b[0;32m   2156\u001b[0m \u001b[1;33m\u001b[0m\u001b[0m\n",
      "\u001b[1;32m~\\AppData\\Local\\Programs\\Python\\Python38\\lib\\site-packages\\sklearn\\model_selection\\_split.py\u001b[0m in \u001b[0;36m<genexpr>\u001b[1;34m(.0)\u001b[0m\n\u001b[0;32m   2152\u001b[0m         \u001b[0mtrain\u001b[0m\u001b[1;33m,\u001b[0m \u001b[0mtest\u001b[0m \u001b[1;33m=\u001b[0m \u001b[0mnext\u001b[0m\u001b[1;33m(\u001b[0m\u001b[0mcv\u001b[0m\u001b[1;33m.\u001b[0m\u001b[0msplit\u001b[0m\u001b[1;33m(\u001b[0m\u001b[0mX\u001b[0m\u001b[1;33m=\u001b[0m\u001b[0marrays\u001b[0m\u001b[1;33m[\u001b[0m\u001b[1;36m0\u001b[0m\u001b[1;33m]\u001b[0m\u001b[1;33m,\u001b[0m \u001b[0my\u001b[0m\u001b[1;33m=\u001b[0m\u001b[0mstratify\u001b[0m\u001b[1;33m)\u001b[0m\u001b[1;33m)\u001b[0m\u001b[1;33m\u001b[0m\u001b[1;33m\u001b[0m\u001b[0m\n\u001b[0;32m   2153\u001b[0m \u001b[1;33m\u001b[0m\u001b[0m\n\u001b[1;32m-> 2154\u001b[1;33m     return list(chain.from_iterable((_safe_indexing(a, train),\n\u001b[0m\u001b[0;32m   2155\u001b[0m                                      _safe_indexing(a, test)) for a in arrays))\n\u001b[0;32m   2156\u001b[0m \u001b[1;33m\u001b[0m\u001b[0m\n",
      "\u001b[1;32m~\\AppData\\Local\\Programs\\Python\\Python38\\lib\\site-packages\\sklearn\\utils\\__init__.py\u001b[0m in \u001b[0;36m_safe_indexing\u001b[1;34m(X, indices, axis)\u001b[0m\n\u001b[0;32m    393\u001b[0m         \u001b[1;32mreturn\u001b[0m \u001b[0m_pandas_indexing\u001b[0m\u001b[1;33m(\u001b[0m\u001b[0mX\u001b[0m\u001b[1;33m,\u001b[0m \u001b[0mindices\u001b[0m\u001b[1;33m,\u001b[0m \u001b[0mindices_dtype\u001b[0m\u001b[1;33m,\u001b[0m \u001b[0maxis\u001b[0m\u001b[1;33m=\u001b[0m\u001b[0maxis\u001b[0m\u001b[1;33m)\u001b[0m\u001b[1;33m\u001b[0m\u001b[1;33m\u001b[0m\u001b[0m\n\u001b[0;32m    394\u001b[0m     \u001b[1;32melif\u001b[0m \u001b[0mhasattr\u001b[0m\u001b[1;33m(\u001b[0m\u001b[0mX\u001b[0m\u001b[1;33m,\u001b[0m \u001b[1;34m\"shape\"\u001b[0m\u001b[1;33m)\u001b[0m\u001b[1;33m:\u001b[0m\u001b[1;33m\u001b[0m\u001b[1;33m\u001b[0m\u001b[0m\n\u001b[1;32m--> 395\u001b[1;33m         \u001b[1;32mreturn\u001b[0m \u001b[0m_array_indexing\u001b[0m\u001b[1;33m(\u001b[0m\u001b[0mX\u001b[0m\u001b[1;33m,\u001b[0m \u001b[0mindices\u001b[0m\u001b[1;33m,\u001b[0m \u001b[0mindices_dtype\u001b[0m\u001b[1;33m,\u001b[0m \u001b[0maxis\u001b[0m\u001b[1;33m=\u001b[0m\u001b[0maxis\u001b[0m\u001b[1;33m)\u001b[0m\u001b[1;33m\u001b[0m\u001b[1;33m\u001b[0m\u001b[0m\n\u001b[0m\u001b[0;32m    396\u001b[0m     \u001b[1;32melse\u001b[0m\u001b[1;33m:\u001b[0m\u001b[1;33m\u001b[0m\u001b[1;33m\u001b[0m\u001b[0m\n\u001b[0;32m    397\u001b[0m         \u001b[1;32mreturn\u001b[0m \u001b[0m_list_indexing\u001b[0m\u001b[1;33m(\u001b[0m\u001b[0mX\u001b[0m\u001b[1;33m,\u001b[0m \u001b[0mindices\u001b[0m\u001b[1;33m,\u001b[0m \u001b[0mindices_dtype\u001b[0m\u001b[1;33m)\u001b[0m\u001b[1;33m\u001b[0m\u001b[1;33m\u001b[0m\u001b[0m\n",
      "\u001b[1;32m~\\AppData\\Local\\Programs\\Python\\Python38\\lib\\site-packages\\sklearn\\utils\\__init__.py\u001b[0m in \u001b[0;36m_array_indexing\u001b[1;34m(array, key, key_dtype, axis)\u001b[0m\n\u001b[0;32m    179\u001b[0m     \u001b[1;32mif\u001b[0m \u001b[0misinstance\u001b[0m\u001b[1;33m(\u001b[0m\u001b[0mkey\u001b[0m\u001b[1;33m,\u001b[0m \u001b[0mtuple\u001b[0m\u001b[1;33m)\u001b[0m\u001b[1;33m:\u001b[0m\u001b[1;33m\u001b[0m\u001b[1;33m\u001b[0m\u001b[0m\n\u001b[0;32m    180\u001b[0m         \u001b[0mkey\u001b[0m \u001b[1;33m=\u001b[0m \u001b[0mlist\u001b[0m\u001b[1;33m(\u001b[0m\u001b[0mkey\u001b[0m\u001b[1;33m)\u001b[0m\u001b[1;33m\u001b[0m\u001b[1;33m\u001b[0m\u001b[0m\n\u001b[1;32m--> 181\u001b[1;33m     \u001b[1;32mreturn\u001b[0m \u001b[0marray\u001b[0m\u001b[1;33m[\u001b[0m\u001b[0mkey\u001b[0m\u001b[1;33m]\u001b[0m \u001b[1;32mif\u001b[0m \u001b[0maxis\u001b[0m \u001b[1;33m==\u001b[0m \u001b[1;36m0\u001b[0m \u001b[1;32melse\u001b[0m \u001b[0marray\u001b[0m\u001b[1;33m[\u001b[0m\u001b[1;33m:\u001b[0m\u001b[1;33m,\u001b[0m \u001b[0mkey\u001b[0m\u001b[1;33m]\u001b[0m\u001b[1;33m\u001b[0m\u001b[1;33m\u001b[0m\u001b[0m\n\u001b[0m\u001b[0;32m    182\u001b[0m \u001b[1;33m\u001b[0m\u001b[0m\n\u001b[0;32m    183\u001b[0m \u001b[1;33m\u001b[0m\u001b[0m\n",
      "\u001b[1;31mMemoryError\u001b[0m: Unable to allocate 19.7 GiB for an array with shape (1320797, 250, 8) and data type float64"
     ]
    }
   ],
   "source": [
    "from keras.utils import to_categorical\n",
    "from sklearn.model_selection import train_test_split\n",
    "\n",
    "X_train, X_test, y_train, y_test = train_test_split(X,y,test_size=0.2,shuffle=True)"
   ]
  },
  {
   "cell_type": "code",
   "execution_count": null,
   "metadata": {},
   "outputs": [],
   "source": [
    "del X,y"
   ]
  },
  {
   "cell_type": "code",
   "execution_count": null,
   "metadata": {},
   "outputs": [],
   "source": [
    "y_true = []\n",
    "for d in y_test:\n",
    "    idx = list(d).index(1)\n",
    "    y_true.append(idx)"
   ]
  },
  {
   "cell_type": "code",
   "execution_count": null,
   "metadata": {},
   "outputs": [],
   "source": [
    "print('X Train Shape =',X_train.shape)\n",
    "print('Y Train Shape =',y_train.shape)\n",
    "print('X Test Shape =',X_test.shape)\n",
    "print('Y Test Shape =',y_test.shape)"
   ]
  },
  {
   "cell_type": "code",
   "execution_count": null,
   "metadata": {},
   "outputs": [],
   "source": [
    "ds = [X_train, X_test, y_train, y_test]\n",
    "ds_name = ['X_train', 'X_test', 'y_train', 'y_test']\n",
    "for i in range(len(ds_name)):\n",
    "    np.save('prepared_data/'+ds_name[i],ds[i])"
   ]
  },
  {
   "cell_type": "code",
   "execution_count": 2,
   "metadata": {},
   "outputs": [],
   "source": [
    "X_train = np.load('prepared_data/X_train.npy')\n",
    "X_test = np.load('prepared_data/X_test.npy')\n",
    "y_train = np.load('prepared_data/y_train.npy')\n",
    "y_test = np.load('prepared_data/y_test.npy')"
   ]
  },
  {
   "cell_type": "markdown",
   "metadata": {},
   "source": [
    "## Build New Model"
   ]
  },
  {
   "cell_type": "code",
   "execution_count": 6,
   "metadata": {},
   "outputs": [],
   "source": [
    "import numpy as np\n",
    "import sklearn\n",
    "import pandas as pd\n",
    "import sys\n",
    "import subprocess\n",
    "import tensorflow as tf\n",
    "from InceptionTime.classifiers.inception import Classifier_INCEPTION"
   ]
  },
  {
   "cell_type": "code",
   "execution_count": 7,
   "metadata": {
    "scrolled": true
   },
   "outputs": [
    {
     "name": "stdout",
     "output_type": "stream",
     "text": [
      "Model: \"model_1\"\n",
      "__________________________________________________________________________________________________\n",
      "Layer (type)                    Output Shape         Param #     Connected to                     \n",
      "==================================================================================================\n",
      "input_2 (InputLayer)            [(None, 250, 8)]     0                                            \n",
      "__________________________________________________________________________________________________\n",
      "conv1d_5 (Conv1D)               (None, 250, 32)      256         input_2[0][0]                    \n",
      "__________________________________________________________________________________________________\n",
      "max_pooling1d_1 (MaxPooling1D)  (None, 250, 8)       0           input_2[0][0]                    \n",
      "__________________________________________________________________________________________________\n",
      "conv1d_6 (Conv1D)               (None, 250, 16)      5120        conv1d_5[0][0]                   \n",
      "__________________________________________________________________________________________________\n",
      "conv1d_7 (Conv1D)               (None, 250, 16)      2560        conv1d_5[0][0]                   \n",
      "__________________________________________________________________________________________________\n",
      "conv1d_8 (Conv1D)               (None, 250, 16)      1024        conv1d_5[0][0]                   \n",
      "__________________________________________________________________________________________________\n",
      "conv1d_9 (Conv1D)               (None, 250, 16)      128         max_pooling1d_1[0][0]            \n",
      "__________________________________________________________________________________________________\n",
      "concatenate_1 (Concatenate)     (None, 250, 64)      0           conv1d_6[0][0]                   \n",
      "                                                                 conv1d_7[0][0]                   \n",
      "                                                                 conv1d_8[0][0]                   \n",
      "                                                                 conv1d_9[0][0]                   \n",
      "__________________________________________________________________________________________________\n",
      "batch_normalization_1 (BatchNor (None, 250, 64)      256         concatenate_1[0][0]              \n",
      "__________________________________________________________________________________________________\n",
      "activation_1 (Activation)       (None, 250, 64)      0           batch_normalization_1[0][0]      \n",
      "__________________________________________________________________________________________________\n",
      "global_average_pooling1d_1 (Glo (None, 64)           0           activation_1[0][0]               \n",
      "__________________________________________________________________________________________________\n",
      "dense_1 (Dense)                 (None, 3)            195         global_average_pooling1d_1[0][0] \n",
      "==================================================================================================\n",
      "Total params: 9,539\n",
      "Trainable params: 9,411\n",
      "Non-trainable params: 128\n",
      "__________________________________________________________________________________________________\n"
     ]
    }
   ],
   "source": [
    " clf = Classifier_INCEPTION('', (X_train.shape[1],X_train.shape[2]),nb_classes=3,\n",
    "                            verbose=True,batch_size=64,nb_epochs=5,nb_filters=16,\n",
    "                            depth=1, kernel_size=11)"
   ]
  },
  {
   "cell_type": "code",
   "execution_count": 12,
   "metadata": {},
   "outputs": [],
   "source": [
    "# clf.model = load_model('best_model.hdf5') # if continuing Training\n",
    "clf.model = load_model('models/restprosup_fazil_model_250')"
   ]
  },
  {
   "cell_type": "code",
   "execution_count": 11,
   "metadata": {},
   "outputs": [
    {
     "name": "stdout",
     "output_type": "stream",
     "text": [
      "Epoch 1/5\n",
      "20638/20638 [==============================] - 146s 7ms/step - loss: 0.6118 - accuracy: 0.7454 - val_loss: 0.5994 - val_accuracy: 0.7532 - lr: 0.0010\n",
      "Epoch 2/5\n",
      "20638/20638 [==============================] - 128s 6ms/step - loss: 0.5980 - accuracy: 0.7531 - val_loss: 0.5877 - val_accuracy: 0.7600 - lr: 0.0010\n",
      "Epoch 3/5\n",
      "20638/20638 [==============================] - 133s 6ms/step - loss: 0.5872 - accuracy: 0.7592 - val_loss: 0.5789 - val_accuracy: 0.7645 - lr: 0.0010\n",
      "Epoch 4/5\n",
      "20638/20638 [==============================] - 126s 6ms/step - loss: 0.5782 - accuracy: 0.7639 - val_loss: 0.6075 - val_accuracy: 0.7464 - lr: 0.0010\n",
      "Epoch 5/5\n",
      "20638/20638 [==============================] - 128s 6ms/step - loss: 0.5704 - accuracy: 0.7679 - val_loss: 0.5608 - val_accuracy: 0.7739 - lr: 0.0010\n"
     ]
    }
   ],
   "source": [
    "df_metrics = clf.fit(X_train, y_train, X_test, y_test, y_true,plot_test_acc=True)"
   ]
  },
  {
   "cell_type": "code",
   "execution_count": 12,
   "metadata": {},
   "outputs": [
    {
     "name": "stdout",
     "output_type": "stream",
     "text": [
      "WARNING:tensorflow:From C:\\Users\\moham\\AppData\\Local\\Programs\\Python\\Python38\\lib\\site-packages\\tensorflow\\python\\ops\\resource_variable_ops.py:1813: calling BaseResourceVariable.__init__ (from tensorflow.python.ops.resource_variable_ops) with constraint is deprecated and will be removed in a future version.\n",
      "Instructions for updating:\n",
      "If using Keras pass *_constraint arguments to layers.\n",
      "INFO:tensorflow:Assets written to: models/restprosup_nina_model_250\\assets\n"
     ]
    }
   ],
   "source": [
    "from keras.models import load_model\n",
    "best_model = load_model('best_model.hdf5')\n",
    "best_model.save('models/restprosup_nina_model_{}'.format(250))"
   ]
  },
  {
   "cell_type": "code",
   "execution_count": null,
   "metadata": {},
   "outputs": [],
   "source": []
  }
 ],
 "metadata": {
  "kernelspec": {
   "display_name": "Python 3.8.0 64-bit",
   "language": "python",
   "name": "python38064bitcaed634bb72a48a5bf9eda0dc4f94389"
  },
  "language_info": {
   "codemirror_mode": {
    "name": "ipython",
    "version": 3
   },
   "file_extension": ".py",
   "mimetype": "text/x-python",
   "name": "python",
   "nbconvert_exporter": "python",
   "pygments_lexer": "ipython3",
   "version": "3.8.5"
  }
 },
 "nbformat": 4,
 "nbformat_minor": 4
}
