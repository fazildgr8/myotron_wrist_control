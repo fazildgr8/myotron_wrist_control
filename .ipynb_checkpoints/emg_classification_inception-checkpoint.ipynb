{
 "cells": [
  {
   "cell_type": "markdown",
   "metadata": {},
   "source": [
    "# InceptionTime Model \n",
    "# on Time Series EMG Classification on Ninapro Dataset\n",
    "\n",
    "InceptionTime is a 1D Convolution based Deep Neural Network model which is currently quoted as the state of the art TSC model from the published paper [InceptionTime: Finding AlexNet for Time Series Classification](https://arxiv.org/abs/1909.04939).\n",
    "\n",
    "Three types of Deep Neural Network model where implemented for a Time Series Classification problem(TSC).\n",
    "#### Understanding Data\n",
    "\n",
    "\n",
    "#### Model Accuracy  Results\n",
    "\n",
    "### Choosing labels"
   ]
  },
  {
   "cell_type": "code",
   "execution_count": 83,
   "metadata": {},
   "outputs": [],
   "source": [
    "import numpy as np\n",
    "import pandas as pd\n",
    "import datetime\n",
    "import matplotlib.pyplot as plt\n",
    "import glob\n",
    "import warnings\n",
    "# warnings.filterwarnings(action='once')\n",
    "# warnings.filterwarnings('ignore')\n",
    "# warnings.simplefilter('ignore')"
   ]
  },
  {
   "cell_type": "markdown",
   "metadata": {},
   "source": [
    "## Import the Datasets to Dataframe"
   ]
  },
  {
   "cell_type": "code",
   "execution_count": 84,
   "metadata": {},
   "outputs": [],
   "source": [
    "# drop_list = ['Frame', 'Sub Frame', 'IM EMG9', 'IM EMG10', 'IM EMG11', 'IM EMG12','IM EMG13', 'IM EMG14', 'IM EMG15', 'IM EMG16']\n",
    "drop_list = ['Frame','Sub Frame' ,'IM EMG1','IM EMG3', 'IM EMG8' ,'IM EMG9', 'IM EMG10', 'IM EMG11', 'IM EMG12','IM EMG13', 'IM EMG14', 'IM EMG15', 'IM EMG16']\n",
    "\n",
    "def get_emg_df(file):\n",
    "    df = pd.read_csv(file)\n",
    "    df = df.dropna()\n",
    "    df = df.drop(drop_list,1)\n",
    "    return df   \n",
    "\n",
    "def get_pronation_radial_files(folder):\n",
    "    files = glob.glob(folder+'/*.csv')\n",
    "    pronation_files = []\n",
    "    radial_files = []\n",
    "    for file in files:\n",
    "        if 'Cup' in file:\n",
    "            radial_files.append(file)\n",
    "        if 'Hammer' in file:\n",
    "            radial_files.append(file)\n",
    "        if 'ScrewDriver' in file:\n",
    "            pronation_files.append(file)\n",
    "        if 'Pulley' in file:\n",
    "            pronation_files.append(file)\n",
    "    print('Pronation Files-',len(pronation_files))\n",
    "    print('Radial Files-',len(radial_files))\n",
    "    return pronation_files,radial_files\n",
    "\n",
    "def get_pronation_radial_dataframe(folder):\n",
    "    pronation_files,radial_files = get_pronation_radial_files(folder)\n",
    "    pronation_df_list = []\n",
    "    radial_df_list = []\n",
    "    for file in pronation_files:\n",
    "        pronation_df_list.append(get_emg_df(file))\n",
    "    for file in radial_files:\n",
    "        radial_df_list.append(get_emg_df(file))\n",
    "    radial_df = pd.concat(radial_df_list)\n",
    "    pronation_df = pd.concat(pronation_df_list)\n",
    "    print('Done Generating DFs')\n",
    "    return pronation_df,radial_df"
   ]
  },
  {
   "cell_type": "markdown",
   "metadata": {},
   "source": [
    "## Import all Data files to DF"
   ]
  },
  {
   "cell_type": "code",
   "execution_count": 85,
   "metadata": {},
   "outputs": [
    {
     "name": "stdout",
     "output_type": "stream",
     "text": [
      "Pronation Files- 100\n",
      "Radial Files- 98\n",
      "Done Generating DFs\n"
     ]
    }
   ],
   "source": [
    "pronation_df,radial_df = get_pronation_radial_dataframe('EMG')"
   ]
  },
  {
   "cell_type": "markdown",
   "metadata": {},
   "source": [
    "### Labelling - [Pronation = 0] [Radial = 1]"
   ]
  },
  {
   "cell_type": "code",
   "execution_count": 95,
   "metadata": {},
   "outputs": [],
   "source": [
    "n_pronation = pronation_df.shape[0]\n",
    "n_radial = radial_df.shape[0]\n",
    "# pronation_df['Label'] = np.zeros(n_pronation)\n",
    "# radial_df['Label'] = np.ones(n_radial)\n",
    "pronation_df['Label'] = ['Pronation']*n_pronation\n",
    "radial_df['Label'] = ['Radial']*n_radial"
   ]
  },
  {
   "cell_type": "code",
   "execution_count": 96,
   "metadata": {},
   "outputs": [
    {
     "name": "stdout",
     "output_type": "stream",
     "text": [
      "(6614180, 6)\n"
     ]
    },
    {
     "data": {
      "text/html": [
       "<div>\n",
       "<style scoped>\n",
       "    .dataframe tbody tr th:only-of-type {\n",
       "        vertical-align: middle;\n",
       "    }\n",
       "\n",
       "    .dataframe tbody tr th {\n",
       "        vertical-align: top;\n",
       "    }\n",
       "\n",
       "    .dataframe thead th {\n",
       "        text-align: right;\n",
       "    }\n",
       "</style>\n",
       "<table border=\"1\" class=\"dataframe\">\n",
       "  <thead>\n",
       "    <tr style=\"text-align: right;\">\n",
       "      <th></th>\n",
       "      <th>IM EMG2</th>\n",
       "      <th>IM EMG4</th>\n",
       "      <th>IM EMG5</th>\n",
       "      <th>IM EMG6</th>\n",
       "      <th>IM EMG7</th>\n",
       "      <th>Label</th>\n",
       "    </tr>\n",
       "  </thead>\n",
       "  <tbody>\n",
       "    <tr>\n",
       "      <th>0</th>\n",
       "      <td>-0.000013</td>\n",
       "      <td>-0.000006</td>\n",
       "      <td>-0.000009</td>\n",
       "      <td>0.000014</td>\n",
       "      <td>-0.000038</td>\n",
       "      <td>Pronation</td>\n",
       "    </tr>\n",
       "    <tr>\n",
       "      <th>1</th>\n",
       "      <td>0.000004</td>\n",
       "      <td>0.000003</td>\n",
       "      <td>-0.000007</td>\n",
       "      <td>0.000016</td>\n",
       "      <td>-0.000038</td>\n",
       "      <td>Pronation</td>\n",
       "    </tr>\n",
       "    <tr>\n",
       "      <th>2</th>\n",
       "      <td>0.000004</td>\n",
       "      <td>0.000003</td>\n",
       "      <td>-0.000007</td>\n",
       "      <td>0.000016</td>\n",
       "      <td>-0.000038</td>\n",
       "      <td>Pronation</td>\n",
       "    </tr>\n",
       "    <tr>\n",
       "      <th>3</th>\n",
       "      <td>-0.000008</td>\n",
       "      <td>-0.000004</td>\n",
       "      <td>-0.000008</td>\n",
       "      <td>0.000014</td>\n",
       "      <td>-0.000044</td>\n",
       "      <td>Pronation</td>\n",
       "    </tr>\n",
       "    <tr>\n",
       "      <th>4</th>\n",
       "      <td>-0.000008</td>\n",
       "      <td>-0.000004</td>\n",
       "      <td>-0.000008</td>\n",
       "      <td>0.000014</td>\n",
       "      <td>-0.000044</td>\n",
       "      <td>Pronation</td>\n",
       "    </tr>\n",
       "  </tbody>\n",
       "</table>\n",
       "</div>"
      ],
      "text/plain": [
       "    IM EMG2   IM EMG4   IM EMG5   IM EMG6   IM EMG7      Label\n",
       "0 -0.000013 -0.000006 -0.000009  0.000014 -0.000038  Pronation\n",
       "1  0.000004  0.000003 -0.000007  0.000016 -0.000038  Pronation\n",
       "2  0.000004  0.000003 -0.000007  0.000016 -0.000038  Pronation\n",
       "3 -0.000008 -0.000004 -0.000008  0.000014 -0.000044  Pronation\n",
       "4 -0.000008 -0.000004 -0.000008  0.000014 -0.000044  Pronation"
      ]
     },
     "execution_count": 96,
     "metadata": {},
     "output_type": "execute_result"
    }
   ],
   "source": [
    "print(pronation_df.shape)\n",
    "pronation_df.head()"
   ]
  },
  {
   "cell_type": "code",
   "execution_count": 97,
   "metadata": {},
   "outputs": [
    {
     "name": "stdout",
     "output_type": "stream",
     "text": [
      "(2969208, 6)\n"
     ]
    },
    {
     "data": {
      "text/html": [
       "<div>\n",
       "<style scoped>\n",
       "    .dataframe tbody tr th:only-of-type {\n",
       "        vertical-align: middle;\n",
       "    }\n",
       "\n",
       "    .dataframe tbody tr th {\n",
       "        vertical-align: top;\n",
       "    }\n",
       "\n",
       "    .dataframe thead th {\n",
       "        text-align: right;\n",
       "    }\n",
       "</style>\n",
       "<table border=\"1\" class=\"dataframe\">\n",
       "  <thead>\n",
       "    <tr style=\"text-align: right;\">\n",
       "      <th></th>\n",
       "      <th>IM EMG2</th>\n",
       "      <th>IM EMG4</th>\n",
       "      <th>IM EMG5</th>\n",
       "      <th>IM EMG6</th>\n",
       "      <th>IM EMG7</th>\n",
       "      <th>Label</th>\n",
       "    </tr>\n",
       "  </thead>\n",
       "  <tbody>\n",
       "    <tr>\n",
       "      <th>0</th>\n",
       "      <td>-0.000020</td>\n",
       "      <td>0.000006</td>\n",
       "      <td>-0.000031</td>\n",
       "      <td>9.829880e-06</td>\n",
       "      <td>-0.000023</td>\n",
       "      <td>Radial</td>\n",
       "    </tr>\n",
       "    <tr>\n",
       "      <th>1</th>\n",
       "      <td>-0.000005</td>\n",
       "      <td>0.000005</td>\n",
       "      <td>-0.000021</td>\n",
       "      <td>5.743290e-07</td>\n",
       "      <td>-0.000022</td>\n",
       "      <td>Radial</td>\n",
       "    </tr>\n",
       "    <tr>\n",
       "      <th>2</th>\n",
       "      <td>-0.000005</td>\n",
       "      <td>0.000005</td>\n",
       "      <td>-0.000021</td>\n",
       "      <td>5.743290e-07</td>\n",
       "      <td>-0.000022</td>\n",
       "      <td>Radial</td>\n",
       "    </tr>\n",
       "    <tr>\n",
       "      <th>3</th>\n",
       "      <td>-0.000034</td>\n",
       "      <td>0.000005</td>\n",
       "      <td>-0.000022</td>\n",
       "      <td>-4.530290e-06</td>\n",
       "      <td>-0.000018</td>\n",
       "      <td>Radial</td>\n",
       "    </tr>\n",
       "    <tr>\n",
       "      <th>4</th>\n",
       "      <td>-0.000034</td>\n",
       "      <td>0.000005</td>\n",
       "      <td>-0.000022</td>\n",
       "      <td>-4.530290e-06</td>\n",
       "      <td>-0.000018</td>\n",
       "      <td>Radial</td>\n",
       "    </tr>\n",
       "  </tbody>\n",
       "</table>\n",
       "</div>"
      ],
      "text/plain": [
       "    IM EMG2   IM EMG4   IM EMG5       IM EMG6   IM EMG7   Label\n",
       "0 -0.000020  0.000006 -0.000031  9.829880e-06 -0.000023  Radial\n",
       "1 -0.000005  0.000005 -0.000021  5.743290e-07 -0.000022  Radial\n",
       "2 -0.000005  0.000005 -0.000021  5.743290e-07 -0.000022  Radial\n",
       "3 -0.000034  0.000005 -0.000022 -4.530290e-06 -0.000018  Radial\n",
       "4 -0.000034  0.000005 -0.000022 -4.530290e-06 -0.000018  Radial"
      ]
     },
     "execution_count": 97,
     "metadata": {},
     "output_type": "execute_result"
    }
   ],
   "source": [
    "print(radial_df.shape)\n",
    "radial_df.head()"
   ]
  },
  {
   "cell_type": "markdown",
   "metadata": {},
   "source": [
    "### No Normalization (Method 2) [Works]"
   ]
  },
  {
   "cell_type": "code",
   "execution_count": 98,
   "metadata": {},
   "outputs": [],
   "source": [
    "pronation_df_normalized = pronation_df.drop(['Label'],1)\n",
    "radial_df_normalized = radial_df.drop(['Label'],1)"
   ]
  },
  {
   "cell_type": "markdown",
   "metadata": {},
   "source": [
    "### Normalization of data by sequence (Method 1)\n",
    "Normalize w.r.t every 20 steps of data because while implementing this classifier model in realtime system with 20khz frequency, the incoming (20 steps X 5 feature) input can only be normalized within itself."
   ]
  },
  {
   "cell_type": "code",
   "execution_count": null,
   "metadata": {},
   "outputs": [],
   "source": [
    "from sklearn.preprocessing import MinMaxScaler\n",
    "\n",
    "def norm_sequence(df,n_steps):\n",
    "    array_df = df.reset_index(drop=True)\n",
    "    array_df = array_df.drop(['Label'],1)\n",
    "    outside = array_df.shape[0]%n_steps  # Check data points outside window\n",
    "    if outside>0:\n",
    "        array_df = array_df.drop(array_df.tail(outside).index,0) # Remove data points outside window\n",
    "    scaler = MinMaxScaler()\n",
    "    ndata = array_df.loc[0:n_steps-1].values\n",
    "    scaler.fit(ndata)\n",
    "    ndata = scaler.transform(ndata)\n",
    "    array_df.loc[0:n_steps-1] = ndata\n",
    "    for i in range(1,df.shape[0]//n_steps):\n",
    "        scaler = MinMaxScaler()\n",
    "        ndata = array_df.loc[i*n_steps:i*n_steps+(n_steps-1)].values\n",
    "        scaler.fit(ndata)\n",
    "        ndata = scaler.transform(ndata)\n",
    "        array_df.loc[i*n_steps:i*n_steps+(n_steps-1)] = ndata\n",
    "    return array_df\n"
   ]
  },
  {
   "cell_type": "code",
   "execution_count": null,
   "metadata": {},
   "outputs": [],
   "source": [
    "pronation_df_normalized = norm_sequence(pronation_df,20)\n",
    "radial_df_normalized = norm_sequence(radial_df,20)"
   ]
  },
  {
   "cell_type": "code",
   "execution_count": null,
   "metadata": {},
   "outputs": [],
   "source": [
    "pronation_df_normalized.to_csv('pronation_seq_norm.csv',index=False)\n",
    "radial_df_normalized.to_csv('radial_seq_norm.csv',index=False)"
   ]
  },
  {
   "cell_type": "markdown",
   "metadata": {},
   "source": [
    "Fetch Normalized Data from the Saved"
   ]
  },
  {
   "cell_type": "code",
   "execution_count": 73,
   "metadata": {},
   "outputs": [],
   "source": [
    "pronation_df_normalized= pd.read_csv('pronation_seq_norm.csv')\n",
    "radial_df_normalized = pd.read_csv('radial_seq_norm.csv')"
   ]
  },
  {
   "cell_type": "markdown",
   "metadata": {},
   "source": [
    "### Normalization of Whole Data  (Method 3) \n",
    "Normalize the Whole dataframe uniformly"
   ]
  },
  {
   "cell_type": "code",
   "execution_count": null,
   "metadata": {},
   "outputs": [],
   "source": [
    "from sklearn.preprocessing import MinMaxScaler\n",
    "\n",
    "scaler = MinMaxScaler()\n",
    "pronation_values = pronation_df.drop(['Label'],1).values\n",
    "scaler.fit(pronation_values)\n",
    "pronation_df_normalized = pd.DataFrame(scaler.transform(pronation_values))\n",
    "\n",
    "scaler = MinMaxScaler()\n",
    "radial_values = radial_df.drop(['Label'],1).values\n",
    "scaler.fit(radial_values)\n",
    "radial_df_normalized = pd.DataFrame(scaler.transform(radial_values))"
   ]
  },
  {
   "cell_type": "markdown",
   "metadata": {},
   "source": [
    "### Data Prep 20 X 5 Sequence\n",
    "Each Sequence is of shape (20, 5) -> (No.Steps, No.Features)"
   ]
  },
  {
   "cell_type": "code",
   "execution_count": 99,
   "metadata": {},
   "outputs": [],
   "source": [
    "# split a multivariate sequence into samples\n",
    "def split_sequences(df, n_steps,label):\n",
    "#     array_df = df.drop(['Label'],1)\n",
    "    array_df = df\n",
    "    outside = df.shape[0]%n_steps  # Check data points outside window\n",
    "    if outside>0:\n",
    "        array_df = array_df.drop(array_df.tail(outside).index,0) # Remove data points outside window\n",
    "    array = np.array(array_df)\n",
    "    split_list = np.split(array,array.shape[0]/n_steps)\n",
    "    y = np.ones(len(split_list))*label\n",
    "    return np.array(split_list),y"
   ]
  },
  {
   "cell_type": "code",
   "execution_count": 100,
   "metadata": {},
   "outputs": [
    {
     "name": "stdout",
     "output_type": "stream",
     "text": [
      "Pronation - (330709, 20, 5)\n",
      "Radial - (148426, 20, 5)\n"
     ]
    }
   ],
   "source": [
    "X_pronation,y_pronation = split_sequences(pronation_df_normalized,20,0)\n",
    "X_radial,y_radial = split_sequences(radial_df_normalized,20,1)\n",
    "print('Pronation -',X_pronation.shape)\n",
    "print('Radial -',X_radial.shape)"
   ]
  },
  {
   "cell_type": "code",
   "execution_count": 92,
   "metadata": {},
   "outputs": [],
   "source": [
    "from sklearn.utils import shuffle\n",
    "X_pronation,y_pronation = shuffle(X_pronation, y_pronation)"
   ]
  },
  {
   "cell_type": "code",
   "execution_count": 101,
   "metadata": {
    "scrolled": true
   },
   "outputs": [
    {
     "name": "stdout",
     "output_type": "stream",
     "text": [
      "Pronation - (150709, 20, 5)\n",
      "Radial - (148426, 20, 5)\n"
     ]
    }
   ],
   "source": [
    "X_pronation,y_pronation = X_pronation[:-180000],y_pronation[:-180000]\n",
    "X_radial,y_radial = split_sequences(radial_df_normalized,20,1)\n",
    "print('Pronation -',X_pronation.shape)\n",
    "print('Radial -',X_radial.shape)"
   ]
  },
  {
   "cell_type": "markdown",
   "metadata": {},
   "source": [
    "### Merge, Shuffle and Split"
   ]
  },
  {
   "cell_type": "code",
   "execution_count": 102,
   "metadata": {},
   "outputs": [
    {
     "name": "stdout",
     "output_type": "stream",
     "text": [
      "X Train Shape = (239308, 20, 5)\n",
      "Y Train Shape = (239308, 2)\n",
      "X Test Shape = (59827, 20, 5)\n",
      "Y Test Shape = (59827, 2)\n"
     ]
    }
   ],
   "source": [
    "from keras.utils import to_categorical\n",
    "from sklearn.model_selection import train_test_split\n",
    "\n",
    "\n",
    "X = np.vstack((X_pronation,X_radial))\n",
    "y = np.hstack((y_pronation,y_radial))\n",
    "y = to_categorical(y)\n",
    "\n",
    "X_train, X_test, y_train, y_test = train_test_split(X,y,test_size=0.2,shuffle=True)\n",
    "\n",
    "print('X Train Shape =',X_train.shape)\n",
    "print('Y Train Shape =',y_train.shape)\n",
    "print('X Test Shape =',X_test.shape)\n",
    "print('Y Test Shape =',y_test.shape)"
   ]
  },
  {
   "cell_type": "code",
   "execution_count": 103,
   "metadata": {},
   "outputs": [],
   "source": [
    "y_true = []\n",
    "for d in y_test:\n",
    "    if(d[0]==1):\n",
    "        y_true.append(0)\n",
    "    else:\n",
    "        y_true.append(1)\n",
    "y_true = np.array(y_true)"
   ]
  },
  {
   "cell_type": "code",
   "execution_count": 104,
   "metadata": {},
   "outputs": [],
   "source": [
    "import numpy as np\n",
    "import sklearn\n",
    "import pandas as pd\n",
    "import sys\n",
    "import subprocess\n",
    "import tensorflow as tf\n",
    "from InceptionTime.classifiers.inception import Classifier_INCEPTION"
   ]
  },
  {
   "cell_type": "code",
   "execution_count": 127,
   "metadata": {
    "scrolled": true
   },
   "outputs": [
    {
     "name": "stdout",
     "output_type": "stream",
     "text": [
      "Model: \"model_1\"\n",
      "__________________________________________________________________________________________________\n",
      "Layer (type)                    Output Shape         Param #     Connected to                     \n",
      "==================================================================================================\n",
      "input_2 (InputLayer)            [(None, 20, 5)]      0                                            \n",
      "__________________________________________________________________________________________________\n",
      "conv1d_32 (Conv1D)              (None, 20, 32)       160         input_2[0][0]                    \n",
      "__________________________________________________________________________________________________\n",
      "max_pooling1d_6 (MaxPooling1D)  (None, 20, 5)        0           input_2[0][0]                    \n",
      "__________________________________________________________________________________________________\n",
      "conv1d_33 (Conv1D)              (None, 20, 32)       24576       conv1d_32[0][0]                  \n",
      "__________________________________________________________________________________________________\n",
      "conv1d_34 (Conv1D)              (None, 20, 32)       12288       conv1d_32[0][0]                  \n",
      "__________________________________________________________________________________________________\n",
      "conv1d_35 (Conv1D)              (None, 20, 32)       6144        conv1d_32[0][0]                  \n",
      "__________________________________________________________________________________________________\n",
      "conv1d_36 (Conv1D)              (None, 20, 32)       160         max_pooling1d_6[0][0]            \n",
      "__________________________________________________________________________________________________\n",
      "concatenate_6 (Concatenate)     (None, 20, 128)      0           conv1d_33[0][0]                  \n",
      "                                                                 conv1d_34[0][0]                  \n",
      "                                                                 conv1d_35[0][0]                  \n",
      "                                                                 conv1d_36[0][0]                  \n",
      "__________________________________________________________________________________________________\n",
      "batch_normalization_8 (BatchNor (None, 20, 128)      512         concatenate_6[0][0]              \n",
      "__________________________________________________________________________________________________\n",
      "activation_8 (Activation)       (None, 20, 128)      0           batch_normalization_8[0][0]      \n",
      "__________________________________________________________________________________________________\n",
      "conv1d_37 (Conv1D)              (None, 20, 32)       4096        activation_8[0][0]               \n",
      "__________________________________________________________________________________________________\n",
      "max_pooling1d_7 (MaxPooling1D)  (None, 20, 128)      0           activation_8[0][0]               \n",
      "__________________________________________________________________________________________________\n",
      "conv1d_38 (Conv1D)              (None, 20, 32)       24576       conv1d_37[0][0]                  \n",
      "__________________________________________________________________________________________________\n",
      "conv1d_39 (Conv1D)              (None, 20, 32)       12288       conv1d_37[0][0]                  \n",
      "__________________________________________________________________________________________________\n",
      "conv1d_40 (Conv1D)              (None, 20, 32)       6144        conv1d_37[0][0]                  \n",
      "__________________________________________________________________________________________________\n",
      "conv1d_41 (Conv1D)              (None, 20, 32)       4096        max_pooling1d_7[0][0]            \n",
      "__________________________________________________________________________________________________\n",
      "concatenate_7 (Concatenate)     (None, 20, 128)      0           conv1d_38[0][0]                  \n",
      "                                                                 conv1d_39[0][0]                  \n",
      "                                                                 conv1d_40[0][0]                  \n",
      "                                                                 conv1d_41[0][0]                  \n",
      "__________________________________________________________________________________________________\n",
      "batch_normalization_9 (BatchNor (None, 20, 128)      512         concatenate_7[0][0]              \n",
      "__________________________________________________________________________________________________\n",
      "activation_9 (Activation)       (None, 20, 128)      0           batch_normalization_9[0][0]      \n",
      "__________________________________________________________________________________________________\n",
      "conv1d_42 (Conv1D)              (None, 20, 32)       4096        activation_9[0][0]               \n",
      "__________________________________________________________________________________________________\n",
      "max_pooling1d_8 (MaxPooling1D)  (None, 20, 128)      0           activation_9[0][0]               \n",
      "__________________________________________________________________________________________________\n",
      "conv1d_43 (Conv1D)              (None, 20, 32)       24576       conv1d_42[0][0]                  \n",
      "__________________________________________________________________________________________________\n",
      "conv1d_44 (Conv1D)              (None, 20, 32)       12288       conv1d_42[0][0]                  \n",
      "__________________________________________________________________________________________________\n",
      "conv1d_45 (Conv1D)              (None, 20, 32)       6144        conv1d_42[0][0]                  \n",
      "__________________________________________________________________________________________________\n",
      "conv1d_46 (Conv1D)              (None, 20, 32)       4096        max_pooling1d_8[0][0]            \n",
      "__________________________________________________________________________________________________\n",
      "concatenate_8 (Concatenate)     (None, 20, 128)      0           conv1d_43[0][0]                  \n",
      "                                                                 conv1d_44[0][0]                  \n",
      "                                                                 conv1d_45[0][0]                  \n",
      "                                                                 conv1d_46[0][0]                  \n",
      "__________________________________________________________________________________________________\n",
      "conv1d_47 (Conv1D)              (None, 20, 128)      640         input_2[0][0]                    \n",
      "__________________________________________________________________________________________________\n",
      "batch_normalization_10 (BatchNo (None, 20, 128)      512         concatenate_8[0][0]              \n",
      "__________________________________________________________________________________________________\n",
      "batch_normalization_11 (BatchNo (None, 20, 128)      512         conv1d_47[0][0]                  \n",
      "__________________________________________________________________________________________________\n",
      "activation_10 (Activation)      (None, 20, 128)      0           batch_normalization_10[0][0]     \n",
      "__________________________________________________________________________________________________\n",
      "add_2 (Add)                     (None, 20, 128)      0           batch_normalization_11[0][0]     \n",
      "                                                                 activation_10[0][0]              \n",
      "__________________________________________________________________________________________________\n",
      "activation_11 (Activation)      (None, 20, 128)      0           add_2[0][0]                      \n",
      "__________________________________________________________________________________________________\n",
      "conv1d_48 (Conv1D)              (None, 20, 32)       4096        activation_11[0][0]              \n",
      "__________________________________________________________________________________________________\n",
      "max_pooling1d_9 (MaxPooling1D)  (None, 20, 128)      0           activation_11[0][0]              \n",
      "__________________________________________________________________________________________________\n",
      "conv1d_49 (Conv1D)              (None, 20, 32)       24576       conv1d_48[0][0]                  \n",
      "__________________________________________________________________________________________________\n",
      "conv1d_50 (Conv1D)              (None, 20, 32)       12288       conv1d_48[0][0]                  \n",
      "__________________________________________________________________________________________________\n",
      "conv1d_51 (Conv1D)              (None, 20, 32)       6144        conv1d_48[0][0]                  \n",
      "__________________________________________________________________________________________________\n",
      "conv1d_52 (Conv1D)              (None, 20, 32)       4096        max_pooling1d_9[0][0]            \n",
      "__________________________________________________________________________________________________\n",
      "concatenate_9 (Concatenate)     (None, 20, 128)      0           conv1d_49[0][0]                  \n",
      "                                                                 conv1d_50[0][0]                  \n",
      "                                                                 conv1d_51[0][0]                  \n",
      "                                                                 conv1d_52[0][0]                  \n",
      "__________________________________________________________________________________________________\n",
      "batch_normalization_12 (BatchNo (None, 20, 128)      512         concatenate_9[0][0]              \n",
      "__________________________________________________________________________________________________\n",
      "activation_12 (Activation)      (None, 20, 128)      0           batch_normalization_12[0][0]     \n",
      "__________________________________________________________________________________________________\n",
      "conv1d_53 (Conv1D)              (None, 20, 32)       4096        activation_12[0][0]              \n",
      "__________________________________________________________________________________________________\n",
      "max_pooling1d_10 (MaxPooling1D) (None, 20, 128)      0           activation_12[0][0]              \n",
      "__________________________________________________________________________________________________\n",
      "conv1d_54 (Conv1D)              (None, 20, 32)       24576       conv1d_53[0][0]                  \n",
      "__________________________________________________________________________________________________\n",
      "conv1d_55 (Conv1D)              (None, 20, 32)       12288       conv1d_53[0][0]                  \n",
      "__________________________________________________________________________________________________\n",
      "conv1d_56 (Conv1D)              (None, 20, 32)       6144        conv1d_53[0][0]                  \n",
      "__________________________________________________________________________________________________\n",
      "conv1d_57 (Conv1D)              (None, 20, 32)       4096        max_pooling1d_10[0][0]           \n",
      "__________________________________________________________________________________________________\n",
      "concatenate_10 (Concatenate)    (None, 20, 128)      0           conv1d_54[0][0]                  \n",
      "                                                                 conv1d_55[0][0]                  \n",
      "                                                                 conv1d_56[0][0]                  \n",
      "                                                                 conv1d_57[0][0]                  \n",
      "__________________________________________________________________________________________________\n",
      "batch_normalization_13 (BatchNo (None, 20, 128)      512         concatenate_10[0][0]             \n",
      "__________________________________________________________________________________________________\n",
      "activation_13 (Activation)      (None, 20, 128)      0           batch_normalization_13[0][0]     \n",
      "__________________________________________________________________________________________________\n",
      "conv1d_58 (Conv1D)              (None, 20, 32)       4096        activation_13[0][0]              \n",
      "__________________________________________________________________________________________________\n",
      "max_pooling1d_11 (MaxPooling1D) (None, 20, 128)      0           activation_13[0][0]              \n",
      "__________________________________________________________________________________________________\n",
      "conv1d_59 (Conv1D)              (None, 20, 32)       24576       conv1d_58[0][0]                  \n",
      "__________________________________________________________________________________________________\n",
      "conv1d_60 (Conv1D)              (None, 20, 32)       12288       conv1d_58[0][0]                  \n",
      "__________________________________________________________________________________________________\n",
      "conv1d_61 (Conv1D)              (None, 20, 32)       6144        conv1d_58[0][0]                  \n",
      "__________________________________________________________________________________________________\n",
      "conv1d_62 (Conv1D)              (None, 20, 32)       4096        max_pooling1d_11[0][0]           \n",
      "__________________________________________________________________________________________________\n",
      "concatenate_11 (Concatenate)    (None, 20, 128)      0           conv1d_59[0][0]                  \n",
      "                                                                 conv1d_60[0][0]                  \n",
      "                                                                 conv1d_61[0][0]                  \n",
      "                                                                 conv1d_62[0][0]                  \n",
      "__________________________________________________________________________________________________\n",
      "conv1d_63 (Conv1D)              (None, 20, 128)      16384       activation_11[0][0]              \n",
      "__________________________________________________________________________________________________\n",
      "batch_normalization_14 (BatchNo (None, 20, 128)      512         concatenate_11[0][0]             \n",
      "__________________________________________________________________________________________________\n",
      "batch_normalization_15 (BatchNo (None, 20, 128)      512         conv1d_63[0][0]                  \n",
      "__________________________________________________________________________________________________\n",
      "activation_14 (Activation)      (None, 20, 128)      0           batch_normalization_14[0][0]     \n",
      "__________________________________________________________________________________________________\n",
      "add_3 (Add)                     (None, 20, 128)      0           batch_normalization_15[0][0]     \n",
      "                                                                 activation_14[0][0]              \n",
      "__________________________________________________________________________________________________\n",
      "activation_15 (Activation)      (None, 20, 128)      0           add_3[0][0]                      \n",
      "__________________________________________________________________________________________________\n",
      "global_average_pooling1d_1 (Glo (None, 128)          0           activation_15[0][0]              \n",
      "__________________________________________________________________________________________________\n",
      "dense_1 (Dense)                 (None, 2)            258         global_average_pooling1d_1[0][0] \n",
      "==================================================================================================\n",
      "Total params: 320,706\n",
      "Trainable params: 318,658\n",
      "Non-trainable params: 2,048\n",
      "__________________________________________________________________________________________________\n"
     ]
    }
   ],
   "source": [
    " clf = Classifier_INCEPTION('', (X_train.shape[1],X_train.shape[2]),nb_classes=2,\n",
    "                            verbose=True,batch_size=16,nb_epochs=50,nb_filters=32,\n",
    "                            depth=6, kernel_size=25)"
   ]
  },
  {
   "cell_type": "code",
   "execution_count": 128,
   "metadata": {
    "scrolled": true
   },
   "outputs": [
    {
     "name": "stdout",
     "output_type": "stream",
     "text": [
      "Epoch 1/50\n",
      "14957/14957 [==============================] - 328s 22ms/step - loss: 0.5604 - accuracy: 0.7137 - val_loss: 0.5385 - val_accuracy: 0.7324 - lr: 0.0010\n",
      "Epoch 2/50\n",
      "14957/14957 [==============================] - 327s 22ms/step - loss: 0.4961 - accuracy: 0.7596 - val_loss: 0.5063 - val_accuracy: 0.7617 - lr: 0.0010\n",
      "Epoch 3/50\n",
      "14957/14957 [==============================] - 336s 22ms/step - loss: 0.4586 - accuracy: 0.7821 - val_loss: 0.4824 - val_accuracy: 0.7718 - lr: 0.0010\n",
      "Epoch 4/50\n",
      "14957/14957 [==============================] - 328s 22ms/step - loss: 0.4332 - accuracy: 0.7955 - val_loss: 0.4794 - val_accuracy: 0.7796 - lr: 0.0010\n",
      "Epoch 5/50\n",
      "14957/14957 [==============================] - 326s 22ms/step - loss: 0.4078 - accuracy: 0.8094 - val_loss: 0.4246 - val_accuracy: 0.8066 - lr: 0.0010\n",
      "Epoch 6/50\n",
      "14957/14957 [==============================] - 327s 22ms/step - loss: 0.3868 - accuracy: 0.8203 - val_loss: 0.4009 - val_accuracy: 0.8135 - lr: 0.0010\n",
      "Epoch 7/50\n",
      "14957/14957 [==============================] - 327s 22ms/step - loss: 0.3738 - accuracy: 0.8262 - val_loss: 0.3771 - val_accuracy: 0.8269 - lr: 0.0010\n",
      "Epoch 8/50\n",
      "14957/14957 [==============================] - 319s 21ms/step - loss: 0.3634 - accuracy: 0.8325 - val_loss: 0.4051 - val_accuracy: 0.8169 - lr: 0.0010\n",
      "Epoch 9/50\n",
      "14957/14957 [==============================] - 307s 21ms/step - loss: 0.3563 - accuracy: 0.8353 - val_loss: 0.3972 - val_accuracy: 0.8184 - lr: 0.0010acy\n",
      "Epoch 10/50\n",
      "14957/14957 [==============================] - 310s 21ms/step - loss: 0.3498 - accuracy: 0.8391 - val_loss: 0.3578 - val_accuracy: 0.8349 - lr: 0.0010: 39s - loss: 0.3496 - accuracy: 0.8 - ETA: 38s - loss: 0.3496\n",
      "Epoch 11/50\n",
      "14957/14957 [==============================] - 306s 20ms/step - loss: 0.3412 - accuracy: 0.8429 - val_loss: 0.3599 - val_accuracy: 0.8351 - lr: 0.0010- accu\n",
      "Epoch 12/50\n",
      "14957/14957 [==============================] - 311s 21ms/step - loss: 0.3344 - accuracy: 0.8456 - val_loss: 0.3551 - val_accuracy: 0.8391 - lr: 0.0010\n",
      "Epoch 13/50\n",
      "14957/14957 [==============================] - 307s 21ms/step - loss: 0.3272 - accuracy: 0.8492 - val_loss: 0.3492 - val_accuracy: 0.8384 - lr: 0.0010 \n",
      "Epoch 14/50\n",
      "14957/14957 [==============================] - 309s 21ms/step - loss: 0.3193 - accuracy: 0.8541 - val_loss: 0.3402 - val_accuracy: 0.8459 - lr: 0.0010\n",
      "Epoch 15/50\n",
      "14957/14957 [==============================] - 312s 21ms/step - loss: 0.3116 - accuracy: 0.8580 - val_loss: 0.3610 - val_accuracy: 0.8329 - lr: 0.0010\n",
      "Epoch 16/50\n",
      "14957/14957 [==============================] - 305s 20ms/step - loss: 0.3024 - accuracy: 0.8626 - val_loss: 0.3218 - val_accuracy: 0.8580 - lr: 0.0010\n",
      "Epoch 17/50\n",
      "14957/14957 [==============================] - 307s 21ms/step - loss: 0.2918 - accuracy: 0.8684 - val_loss: 0.3636 - val_accuracy: 0.8280 - lr: 0.0010: 0.2918 - accura\n",
      "Epoch 18/50\n",
      "14957/14957 [==============================] - 319s 21ms/step - loss: 0.2819 - accuracy: 0.8740 - val_loss: 0.3525 - val_accuracy: 0.8302 - lr: 0.0010\n",
      "Epoch 19/50\n",
      "14957/14957 [==============================] - 320s 21ms/step - loss: 0.2736 - accuracy: 0.8774 - val_loss: 0.3342 - val_accuracy: 0.8476 - lr: 0.0010\n",
      "Epoch 20/50\n",
      "14957/14957 [==============================] - 309s 21ms/step - loss: 0.2666 - accuracy: 0.8813 - val_loss: 0.3599 - val_accuracy: 0.8299 - lr: 0.0010\n",
      "Epoch 21/50\n",
      "14957/14957 [==============================] - 312s 21ms/step - loss: 0.2608 - accuracy: 0.8842 - val_loss: 0.3438 - val_accuracy: 0.8378 - lr: 0.00102607 - accurac - ETA: 26s - loss: 0.2606 - accuracy: 0 - ETA: 25s - loss: 0.2 - ETA: 24s - loss: 0.260 - ETA: 20s - loss: 0.2608 - accuracy: 0.88 - ETA: 20s - loss: 0.2608 - - ETA: 19s - loss: 0.2610 - ETA: 18s -  -\n",
      "Epoch 22/50\n",
      "14957/14957 [==============================] - 308s 21ms/step - loss: 0.2540 - accuracy: 0.8875 - val_loss: 0.3307 - val_accuracy: 0.8448 - lr: 0.0010\n",
      "Epoch 23/50\n",
      "14957/14957 [==============================] - 311s 21ms/step - loss: 0.2495 - accuracy: 0.8897 - val_loss: 0.3924 - val_accuracy: 0.8144 - lr: 0.0010A: 37s - loss: 0.2499 - accuracy: - ETA: 36s - loss: 0.2499 - ETA: 35s - - ETA: 33s - loss: 0.2499 - accu - ETA: 33s - loss: 0.2499 - accuracy: 0 - ETA: 32s - loss: 0.2499  - ETA: 31s - loss: 0.2499 - accur\n",
      "Epoch 24/50\n",
      "14957/14957 [==============================] - 309s 21ms/step - loss: 0.2450 - accuracy: 0.8916 - val_loss: 0.3671 - val_accuracy: 0.8295 - lr: 0.0010450 - acc - ETA: 46s - loss: 0.2450 - accuracy: 0. - ETA: 46s - loss: 0.2450 - accuracy: 0.89 - ETA: 45s - loss: 0.24 - ETA: 44s - loss: 0.24  - ETA: 40s - loss:  - ETA: 39s - loss: 0.2449 - accurac - ETA: 38s - loss: 0.2 - E\n",
      "Epoch 25/50\n",
      "14957/14957 [==============================] - 310s 21ms/step - loss: 0.2400 - accuracy: 0.8946 - val_loss: 0.3693 - val_accuracy: 0.8278 - lr: 0.0010\n",
      "Epoch 26/50\n",
      "14957/14957 [==============================] - 308s 21ms/step - loss: 0.2356 - accuracy: 0.8969 - val_loss: 0.4121 - val_accuracy: 0.8164 - lr: 0.0010\n",
      "Epoch 27/50\n",
      "14957/14957 [==============================] - 310s 21ms/step - loss: 0.2320 - accuracy: 0.8988 - val_loss: 0.3689 - val_accuracy: 0.8275 - lr: 0.0010 ETA: 27s - loss: 0.2316 - accuracy: 0. - ETA: 27s - los - ETA: 25s - loss: 0.23 - ETA: 24s - l - ETA: 1s - loss: 0.2319 - accura\n",
      "Epoch 28/50\n",
      "14957/14957 [==============================] - 310s 21ms/step - loss: 0.2288 - accuracy: 0.9002 - val_loss: 0.3548 - val_accuracy: 0.8357 - lr: 0.0010loss: 0.2286 - - ETA: 45s - loss: 0.2284 - ac - ETA: 42s - loss: 0.2285 - accuracy: 0.90 - ETA: 42s - loss: 0.2284 - accura - ET\n",
      "Epoch 29/50\n",
      "14957/14957 [==============================] - 309s 21ms/step - loss: 0.2248 - accuracy: 0.9023 - val_loss: 0.3701 - val_accuracy: 0.8321 - lr: 0.0010\n",
      "Epoch 30/50\n",
      "14957/14957 [==============================] - 304s 20ms/step - loss: 0.2211 - accuracy: 0.9038 - val_loss: 0.4180 - val_accuracy: 0.8174 - lr: 0.0010\n",
      "Epoch 31/50\n",
      "14957/14957 [==============================] - 311s 21ms/step - loss: 0.2177 - accuracy: 0.9054 - val_loss: 0.3676 - val_accuracy: 0.8359 - lr: 0.0010 - ETA: 33s - loss: 0.2187 - accuracy: - ETA: 33s - loss: - ETA: 31s - loss: 0.2187 - accur - ETA: 30s - loss: 0.2187 - accuracy: 0.905 - ETA: 30s - loss: 0.2187 - ETA: 1s - loss: 0.2178 - accuracy: 0.90 - ETA: \n",
      "Epoch 32/50\n",
      "14957/14957 [==============================] - 309s 21ms/step - loss: 0.2150 - accuracy: 0.9065 - val_loss: 0.3793 - val_accuracy: 0.8261 - lr: 0.0010\n",
      "Epoch 33/50\n",
      "14957/14957 [==============================] - 310s 21ms/step - loss: 0.2108 - accuracy: 0.9093 - val_loss: 0.3604 - val_accuracy: 0.8385 - lr: 0.0010\n",
      "Epoch 34/50\n",
      "14957/14957 [==============================] - 311s 21ms/step - loss: 0.2082 - accuracy: 0.9100 - val_loss: 0.3870 - val_accuracy: 0.8319 - lr: 0.0010 ETA: 13s - loss - ETA - ETA: 8s - loss: 0.2082 - accuracy:  - ETA: 7s - loss: 0 - ETA: 0s - loss: 0.2081 - accuracy: 0.91 - ETA: 0s - loss: 0.208\n",
      "Epoch 35/50\n",
      "14957/14957 [==============================] - 307s 21ms/step - loss: 0.2058 - accuracy: 0.9114 - val_loss: 0.4180 - val_accuracy: 0.8217 - lr: 0.0010\n",
      "Epoch 36/50\n",
      "14957/14957 [==============================] - 309s 21ms/step - loss: 0.2025 - accuracy: 0.9123 - val_loss: 0.3669 - val_accuracy: 0.8323 - lr: 0.0010.2 - ETA: 24s - loss: 0.2025 - accura - ETA: 24s - loss: 0.2025 - accura - ETA: 23s - loss: 0.2024 - accurac - ETA: 23s - loss: 0.2024 - accuracy: 0.9 - ETA: 23s - loss: 0.2024 - - ETA: 1s - loss: 0.2025 - accuracy: 0.91 - ETA: 1s - loss: 0.2025 - accura - ETA: 0s\n",
      "Epoch 37/50\n",
      "14957/14957 [==============================] - 309s 21ms/step - loss: 0.1998 - accuracy: 0.9149 - val_loss: 0.3814 - val_accuracy: 0.8322 - lr: 0.0010ccuracy: 0 - ETA: 41s - loss: 0.1986 - accuracy: 0.91 - ETA: 41s - loss:  - - ETA: 34s - loss: 0.1988 - ac - ETA: 33s - loss: 0.1988  - ETA: 32s - loss: 0.1989 - accuracy: 0. - ETA: 32s - loss: 0.1989 - accuracy:  - ETA: 32s - loss: 0.19 - ETA: 30s - loss: 0.1991 - accura - ETA: 30s - loss: 0 - ETA: 28s - loss:  - ETA: 27s - loss: 0.1993 -  - ETA: 26s - loss: 0.1993 - accurac - ETA: 25s - loss: 0.1993 - accuracy: 0.91 - ETA: 25s - loss:  - ETA: 24s - loss: 0.1994 - accuracy - ETA: 23s - lo - - ETA: 19s - loss: 0.1994 - accuracy: 0.915 - ETA: 18s - loss: 0.1994 - accu - ETA: 18s - loss: 0.1995 - accuracy: 0.915 - ETA: 18s - loss: 0.1995 - accuracy: 0 - ETA: 17s - loss: 0.1996 - accu - ETA: 8s - loss: 0.1998 - accuracy - - ETA: 5s - loss: 0 - ETA: 3s - loss: 0.1998 - accuracy: 0.91 - ETA: 3s - loss: 0.1\n",
      "Epoch 38/50\n",
      "14957/14957 [==============================] - 308s 21ms/step - loss: 0.1981 - accuracy: 0.9149 - val_loss: 0.3656 - val_accuracy: 0.8324 - lr: 0.0010\n",
      "Epoch 39/50\n",
      "14957/14957 [==============================] - 309s 21ms/step - loss: 0.1955 - accuracy: 0.9162 - val_loss: 0.4059 - val_accuracy: 0.8303 - lr: 0.0010\n",
      "Epoch 40/50\n",
      "14957/14957 [==============================] - 311s 21ms/step - loss: 0.1929 - accuracy: 0.9178 - val_loss: 0.3817 - val_accuracy: 0.8319 - lr: 0.0010: 0.1930 - accu - ETA: 38s - - ETA: 28s - loss - ETA: 27s - loss: 0.1927 - accuracy:  - ETA: 26s - loss: 0.1926 - - ETA: 23s - loss: 0.1926 - accuracy:  - ETA: 22s - - ETA: 15s - loss: 0.1928  - ETA: 11s - loss: 0.1929 - accuracy - ETA: 0s - loss: 0.1929 - accuracy: \n",
      "Epoch 41/50\n",
      "14957/14957 [==============================] - 309s 21ms/step - loss: 0.1898 - accuracy: 0.9191 - val_loss: 0.4282 - val_accuracy: 0.8273 - lr: 0.0010\n",
      "Epoch 42/50\n",
      "14957/14957 [==============================] - 313s 21ms/step - loss: 0.1880 - accuracy: 0.9200 - val_loss: 0.3424 - val_accuracy: 0.8478 - lr: 0.0010ETA: 30s - loss: 0.1874 - accuracy:  - ETA: 30s - loss: 0.1873 - accu - ETA - ETA: 27s - l\n",
      "Epoch 43/50\n",
      "14957/14957 [==============================] - 311s 21ms/step - loss: 0.1859 - accuracy: 0.9206 - val_loss: 0.3865 - val_accuracy: 0.8319 - lr: 0.0010\n",
      "Epoch 44/50\n",
      "14957/14957 [==============================] - 309s 21ms/step - loss: 0.1825 - accuracy: 0.9219 - val_loss: 0.4602 - val_accuracy: 0.8185 - lr: 0.0010loss: 0.1818 -  - ETA: 51s - loss: 0.1818 - accuracy: 0. - E - ETA: 40s - loss: 0.1821 - accur - ETA: 40s - loss: 0.1822 - accu - ETA: 34s - loss: 0.1821 -  - ETA: 33s - loss: 0.1821 - accu - ETA: 32s - loss:  - ETA: 30 - ETA: 4s - loss: 0.1825  - ETA: 4s - - ETA: 3s - - ETA:  - ETA: 0s\n",
      "Epoch 45/50\n",
      "14957/14957 [==============================] - 309s 21ms/step - loss: 0.1813 - accuracy: 0.9232 - val_loss: 0.3831 - val_accuracy: 0.8382 - lr: 0.0010\n",
      "Epoch 46/50\n",
      "14957/14957 [==============================] - 308s 21ms/step - loss: 0.1786 - accuracy: 0.9239 - val_loss: 0.4276 - val_accuracy: 0.8241 - lr: 0.0010\n",
      "Epoch 47/50\n",
      "14957/14957 [==============================] - 309s 21ms/step - loss: 0.1764 - accuracy: 0.9252 - val_loss: 0.3826 - val_accuracy: 0.8362 - lr: 0.0010\n",
      "Epoch 48/50\n",
      "14957/14957 [==============================] - 309s 21ms/step - loss: 0.1745 - accuracy: 0.9261 - val_loss: 0.3619 - val_accuracy: 0.8439 - lr: 0.0010cy: \n",
      "Epoch 49/50\n",
      "14957/14957 [==============================] - 311s 21ms/step - loss: 0.1725 - accuracy: 0.9267 - val_loss: 0.4133 - val_accuracy: 0.8277 - lr: 0.0010\n",
      "Epoch 50/50\n",
      "14957/14957 [==============================] - 308s 21ms/step - loss: 0.1705 - accuracy: 0.9280 - val_loss: 0.3810 - val_accuracy: 0.8412 - lr: 0.0010y: 0.9 - ETA: 28s - loss: 0 - ETA: 27s - loss: 0.1705 - accura - ETA: 26s  - ETA: 2s - loss: 0.1705 - accuracy: 0.\n"
     ]
    }
   ],
   "source": [
    "df_metrics = clf.fit(X_train, y_train, X_test, y_test, y_true,plot_test_acc=True)"
   ]
  },
  {
   "cell_type": "markdown",
   "metadata": {},
   "source": [
    "## Plot Results"
   ]
  },
  {
   "cell_type": "code",
   "execution_count": 131,
   "metadata": {},
   "outputs": [],
   "source": [
    "%matplotlib inline\n",
    "metrics_df = pd.read_csv('df_metrics.csv')\n",
    "best_model_df = pd.read_csv('df_best_model.csv')\n",
    "history_df = pd.read_csv('history.csv')"
   ]
  },
  {
   "cell_type": "code",
   "execution_count": 132,
   "metadata": {},
   "outputs": [
    {
     "data": {
      "text/html": [
       "<div>\n",
       "<style scoped>\n",
       "    .dataframe tbody tr th:only-of-type {\n",
       "        vertical-align: middle;\n",
       "    }\n",
       "\n",
       "    .dataframe tbody tr th {\n",
       "        vertical-align: top;\n",
       "    }\n",
       "\n",
       "    .dataframe thead th {\n",
       "        text-align: right;\n",
       "    }\n",
       "</style>\n",
       "<table border=\"1\" class=\"dataframe\">\n",
       "  <thead>\n",
       "    <tr style=\"text-align: right;\">\n",
       "      <th></th>\n",
       "      <th>precision</th>\n",
       "      <th>accuracy</th>\n",
       "      <th>recall</th>\n",
       "      <th>duration</th>\n",
       "    </tr>\n",
       "  </thead>\n",
       "  <tbody>\n",
       "    <tr>\n",
       "      <th>0</th>\n",
       "      <td>0.846843</td>\n",
       "      <td>0.973226</td>\n",
       "      <td>0.84051</td>\n",
       "      <td>15629.00765</td>\n",
       "    </tr>\n",
       "  </tbody>\n",
       "</table>\n",
       "</div>"
      ],
      "text/plain": [
       "   precision  accuracy   recall     duration\n",
       "0   0.846843  0.973226  0.84051  15629.00765"
      ]
     },
     "execution_count": 132,
     "metadata": {},
     "output_type": "execute_result"
    }
   ],
   "source": [
    "metrics_df"
   ]
  },
  {
   "cell_type": "code",
   "execution_count": 21,
   "metadata": {},
   "outputs": [
    {
     "data": {
      "text/plain": [
       "<AxesSubplot:title={'center':'Loss'}>"
      ]
     },
     "execution_count": 21,
     "metadata": {},
     "output_type": "execute_result"
    },
    {
     "data": {
      "image/png": "[encoded data removed]",
      "text/plain": [
       "<Figure size 1008x576 with 1 Axes>"
      ]
     },
     "metadata": {
      "needs_background": "light"
     },
     "output_type": "display_data"
    },
    {
     "data": {
      "image/png": "[encoded data removed]",
      "text/plain": [
       "<Figure size 1008x576 with 1 Axes>"
      ]
     },
     "metadata": {
      "needs_background": "light"
     },
     "output_type": "display_data"
    }
   ],
   "source": [
    "history_df[['accuracy','val_accuracy']].plot(figsize=(14,8),title='Accuracy',grid=True,fontsize=15)\n",
    "history_df[['loss','val_loss']].plot(figsize=(14,8),title='Loss',grid=True,fontsize=15)"
   ]
  },
  {
   "cell_type": "markdown",
   "metadata": {},
   "source": [
    "# Import Model and Classify Function Definition"
   ]
  },
  {
   "cell_type": "code",
   "execution_count": null,
   "metadata": {},
   "outputs": [],
   "source": [
    "from keras.models import load_model\n",
    "from sklearn.preprocessing import MinMaxScaler\n",
    "\n",
    "model = load_model('best_model_93.hdf5')\n",
    "# model.summary()\n",
    "\n",
    "def classify_emg(data):\n",
    "    data = np.array(data) \n",
    "    data = np.reshape(data,(1,20,5))\n",
    "    pred = model.predict(data,batch_size=1)[0]\n",
    "#     print(pred)\n",
    "    if(pred[0]>pred[1]):\n",
    "        return 'Pronation'\n",
    "    else:\n",
    "        return 'Radial'"
   ]
  },
  {
   "cell_type": "markdown",
   "metadata": {},
   "source": [
    "## Real time CNN Classifier Example\n",
    "**Input Data** - The single Input data matrix sent in 20Khz freaquency,Has rows as time steps and columns as feature"
   ]
  },
  {
   "cell_type": "markdown",
   "metadata": {},
   "source": [
    "### Input Sequence Data from DF"
   ]
  },
  {
   "cell_type": "code",
   "execution_count": null,
   "metadata": {
    "scrolled": false
   },
   "outputs": [],
   "source": [
    "# Total Pronation sequences = 330709\n",
    "# Total Radial sequences = 148426 \n",
    "\n",
    "sequence = 50 \n",
    "\n",
    "df = pronation_df.reset_index(drop=True)\n",
    "# df = radial_df.reset_index(drop=True)\n",
    "\n",
    "data = df.loc[sequence*10:sequence*10+19] # The 20 step data Input Matrix\n",
    "print('Input Data')\n",
    "print(data.drop(['Label'],1).shape)\n",
    "data"
   ]
  },
  {
   "cell_type": "code",
   "execution_count": null,
   "metadata": {},
   "outputs": [],
   "source": [
    "print('True = ',data['Label'].tolist()[0])\n",
    "data = data.drop(['Label'],1)\n",
    "print('Predicted = ',classify_emg(data)) # Predict"
   ]
  },
  {
   "cell_type": "markdown",
   "metadata": {},
   "source": [
    "### with Testing Dataset"
   ]
  },
  {
   "cell_type": "code",
   "execution_count": null,
   "metadata": {},
   "outputs": [],
   "source": [
    "n = 2 \n",
    "data = X_test[n] \n",
    "true = y_test[n]\n",
    "print('Input shape = ',data.shape)\n"
   ]
  },
  {
   "cell_type": "code",
   "execution_count": null,
   "metadata": {},
   "outputs": [],
   "source": [
    "if(true[0]==1):\n",
    "    print('True = Pronation')\n",
    "else:\n",
    "    print('True = Radial')\n",
    "print('Predicted = ',classify_emg(data)) # Predict"
   ]
  }
 ],
 "metadata": {
  "kernelspec": {
   "display_name": "Python 3.8.0 64-bit",
   "language": "python",
   "name": "python38064bitcaed634bb72a48a5bf9eda0dc4f94389"
  },
  "language_info": {
   "codemirror_mode": {
    "name": "ipython",
    "version": 3
   },
   "file_extension": ".py",
   "mimetype": "text/x-python",
   "name": "python",
   "nbconvert_exporter": "python",
   "pygments_lexer": "ipython3",
   "version": "3.8.5"
  }
 },
 "nbformat": 4,
 "nbformat_minor": 4
}
